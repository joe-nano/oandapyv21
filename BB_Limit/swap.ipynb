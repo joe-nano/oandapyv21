{
 "cells": [
  {
   "cell_type": "markdown",
   "metadata": {},
   "source": [
    "# スワップ獲り太郎"
   ]
  },
  {
   "cell_type": "code",
   "execution_count": 1,
   "metadata": {
    "code_folding": []
   },
   "outputs": [],
   "source": [
    "import datetime\n",
    "from math import floor\n",
    "import pprint\n",
    "import schedule\n",
    "from statistics import mean\n",
    "from statistics import median\n",
    "from statistics import StatisticsError\n",
    "import sys\n",
    "import time\n",
    "import pandas as pd\n",
    "import numpy as np\n",
    "import matplotlib.pyplot as plt\n",
    "%matplotlib inline\n",
    "plt.rcParams['font.family'] = 'IPAPGothic'\n",
    "from oandapyV20 import API\n",
    "from oandapyV20.exceptions import V20Error\n",
    "import oandapyV20.endpoints.instruments as instruments\n",
    "import oandapyV20.endpoints.accounts as accounts\n",
    "import oandapyV20.endpoints.orders as orders\n",
    "import oandapyV20.endpoints.positions as positions\n",
    "import oandapyV20.endpoints.pricing as pricing\n",
    "from oandapyV20.endpoints.pricing import PricingInfo\n",
    "from oandapyV20.contrib.requests import (MarketOrderRequest, StopLossDetails)\n",
    "import oandapyV20.endpoints.forexlabs as labs\n",
    "from selenium import webdriver\n",
    "from selenium.webdriver.support.ui import WebDriverWait\n",
    "from selenium.webdriver.support import expected_conditions as EC\n",
    "from selenium.webdriver.common.by import By\n",
    "import selenium.common.exceptions as selex\n",
    "\n",
    "sys.path.append('../')\n",
    "from oandapyV21 import *\n",
    "\n",
    "# OANDA API v20の口座IDとAPIトークン(房林蛇ver)\n",
    "accountID = \"101-009-13234797-001\"\n",
    "access_token = \"9739ebcc49088322e07e334ad3697b04-16314025c95d08a3d40882b027316211\""
   ]
  },
  {
   "cell_type": "code",
   "execution_count": 2,
   "metadata": {},
   "outputs": [],
   "source": [
    "def swap_long(units, inst, print_=False):\n",
    "    api = API(access_token=access_token, environment=\"practice\")\n",
    "    \n",
    "    params = {\"instruments\": \"USD_JPY\"}\n",
    "    pi = PricingInfo(accountID=accountID, params=params)\n",
    "    api.request(pi)\n",
    "    \n",
    "    if pi.response['prices'][0]['status'] == 'tradeable':\n",
    "        # position check\n",
    "        p = positions.OpenPositions(accountID=accountID)\n",
    "        api.request(p)\n",
    "        if p.response['positions'] == []:\n",
    "            data = {\n",
    "              \"order\": {\n",
    "                \"instrument\": inst,\n",
    "                \"units\": \"+{}\".format(units),\n",
    "                \"type\": \"MARKET\",\n",
    "                \"positionFill\": \"DEFAULT\"\n",
    "              }\n",
    "            }\n",
    "            oc = orders.OrderCreate(accountID, data=data)\n",
    "            api.request(oc)\n",
    "            if print_:\n",
    "                pprint.pprint(oc.response)"
   ]
  },
  {
   "cell_type": "code",
   "execution_count": 3,
   "metadata": {
    "scrolled": true
   },
   "outputs": [],
   "source": [
    "def swap_short(units, inst):\n",
    "    time.sleep(5)\n",
    "    api = API(access_token=access_token, environment=\"practice\")\n",
    "    \n",
    "    params = {\"instruments\": \"USD_JPY\"}\n",
    "    pi = PricingInfo(accountID=accountID, params=params)\n",
    "    api.request(pi)\n",
    "    \n",
    "    if pi.response['prices'][0]['status'] == 'tradeable':\n",
    "        fee = pip_spread(inst)[2]\n",
    "        # 指値注文がない場合のみ\n",
    "        ol = orders.OrderList(accountID=accountID)\n",
    "        api.request(ol)\n",
    "        if ol.response['orders'] == []:\n",
    "            # ポジション、指値価格取得\n",
    "            pd = positions.PositionDetails(accountID=accountID, instrument=inst)\n",
    "            api.request(pd)\n",
    "            p = round(float(pd.response['position']['long']['averagePrice']) + fee, 3)\n",
    "            # 現在価格取得\n",
    "            params = {\"instruments\": inst}\n",
    "            pi = PricingInfo(accountID=accountID, params=params)\n",
    "            api.request(pi)\n",
    "            cp = float(pi.response['prices'][0]['bids'][0]['price'])\n",
    "            # 現在価格が指値価格を上回っていたらそのまま利確\n",
    "            if cp > p:\n",
    "                position_data = {\"longUnits\": \"ALL\"}\n",
    "                pc = positions.PositionClose( accountID=accountID, data=position_data, instrument=inst )\n",
    "                api.request(pc)\n",
    "            # そうでなければ損益が+-0になる価格に指値\n",
    "            else:\n",
    "                data = {\n",
    "                    'order': {\n",
    "                        'units': '-{}'.format(units),\n",
    "                        'instrument': inst,\n",
    "                        'price': str(p),\n",
    "                        'type': 'LIMIT',\n",
    "                        'positionFill': 'DEFAULT'\n",
    "                    }\n",
    "                }\n",
    "                oc = orders.OrderCreate(accountID=accountID, data=data)\n",
    "                api.request(oc)"
   ]
  },
  {
   "cell_type": "code",
   "execution_count": 4,
   "metadata": {
    "scrolled": true
   },
   "outputs": [
    {
     "data": {
      "text/plain": [
       "Every 1 day at 07:00:00 do swap_short(250000, 'USD_JPY') (last run: [never], next run: 2020-02-17 07:00:00)"
      ]
     },
     "execution_count": 4,
     "metadata": {},
     "output_type": "execute_result"
    }
   ],
   "source": [
    "# スケジュール作成\n",
    "units = 250000\n",
    "inst = 'USD_JPY'\n",
    "schedule.every().day.at('06:30').do(swap_long, units, inst)\n",
    "schedule.every().day.at('07:00').do(swap_short, units, inst)"
   ]
  },
  {
   "cell_type": "code",
   "execution_count": 5,
   "metadata": {
    "code_folding": [
     1
    ],
    "scrolled": true
   },
   "outputs": [
    {
     "ename": "KeyboardInterrupt",
     "evalue": "",
     "output_type": "error",
     "traceback": [
      "\u001b[1;31m---------------------------------------------------------------------------\u001b[0m",
      "\u001b[1;31mKeyboardInterrupt\u001b[0m                         Traceback (most recent call last)",
      "\u001b[1;32m<ipython-input-5-66b96800dc04>\u001b[0m in \u001b[0;36m<module>\u001b[1;34m\u001b[0m\n\u001b[0;32m      2\u001b[0m \u001b[1;32mwhile\u001b[0m \u001b[1;32mTrue\u001b[0m\u001b[1;33m:\u001b[0m\u001b[1;33m\u001b[0m\u001b[1;33m\u001b[0m\u001b[0m\n\u001b[0;32m      3\u001b[0m     \u001b[0mschedule\u001b[0m\u001b[1;33m.\u001b[0m\u001b[0mrun_pending\u001b[0m\u001b[1;33m(\u001b[0m\u001b[1;33m)\u001b[0m\u001b[1;33m\u001b[0m\u001b[1;33m\u001b[0m\u001b[0m\n\u001b[1;32m----> 4\u001b[1;33m     \u001b[0mtime\u001b[0m\u001b[1;33m.\u001b[0m\u001b[0msleep\u001b[0m\u001b[1;33m(\u001b[0m\u001b[1;36m1\u001b[0m\u001b[1;33m)\u001b[0m\u001b[1;33m\u001b[0m\u001b[1;33m\u001b[0m\u001b[0m\n\u001b[0m",
      "\u001b[1;31mKeyboardInterrupt\u001b[0m: "
     ]
    }
   ],
   "source": [
    "# スケジュール実行\n",
    "while True:\n",
    "    schedule.run_pending()\n",
    "    time.sleep(1)"
   ]
  },
  {
   "cell_type": "code",
   "execution_count": 30,
   "metadata": {},
   "outputs": [],
   "source": [
    "# スケジュールクリア\n",
    "schedule.clear()"
   ]
  },
  {
   "cell_type": "code",
   "execution_count": null,
   "metadata": {},
   "outputs": [],
   "source": []
  }
 ],
 "metadata": {
  "kernelspec": {
   "display_name": "Python 3",
   "language": "python",
   "name": "python3"
  },
  "language_info": {
   "codemirror_mode": {
    "name": "ipython",
    "version": 3
   },
   "file_extension": ".py",
   "mimetype": "text/x-python",
   "name": "python",
   "nbconvert_exporter": "python",
   "pygments_lexer": "ipython3",
   "version": "3.7.3"
  },
  "toc": {
   "base_numbering": 1,
   "nav_menu": {},
   "number_sections": true,
   "sideBar": true,
   "skip_h1_title": false,
   "title_cell": "Table of Contents",
   "title_sidebar": "Contents",
   "toc_cell": false,
   "toc_position": {
    "height": "calc(100% - 180px)",
    "left": "10px",
    "top": "150px",
    "width": "337.675px"
   },
   "toc_section_display": true,
   "toc_window_display": false
  },
  "varInspector": {
   "cols": {
    "lenName": 16,
    "lenType": 16,
    "lenVar": 40
   },
   "kernels_config": {
    "python": {
     "delete_cmd_postfix": "",
     "delete_cmd_prefix": "del ",
     "library": "var_list.py",
     "varRefreshCmd": "print(var_dic_list())"
    },
    "r": {
     "delete_cmd_postfix": ") ",
     "delete_cmd_prefix": "rm(",
     "library": "var_list.r",
     "varRefreshCmd": "cat(var_dic_list()) "
    }
   },
   "types_to_exclude": [
    "module",
    "function",
    "builtin_function_or_method",
    "instance",
    "_Feature"
   ],
   "window_display": false
  }
 },
 "nbformat": 4,
 "nbformat_minor": 2
}
