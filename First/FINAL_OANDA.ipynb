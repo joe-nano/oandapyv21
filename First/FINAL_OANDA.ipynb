{
 "cells": [
  {
   "cell_type": "markdown",
   "metadata": {},
   "source": [
    "# oandapyv20まとめ"
   ]
  },
  {
   "cell_type": "code",
   "execution_count": null,
   "metadata": {},
   "outputs": [],
   "source": [
    "# OANDA API v20の口座IDとAPIトークン(ドル円) py703413\n",
    "accountID = \"101-009-12609641-001\"\n",
    "access_token = \"11f2a77cf99d3d29afc4c1cb1a0fb36b-e0fc1d1bf476926157f1d5992466fdf4\"\n",
    "# OANDA API v20の口座IDとAPIトークン(藤沼ver) tf704932\n",
    "accountID = \"101-009-12789646-001\"\n",
    "access_token = \"8c5facf670b1061d19fe2c9a0874663f-3fcf75eb5ab3078ad10a63015e2d22d7\"\n",
    "# OANDA API v20の口座IDとAPIトークン(須田本ver) pb709655\n",
    "accountID = \"101-009-13287388-001\"\n",
    "access_token = \"817d6dee0c4314962efa206fa183c698-9701a924a4ba75013122c8d3433f6607\"\n",
    "# OANDA API v20の口座IDとAPIトークン(房林蛇ver) pp709222\n",
    "accountID = \"101-009-13234797-001\"\n",
    "access_token = \"9739ebcc49088322e07e334ad3697b04-16314025c95d08a3d40882b027316211\""
   ]
  },
  {
   "cell_type": "code",
   "execution_count": 1,
   "metadata": {},
   "outputs": [],
   "source": [
    "# ライブラリのインポート\n",
    "import pandas as pd\n",
    "import numpy as np\n",
    "import matplotlib.pyplot as plt\n",
    "import mpl_finance\n",
    "%matplotlib inline\n",
    "plt.rcParams['font.family'] = 'IPAPGothic'\n",
    "from oandapyV20 import API\n",
    "from oandapyV20.exceptions import V20Error\n",
    "import oandapyV20.endpoints.instruments as instruments\n",
    "import oandapyV20.endpoints.accounts as accounts\n",
    "import oandapyV20.endpoints.orders as orders\n",
    "import oandapyV20.endpoints.positions as positions\n",
    "import oandapyV20.endpoints.pricing as pricing\n",
    "from oandapyV20.endpoints.pricing import PricingInfo\n",
    "import datetime\n",
    "from statistics import mean\n",
    "from statistics import median\n",
    "import calendar\n",
    "import datetime\n",
    "from math import floor\n",
    "import schedule\n",
    "import time\n",
    "import threading\n",
    "import json"
   ]
  },
  {
   "cell_type": "code",
   "execution_count": 2,
   "metadata": {},
   "outputs": [],
   "source": [
    "accountID = \"101-009-12609641-001\"\n",
    "access_token = \"11f2a77cf99d3d29afc4c1cb1a0fb36b-e0fc1d1bf476926157f1d5992466fdf4\""
   ]
  },
  {
   "cell_type": "markdown",
   "metadata": {},
   "source": [
    "## 口座情報の取得"
   ]
  },
  {
   "cell_type": "code",
   "execution_count": 3,
   "metadata": {
    "scrolled": true
   },
   "outputs": [
    {
     "data": {
      "text/plain": [
       "{'account': {'guaranteedStopLossOrderMode': 'DISABLED',\n",
       "  'hedgingEnabled': False,\n",
       "  'id': '101-009-12609641-001',\n",
       "  'createdTime': '2019-11-03T01:10:52.657827638Z',\n",
       "  'currency': 'JPY',\n",
       "  'createdByUserID': 12609641,\n",
       "  'alias': 'Primary',\n",
       "  'marginRate': '0.04',\n",
       "  'lastTransactionID': '355',\n",
       "  'balance': '3026819.3838',\n",
       "  'openTradeCount': 1,\n",
       "  'openPositionCount': 1,\n",
       "  'pendingOrderCount': 0,\n",
       "  'pl': '26994.0280',\n",
       "  'resettablePL': '26994.0280',\n",
       "  'resettablePLTime': '0',\n",
       "  'financing': '-174.6442',\n",
       "  'commission': '0.0000',\n",
       "  'dividendAdjustment': '0',\n",
       "  'guaranteedExecutionFees': '0.0000',\n",
       "  'unrealizedPL': '4825.1000',\n",
       "  'NAV': '3031644.4838',\n",
       "  'marginUsed': '60705.8238',\n",
       "  'marginAvailable': '2970938.6600',\n",
       "  'positionValue': '1517645.5960',\n",
       "  'marginCloseoutUnrealizedPL': '4852.6720',\n",
       "  'marginCloseoutNAV': '3031672.0558',\n",
       "  'marginCloseoutMarginUsed': '60705.8238',\n",
       "  'marginCloseoutPositionValue': '1517645.5960',\n",
       "  'marginCloseoutPercent': '0.02002',\n",
       "  'withdrawalLimit': '2970938.6600'},\n",
       " 'lastTransactionID': '355'}"
      ]
     },
     "execution_count": 3,
     "metadata": {},
     "output_type": "execute_result"
    }
   ],
   "source": [
    "s = accounts.AccountSummary(accountID)\n",
    "api = API(access_token=access_token, environment=\"practice\")\n",
    "api.request(s)"
   ]
  },
  {
   "cell_type": "markdown",
   "metadata": {},
   "source": [
    "## 現在のポジションを取得"
   ]
  },
  {
   "cell_type": "code",
   "execution_count": 4,
   "metadata": {
    "scrolled": true
   },
   "outputs": [
    {
     "data": {
      "text/plain": [
       "{'positions': [{'instrument': 'USD_JPY',\n",
       "   'long': {'units': '13786',\n",
       "    'averagePrice': '109.734',\n",
       "    'pl': '19138.8850',\n",
       "    'resettablePL': '19138.8850',\n",
       "    'financing': '3537.5788',\n",
       "    'dividendAdjustment': '0.0000',\n",
       "    'guaranteedExecutionFees': '0.0000',\n",
       "    'tradeIDs': ['352'],\n",
       "    'unrealizedPL': '4825.1000'},\n",
       "   'short': {'units': '0',\n",
       "    'pl': '7855.1430',\n",
       "    'resettablePL': '7855.1430',\n",
       "    'financing': '-3712.2230',\n",
       "    'dividendAdjustment': '0.0000',\n",
       "    'guaranteedExecutionFees': '0.0000',\n",
       "    'unrealizedPL': '0.0000'},\n",
       "   'pl': '26994.0280',\n",
       "   'resettablePL': '26994.0280',\n",
       "   'financing': '-174.6442',\n",
       "   'commission': '0.0000',\n",
       "   'dividendAdjustment': '0.0000',\n",
       "   'guaranteedExecutionFees': '0.0000',\n",
       "   'unrealizedPL': '4825.1000',\n",
       "   'marginUsed': '60705.8238'}],\n",
       " 'lastTransactionID': '355'}"
      ]
     },
     "execution_count": 4,
     "metadata": {},
     "output_type": "execute_result"
    }
   ],
   "source": [
    "p = positions.OpenPositions(accountID=accountID)\n",
    "api = API(access_token=access_token, environment=\"practice\")\n",
    "api.request(p)"
   ]
  },
  {
   "cell_type": "code",
   "execution_count": 59,
   "metadata": {},
   "outputs": [
    {
     "data": {
      "text/plain": [
       "True"
      ]
     },
     "execution_count": 59,
     "metadata": {},
     "output_type": "execute_result"
    }
   ],
   "source": [
    "p.response['positions'][0]['long']['units'] == '0'"
   ]
  },
  {
   "cell_type": "markdown",
   "metadata": {},
   "source": [
    "## 注文"
   ]
  },
  {
   "cell_type": "code",
   "execution_count": 98,
   "metadata": {
    "scrolled": true
   },
   "outputs": [
    {
     "data": {
      "text/plain": [
       "{'orderCreateTransaction': {'type': 'MARKET_ORDER',\n",
       "  'instrument': 'USD_JPY',\n",
       "  'units': '1',\n",
       "  'timeInForce': 'FOK',\n",
       "  'positionFill': 'DEFAULT',\n",
       "  'reason': 'CLIENT_ORDER',\n",
       "  'id': '55',\n",
       "  'accountID': '101-009-12609641-001',\n",
       "  'userID': 12609641,\n",
       "  'batchID': '55',\n",
       "  'requestID': '24617943972983195',\n",
       "  'time': '2019-11-22T07:32:06.276523698Z'},\n",
       " 'orderFillTransaction': {'type': 'ORDER_FILL',\n",
       "  'orderID': '55',\n",
       "  'instrument': 'USD_JPY',\n",
       "  'units': '1',\n",
       "  'requestedUnits': '1',\n",
       "  'price': '108.578',\n",
       "  'pl': '0.0000',\n",
       "  'financing': '0.0000',\n",
       "  'commission': '0.0000',\n",
       "  'accountBalance': '2998261.1808',\n",
       "  'gainQuoteHomeConversionFactor': '1',\n",
       "  'lossQuoteHomeConversionFactor': '1',\n",
       "  'guaranteedExecutionFee': '0.0000',\n",
       "  'halfSpreadCost': '0.0020',\n",
       "  'fullVWAP': '108.578',\n",
       "  'reason': 'MARKET_ORDER',\n",
       "  'tradeOpened': {'price': '108.578',\n",
       "   'tradeID': '56',\n",
       "   'units': '1',\n",
       "   'guaranteedExecutionFee': '0.0000',\n",
       "   'halfSpreadCost': '0.0020',\n",
       "   'initialMarginRequired': '4.3430'},\n",
       "  'fullPrice': {'closeoutBid': '108.556',\n",
       "   'closeoutAsk': '108.597',\n",
       "   'timestamp': '2019-11-22T07:30:20.669544244Z',\n",
       "   'bids': [{'price': '108.574', 'liquidity': '250000'}],\n",
       "   'asks': [{'price': '108.578', 'liquidity': '250000'}]},\n",
       "  'id': '56',\n",
       "  'accountID': '101-009-12609641-001',\n",
       "  'userID': 12609641,\n",
       "  'batchID': '55',\n",
       "  'requestID': '24617943972983195',\n",
       "  'time': '2019-11-22T07:32:06.276523698Z'},\n",
       " 'relatedTransactionIDs': ['55', '56'],\n",
       " 'lastTransactionID': '56'}"
      ]
     },
     "execution_count": 98,
     "metadata": {},
     "output_type": "execute_result"
    }
   ],
   "source": [
    "# 成り行き\n",
    "data = {\n",
    "  \"order\": {\n",
    "    \"instrument\": \"USD_JPY\",\n",
    "    \"units\": \"+1\",\n",
    "    \"type\": \"MARKET\",\n",
    "    \"positionFill\": \"DEFAULT\"\n",
    "  }\n",
    "}\n",
    "o = orders.OrderCreate(accountID, data=data)\n",
    "api = API(access_token=access_token, environment=\"practice\")\n",
    "api.request(o)\n",
    "o.response"
   ]
  },
  {
   "cell_type": "code",
   "execution_count": null,
   "metadata": {},
   "outputs": [],
   "source": [
    "# 指値\n",
    "data = {\n",
    "    'order': {\n",
    "        'units': '-1',\n",
    "        'instrument': 'USD_JPY',\n",
    "        'price': '108.890',\n",
    "        'type': 'LIMIT',\n",
    "        'positionFill': 'DEFAULT'\n",
    "    }\n",
    "}\n",
    "r = orders.OrderCreate(accountID=accountID, data=data)\n",
    "api = API(access_token=access_token, environment=\"practice\")\n",
    "api.request(r)"
   ]
  },
  {
   "cell_type": "markdown",
   "metadata": {},
   "source": [
    "## 決済"
   ]
  },
  {
   "cell_type": "code",
   "execution_count": 36,
   "metadata": {
    "scrolled": true
   },
   "outputs": [
    {
     "data": {
      "text/plain": [
       "{'longOrderCreateTransaction': {'type': 'MARKET_ORDER',\n",
       "  'instrument': 'USD_JPY',\n",
       "  'units': '-3',\n",
       "  'timeInForce': 'FOK',\n",
       "  'positionFill': 'REDUCE_ONLY',\n",
       "  'reason': 'POSITION_CLOSEOUT',\n",
       "  'longPositionCloseout': {'instrument': 'USD_JPY', 'units': 'ALL'},\n",
       "  'id': '49',\n",
       "  'accountID': '101-009-12609641-001',\n",
       "  'userID': 12609641,\n",
       "  'batchID': '49',\n",
       "  'requestID': '24617877358095536',\n",
       "  'time': '2019-11-22T03:07:24.252384609Z'},\n",
       " 'longOrderFillTransaction': {'type': 'ORDER_FILL',\n",
       "  'orderID': '49',\n",
       "  'instrument': 'USD_JPY',\n",
       "  'units': '-3',\n",
       "  'requestedUnits': '-3',\n",
       "  'price': '108.619',\n",
       "  'pl': '0.0020',\n",
       "  'financing': '0.0000',\n",
       "  'commission': '0.0000',\n",
       "  'accountBalance': '2998261.1548',\n",
       "  'gainQuoteHomeConversionFactor': '1',\n",
       "  'lossQuoteHomeConversionFactor': '1',\n",
       "  'guaranteedExecutionFee': '0.0000',\n",
       "  'halfSpreadCost': '0.0060',\n",
       "  'fullVWAP': '108.619',\n",
       "  'reason': 'MARKET_ORDER_POSITION_CLOSEOUT',\n",
       "  'tradesClosed': [{'tradeID': '44',\n",
       "    'units': '-1',\n",
       "    'realizedPL': '-0.0020',\n",
       "    'financing': '0.0000',\n",
       "    'price': '108.619',\n",
       "    'guaranteedExecutionFee': '0.0000',\n",
       "    'halfSpreadCost': '0.0020'},\n",
       "   {'tradeID': '46',\n",
       "    'units': '-1',\n",
       "    'realizedPL': '0.0030',\n",
       "    'financing': '0.0000',\n",
       "    'price': '108.619',\n",
       "    'guaranteedExecutionFee': '0.0000',\n",
       "    'halfSpreadCost': '0.0020'},\n",
       "   {'tradeID': '48',\n",
       "    'units': '-1',\n",
       "    'realizedPL': '0.0010',\n",
       "    'financing': '0.0000',\n",
       "    'price': '108.619',\n",
       "    'guaranteedExecutionFee': '0.0000',\n",
       "    'halfSpreadCost': '0.0020'}],\n",
       "  'fullPrice': {'closeoutBid': '108.599',\n",
       "   'closeoutAsk': '108.643',\n",
       "   'timestamp': '2019-11-22T03:07:23.129929276Z',\n",
       "   'bids': [{'price': '108.619', 'liquidity': '250000'}],\n",
       "   'asks': [{'price': '108.623', 'liquidity': '250000'}]},\n",
       "  'id': '50',\n",
       "  'accountID': '101-009-12609641-001',\n",
       "  'userID': 12609641,\n",
       "  'batchID': '49',\n",
       "  'requestID': '24617877358095536',\n",
       "  'time': '2019-11-22T03:07:24.252384609Z'},\n",
       " 'relatedTransactionIDs': ['49', '50'],\n",
       " 'lastTransactionID': '50'}"
      ]
     },
     "execution_count": 36,
     "metadata": {},
     "output_type": "execute_result"
    }
   ],
   "source": [
    "position_data = { \"longUnits\": \"ALL\" }\n",
    "p = positions.PositionClose( accountID=accountID, data=position_data, instrument=\"USD_JPY\" )\n",
    "api = API(access_token=access_token, environment=\"practice\")\n",
    "api.request(p)\n",
    "p.response"
   ]
  },
  {
   "cell_type": "markdown",
   "metadata": {},
   "source": [
    "## 現在価格の取得"
   ]
  },
  {
   "cell_type": "code",
   "execution_count": 27,
   "metadata": {
    "scrolled": false
   },
   "outputs": [
    {
     "data": {
      "text/plain": [
       "{'time': '2020-01-28T02:52:53.988963688Z',\n",
       " 'prices': [{'type': 'PRICE',\n",
       "   'time': '2020-01-28T02:52:50.427913729Z',\n",
       "   'bids': [{'price': '108.996', 'liquidity': 250000}],\n",
       "   'asks': [{'price': '109.000', 'liquidity': 250000}],\n",
       "   'closeoutBid': '108.992',\n",
       "   'closeoutAsk': '109.004',\n",
       "   'status': 'tradeable',\n",
       "   'tradeable': True,\n",
       "   'unitsAvailable': {'default': {'long': '250000', 'short': '250000'},\n",
       "    'openOnly': {'long': '250000', 'short': '0'},\n",
       "    'reduceFirst': {'long': '250000', 'short': '250000'},\n",
       "    'reduceOnly': {'long': '0', 'short': '13845'}},\n",
       "   'quoteHomeConversionFactors': {'positiveUnits': '1.00000000',\n",
       "    'negativeUnits': '1.00000000'},\n",
       "   'instrument': 'USD_JPY'}]}"
      ]
     },
     "execution_count": 27,
     "metadata": {},
     "output_type": "execute_result"
    }
   ],
   "source": [
    "params = {\"instruments\": \"USD_JPY\"}\n",
    "pi = PricingInfo(accountID=accountID, params=params)\n",
    "api = API(access_token=access_token, environment=\"practice\")\n",
    "api.request(pi)"
   ]
  },
  {
   "cell_type": "code",
   "execution_count": 132,
   "metadata": {
    "scrolled": false
   },
   "outputs": [
    {
     "data": {
      "text/plain": [
       "'108.597'"
      ]
     },
     "execution_count": 132,
     "metadata": {},
     "output_type": "execute_result"
    }
   ],
   "source": [
    "# ロング価格\n",
    "pi.response['prices'][0]['asks'][0]['price']"
   ]
  },
  {
   "cell_type": "code",
   "execution_count": 28,
   "metadata": {},
   "outputs": [
    {
     "data": {
      "text/plain": [
       "True"
      ]
     },
     "execution_count": 28,
     "metadata": {},
     "output_type": "execute_result"
    }
   ],
   "source": [
    "# 土日判定\n",
    "pi.response['prices'][0]['status'] == 'tradeable'"
   ]
  },
  {
   "cell_type": "markdown",
   "metadata": {},
   "source": [
    "## 各口座情報取得"
   ]
  },
  {
   "cell_type": "code",
   "execution_count": 3,
   "metadata": {},
   "outputs": [],
   "source": [
    "def check_oanda(accountID, access_token):\n",
    "    api = API(access_token=access_token, environment=\"practice\")\n",
    "    # positions\n",
    "    p = positions.OpenPositions(accountID=accountID)\n",
    "    api.request(p)\n",
    "    try:\n",
    "        inst = p.response['positions'][0]['instrument']\n",
    "        if p.response['positions'][0]['long']['units'] == '0':\n",
    "            side = 'short'\n",
    "        elif p.response['positions'][0]['short']['units'] == '0':\n",
    "            side = 'long'\n",
    "    except IndexError:\n",
    "        inst = 'None'\n",
    "        side = 'None'\n",
    "    # accounts\n",
    "    s = accounts.AccountSummary(accountID)\n",
    "    api.request(s)\n",
    "    balance = s.response['account']['NAV']\n",
    "    pl = s.response['account']['unrealizedPL']\n",
    "    print('通貨ペア: {:>7}, ポジション: {:>5}, 有効証拠金: {:>13}, 評価損益: {:>12}'.format(inst, side, balance, pl))"
   ]
  },
  {
   "cell_type": "code",
   "execution_count": 6,
   "metadata": {
    "scrolled": false
   },
   "outputs": [
    {
     "name": "stdout",
     "output_type": "stream",
     "text": [
      "通貨ペア: USD_JPY, ポジション: short, 有効証拠金:  3028431.1428, 評価損益:    2300.0000\n",
      "通貨ペア: EUR_JPY, ポジション: short, 有効証拠金:  2985380.4824, 評価損益:    5460.1200\n",
      "通貨ペア: GBP_JPY, ポジション: short, 有効証拠金:  2983699.9413, 評価損益:   -4184.7120\n",
      "通貨ペア: USD_JPY, ポジション:  long, 有効証拠金:  2970904.7612, 評価損益: -100500.0000\n"
     ]
    }
   ],
   "source": [
    "check_oanda(\"101-009-12609641-001\", \"11f2a77cf99d3d29afc4c1cb1a0fb36b-e0fc1d1bf476926157f1d5992466fdf4\")\n",
    "check_oanda(\"101-009-12789646-001\", \"8c5facf670b1061d19fe2c9a0874663f-3fcf75eb5ab3078ad10a63015e2d22d7\")\n",
    "check_oanda(\"101-009-13287388-001\", \"817d6dee0c4314962efa206fa183c698-9701a924a4ba75013122c8d3433f6607\")\n",
    "check_oanda(\"101-009-13234797-001\", \"9739ebcc49088322e07e334ad3697b04-16314025c95d08a3d40882b027316211\")"
   ]
  },
  {
   "cell_type": "code",
   "execution_count": null,
   "metadata": {},
   "outputs": [],
   "source": []
  }
 ],
 "metadata": {
  "kernelspec": {
   "display_name": "Python 3",
   "language": "python",
   "name": "python3"
  },
  "language_info": {
   "codemirror_mode": {
    "name": "ipython",
    "version": 3
   },
   "file_extension": ".py",
   "mimetype": "text/x-python",
   "name": "python",
   "nbconvert_exporter": "python",
   "pygments_lexer": "ipython3",
   "version": "3.7.3"
  },
  "toc": {
   "base_numbering": 1,
   "nav_menu": {},
   "number_sections": true,
   "sideBar": true,
   "skip_h1_title": false,
   "title_cell": "Table of Contents",
   "title_sidebar": "Contents",
   "toc_cell": false,
   "toc_position": {},
   "toc_section_display": true,
   "toc_window_display": true
  },
  "varInspector": {
   "cols": {
    "lenName": 16,
    "lenType": 16,
    "lenVar": 40
   },
   "kernels_config": {
    "python": {
     "delete_cmd_postfix": "",
     "delete_cmd_prefix": "del ",
     "library": "var_list.py",
     "varRefreshCmd": "print(var_dic_list())"
    },
    "r": {
     "delete_cmd_postfix": ") ",
     "delete_cmd_prefix": "rm(",
     "library": "var_list.r",
     "varRefreshCmd": "cat(var_dic_list()) "
    }
   },
   "types_to_exclude": [
    "module",
    "function",
    "builtin_function_or_method",
    "instance",
    "_Feature"
   ],
   "window_display": false
  }
 },
 "nbformat": 4,
 "nbformat_minor": 2
}
