{
 "cells": [
  {
   "cell_type": "markdown",
   "metadata": {},
   "source": [
    "# M15, K=2.5 が妙にスコア良いから調べる\n",
    "あと H12, K=0.5未満も"
   ]
  },
  {
   "cell_type": "code",
   "execution_count": 1,
   "metadata": {},
   "outputs": [],
   "source": [
    "# ライブラリのインポート\n",
    "import pandas as pd\n",
    "import numpy as np\n",
    "import matplotlib.pyplot as plt\n",
    "import mpl_finance\n",
    "%matplotlib inline\n",
    "plt.rcParams['font.family'] = 'IPAPGothic'\n",
    "from oandapyV20 import API\n",
    "from oandapyV20.exceptions import V20Error\n",
    "import oandapyV20.endpoints.instruments as instruments\n",
    "import oandapyV20.endpoints.accounts as accounts\n",
    "import oandapyV20.endpoints.orders as orders\n",
    "import oandapyV20.endpoints.positions as positions\n",
    "import oandapyV20.endpoints.pricing as pricing\n",
    "from oandapyV20.endpoints.pricing import PricingInfo\n",
    "import datetime\n",
    "from statistics import mean\n",
    "from statistics import median\n",
    "import calendar\n",
    "import datetime\n",
    "from math import floor\n",
    "import schedule\n",
    "import time\n",
    "import threading\n",
    "import json"
   ]
  },
  {
   "cell_type": "code",
   "execution_count": 25,
   "metadata": {},
   "outputs": [],
   "source": [
    "# OANDA API v20の口座IDとAPIトークン\n",
    "accountID = \"101-009-12609641-001\"\n",
    "access_token = \"11f2a77cf99d3d29afc4c1cb1a0fb36b-e0fc1d1bf476926157f1d5992466fdf4\"\n",
    "# OANDAのデモ口座へのAPI接続\n",
    "api = API(access_token=access_token, environment=\"practice\")"
   ]
  },
  {
   "cell_type": "code",
   "execution_count": 3,
   "metadata": {},
   "outputs": [],
   "source": [
    "# APIから取得したレートをPandasのDataFrameへ\n",
    "def to_dataframe(r):\n",
    "    data = []\n",
    "    for raw in r.response['candles']:\n",
    "        data.append([raw['time'], raw['volume'], raw['mid']['o'], raw['mid']['h'], raw['mid']['l'], raw['mid']['c']])\n",
    "\n",
    "    # リストからPandas DataFrameへ変換\n",
    "    df = pd.DataFrame(data)\n",
    "    df.columns = ['Time', 'Volume', 'Open', 'High', 'Low', 'Close']\n",
    "    df['Time'] = pd.to_datetime(df['Time'])\n",
    "    for col in ['Open', 'High', 'Low', 'Close']:\n",
    "        df[col] = df[col].apply(float)\n",
    "    return df"
   ]
  },
  {
   "cell_type": "code",
   "execution_count": 4,
   "metadata": {},
   "outputs": [],
   "source": [
    "def get_data(count, gran, year, month, day, hour, minute, second):\n",
    "    fmt = '%Y-%m-%dT%H:%M:00.000000Z'\n",
    "    _from = datetime.datetime(year=year, month=month, day=day,\n",
    "                              hour=hour, minute=minute, second=second).strftime(fmt)\n",
    "    params = {\n",
    "        \"count\": count,\n",
    "        \"granularity\": gran,\n",
    "        'from': _from,\n",
    "#         'dailyAlignment': 0\n",
    "    }\n",
    "    r = instruments.InstrumentsCandles(instrument=\"USD_JPY\", params=params)\n",
    "    api.request(r)\n",
    "    df = to_dataframe(r)\n",
    "    return df"
   ]
  },
  {
   "cell_type": "code",
   "execution_count": 5,
   "metadata": {},
   "outputs": [],
   "source": [
    "# 第何何曜日（第nX曜日）の日付を返す関数\n",
    "def get_day_of_nth_dow(year, month, nth, dow):\n",
    "    '''dow: Monday(0) - Sunday(6)'''\n",
    "    if nth < 1 or dow < 0 or dow > 6:\n",
    "        return None\n",
    "\n",
    "    first_dow, n = calendar.monthrange(year, month)\n",
    "    day = 7 * (nth - 1) + (dow - first_dow) % 7 + 1\n",
    "\n",
    "    return day if day <= n else None"
   ]
  },
  {
   "cell_type": "code",
   "execution_count": 9,
   "metadata": {},
   "outputs": [],
   "source": [
    "def get_data_super(start, end, gran):\n",
    "    # OANDA API v20の口座IDとAPIトークン\n",
    "    accountID = \"101-009-12789646-001\"\n",
    "    access_token = \"1ab53171ce4413f408de6da28ea23089-6426c3d3cc947dba212b3766d1be45c6\"\n",
    "    # OANDAのデモ口座へのAPI接続\n",
    "    api = API(access_token=access_token, environment=\"practice\")\n",
    "    # xxxx-xx-xx～xxxx-xx-xx の期間のデータを取得してデータフレームを返す\n",
    "    s_year, s_month, s_day, s_hour, s_minute, s_second = map(int, start.split('-'))\n",
    "    e_year, e_month, e_day, e_hour, e_minute, e_second = map(int, end.split('-'))\n",
    "    fmt = '%Y-%m-%dT%H:%M:00.000000Z'\n",
    "    from_ = datetime.datetime(year=s_year, month=s_month, day=s_day,\n",
    "                              hour=s_hour, minute=s_minute, second=s_second).strftime(fmt)\n",
    "    to_ = datetime.datetime(year=e_year, month=e_month, day=e_day,\n",
    "                            hour=e_hour, minute=e_minute, second=e_second).strftime(fmt)\n",
    "    to_dt = '{}-{}-{} {}:{}:{}'.format(e_year, e_month, e_day, e_hour, e_minute, e_second)\n",
    "    to_unix = datetime.datetime.strptime(to_dt, '%Y-%m-%d %H:%M:%S').timestamp()\n",
    "    df = pd.DataFrame()\n",
    "    # 5000個制限に引っかからなければこっちの処理\n",
    "    try:\n",
    "        params = {\n",
    "            \"granularity\": gran,\n",
    "            'from': from_,\n",
    "            'to': to_\n",
    "        }\n",
    "        r = instruments.InstrumentsCandles(instrument=\"USD_JPY\", params=params)\n",
    "        api.request(r)\n",
    "        df = to_dataframe(r)\n",
    "    # 引っかかればこっちの処理\n",
    "    except:\n",
    "        i = True\n",
    "        while i:\n",
    "            df_tmp = get_data(count=5000, gran=gran, year=s_year, month=s_month, day=s_day,\n",
    "                             hour=s_hour, minute=s_minute, second=s_second)\n",
    "            # ケツが同じなら止める (最新迄用)\n",
    "            if df.tail(1).reset_index(drop=True).equals(df_tmp.tail(1).reset_index(drop=True)):\n",
    "                i = False\n",
    "            else:\n",
    "                df = pd.concat([df, df_tmp], ignore_index=True)\n",
    "                index = df_tmp.tail(1).index[0]\n",
    "                s_year = df_tmp.iat[index, 0].year\n",
    "                s_month = df_tmp.iat[index, 0].month\n",
    "                s_day = df_tmp.iat[index, 0].day\n",
    "                s_hour = df_tmp.iat[index, 0].hour\n",
    "                s_minute = df_tmp.iat[index, 0].minute\n",
    "                s_second = df_tmp.iat[index, 0].second\n",
    "                # print('{}-{}-{}-{}-{}-{}'.format(s_year, s_month, s_day, s_hour, s_minute, s_second))\n",
    "                # 5000個ずつ取得してエンドの unix 超えたら止める\n",
    "                if to_unix < df.iat[df.tail(1).index[0], 0].timestamp():\n",
    "                    # はみ出した分をここで切り落とす\n",
    "                    for i in range(len(df.index) - 5000, len(df.index)):\n",
    "                        if to_unix == df.iat[i, 0].timestamp():\n",
    "                            df = df[:i]\n",
    "                            break\n",
    "                    i = False\n",
    "    return df"
   ]
  },
  {
   "cell_type": "code",
   "execution_count": 18,
   "metadata": {},
   "outputs": [],
   "source": [
    "def set_profit(tmp_i, i, pos, entry_rate, exit_rate, assets, df, pos_df, pos_count):\n",
    "    lot = 1\n",
    "    fee = 0.008\n",
    "    pos_count+=1\n",
    "    if pos == 'entry_long':\n",
    "        pips = (exit_rate - entry_rate - fee) * 100\n",
    "        l_s = 'long'\n",
    "    else:\n",
    "        pips = (entry_rate - exit_rate - fee) * 100\n",
    "        l_s = 'short'\n",
    "    profit = lot * 25 * pips / 100\n",
    "    assets = round(assets + profit, 4)\n",
    "    tmp_se = pd.Series( [lot, l_s, df.iat[tmp_i,0], entry_rate, df.iat[i+1,0],\n",
    "                        exit_rate, pips, profit, assets ], index=pos_df.columns )\n",
    "    pos_df = pos_df.append( tmp_se, ignore_index=True )\n",
    "    pos = 'None'\n",
    "    return assets, pos_df, pos_count, pos"
   ]
  },
  {
   "cell_type": "code",
   "execution_count": 23,
   "metadata": {},
   "outputs": [],
   "source": [
    "# バックテスト\n",
    "def back_test(K, start, end, gran, ref, seed_money, kly_rate):\n",
    "    range_ = 0\n",
    "    range_list = []\n",
    "    ave_range = 0\n",
    "    least_5 = 0\n",
    "    pos = 'None'\n",
    "    entry_rate = 0\n",
    "    pos_count = 0\n",
    "    assets = seed_money\n",
    "    lot = 0\n",
    "    tmp_i = 0\n",
    "    \n",
    "    df = get_data_super(start, end, gran)\n",
    "    pos_df = pd.DataFrame(columns=['lot', 'l_or_s', 'entry_date', 'entry_rate', 'exit_date', 'exit_rate', 'pips', 'profit', 'assets'])\n",
    "    \n",
    "    # OANDA API v20の口座IDとAPIトークン\n",
    "    accountID = \"101-009-12609641-001\"\n",
    "    access_token = \"11f2a77cf99d3d29afc4c1cb1a0fb36b-e0fc1d1bf476926157f1d5992466fdf4\"\n",
    "    # OANDAのデモ口座へのAPI接続\n",
    "    api = API(access_token=access_token, environment=\"practice\")\n",
    "\n",
    "    # 実行\n",
    "    for i in range(len(df.index) - 1):\n",
    "        rate = df.iat[i, 5] # 当日の終値\n",
    "        next_rate = df.iat[i+1, 2] # 次の足の始値（entry exit 価格）\n",
    "        range_ = abs(round(df.iat[i, 3] - df.iat[i, 4], 3)) # |High - Low| レンジ幅\n",
    "        range_list.append(range_)\n",
    "    \n",
    "        if i > ref:\n",
    "            least_m = round(mean(range_list[i-ref-1:i-1]) * K, 3) # 直近5個のレンジ幅の平均\n",
    "            red_range = round(df.iat[i, 3] - df.iat[i, 2], 3) # High - Open 赤幅(上げ幅)\n",
    "            blue_range = round(df.iat[i, 2] - df.iat[i, 4], 3) # Open - Low 青幅(下げ幅)\n",
    "\n",
    "            # 上昇トレンドと判断しロング\n",
    "            if df.iat[i, 2] < df.iat[i, 5] and least_m < red_range: # 始値より終値の方が高く、5個平均よりも赤幅が大きいとき\n",
    "                if pos == 'entry_long':\n",
    "                    continue\n",
    "                else:\n",
    "                    # もし逆のポジションを持ってたら利確\n",
    "                    if pos == 'entry_short':\n",
    "                        exit_rate = next_rate\n",
    "                        assets, pos_df, pos_count, pos = set_profit(tmp_i, i, pos, entry_rate, exit_rate,\n",
    "                                                               assets, df, pos_df, pos_count)\n",
    "                        if assets < 0:\n",
    "                            break\n",
    "                    \n",
    "                    entry_rate = next_rate\n",
    "                    pos = 'entry_long'\n",
    "                    tmp_i = i+1\n",
    "        \n",
    "            # 下降トレンドと判断しショート\n",
    "            if df.iat[i, 5] < df.iat[i, 2] and least_m < blue_range: # 終値より始値の方が高く、5個平均よりも青幅が大きいとき\n",
    "                if pos == 'entry_short':\n",
    "                    continue\n",
    "                else:\n",
    "                    # もし逆のポジションを持ってたら利確\n",
    "                    if pos == 'entry_long':\n",
    "                        exit_rate = next_rate\n",
    "                        assets, pos_df, pos_count, pos = set_profit(tmp_i, i, pos, entry_rate, exit_rate,\n",
    "                                                               assets, df, pos_df, pos_count)\n",
    "                        if assets < 0:\n",
    "                            break\n",
    "        \n",
    "                    entry_rate = next_rate\n",
    "                    pos = 'entry_short'\n",
    "                    tmp_i = i+1\n",
    "                    \n",
    "#     print('posision count: {}, seed_money: {}万円, assets: {}万円'.format(pos_count, seed_money/10000, round(assets/10000, 4)))\n",
    "#     return pos_df, df, round(assets/10000, 4)\n",
    "    return pos_df, df"
   ]
  },
  {
   "cell_type": "code",
   "execution_count": 10,
   "metadata": {},
   "outputs": [],
   "source": [
    "df = get_data_super('2010-01-01-00-00-00', '2018-12-31-00-00-00', 'M15')"
   ]
  },
  {
   "cell_type": "code",
   "execution_count": 12,
   "metadata": {
    "scrolled": true
   },
   "outputs": [
    {
     "name": "stdout",
     "output_type": "stream",
     "text": [
      "posision count: 1978, seed_money: 1000.0万円, assets: 1002.6011万円\n"
     ]
    }
   ],
   "source": [
    "pos_df, df = back_test(K=0.5, start='2010-01-01-00-00-00', end='2018-12-31-00-00-00',\n",
    "                                      gran='H12', ref=5, seed_money=10000000, kly_rate=0.05)"
   ]
  },
  {
   "cell_type": "code",
   "execution_count": 26,
   "metadata": {
    "scrolled": true
   },
   "outputs": [
    {
     "ename": "KeyboardInterrupt",
     "evalue": "",
     "output_type": "error",
     "traceback": [
      "\u001b[1;31m---------------------------------------------------------------------------\u001b[0m",
      "\u001b[1;31mKeyboardInterrupt\u001b[0m                         Traceback (most recent call last)",
      "\u001b[1;32m<ipython-input-26-3d9e19d0661f>\u001b[0m in \u001b[0;36m<module>\u001b[1;34m\u001b[0m\n\u001b[0;32m      7\u001b[0m                  'D']:\n\u001b[0;32m      8\u001b[0m         pos_df, df = back_test(K=K, start='2010-01-01-00-00-00', end='2018-12-31-00-00-00',\n\u001b[1;32m----> 9\u001b[1;33m                                gran=gran, ref=5, seed_money=1000000, kly_rate=0.5)\n\u001b[0m\u001b[0;32m     10\u001b[0m         \u001b[0mprint\u001b[0m\u001b[1;33m(\u001b[0m\u001b[1;34m'K: {}, gran: {}, pos_count: {}, pips: {:.4f}'\u001b[0m\u001b[1;33m.\u001b[0m\u001b[0mformat\u001b[0m\u001b[1;33m(\u001b[0m\u001b[0mK\u001b[0m\u001b[1;33m,\u001b[0m \u001b[0mgran\u001b[0m\u001b[1;33m,\u001b[0m \u001b[0mpos_df\u001b[0m\u001b[1;33m.\u001b[0m\u001b[0mshape\u001b[0m\u001b[1;33m[\u001b[0m\u001b[1;36m0\u001b[0m\u001b[1;33m]\u001b[0m\u001b[1;33m,\u001b[0m \u001b[0mpos_df\u001b[0m\u001b[1;33m[\u001b[0m\u001b[1;34m'pips'\u001b[0m\u001b[1;33m]\u001b[0m\u001b[1;33m.\u001b[0m\u001b[0msum\u001b[0m\u001b[1;33m(\u001b[0m\u001b[1;33m)\u001b[0m\u001b[1;33m)\u001b[0m\u001b[1;33m)\u001b[0m\u001b[1;33m\u001b[0m\u001b[1;33m\u001b[0m\u001b[0m\n\u001b[0;32m     11\u001b[0m         \u001b[0mtmp_se\u001b[0m \u001b[1;33m=\u001b[0m \u001b[0mpd\u001b[0m\u001b[1;33m.\u001b[0m\u001b[0mSeries\u001b[0m\u001b[1;33m(\u001b[0m\u001b[1;33m[\u001b[0m\u001b[0mK\u001b[0m\u001b[1;33m,\u001b[0m \u001b[0mgran\u001b[0m\u001b[1;33m,\u001b[0m \u001b[0mpos_df\u001b[0m\u001b[1;33m.\u001b[0m\u001b[0mshape\u001b[0m\u001b[1;33m[\u001b[0m\u001b[1;36m0\u001b[0m\u001b[1;33m]\u001b[0m\u001b[1;33m,\u001b[0m \u001b[0mround\u001b[0m\u001b[1;33m(\u001b[0m\u001b[0mpos_df\u001b[0m\u001b[1;33m[\u001b[0m\u001b[1;34m'pips'\u001b[0m\u001b[1;33m]\u001b[0m\u001b[1;33m.\u001b[0m\u001b[0msum\u001b[0m\u001b[1;33m(\u001b[0m\u001b[1;33m)\u001b[0m\u001b[1;33m,\u001b[0m \u001b[1;36m4\u001b[0m\u001b[1;33m)\u001b[0m\u001b[1;33m]\u001b[0m\u001b[1;33m,\u001b[0m \u001b[0mindex\u001b[0m\u001b[1;33m=\u001b[0m\u001b[0mfoot_gran_k\u001b[0m\u001b[1;33m.\u001b[0m\u001b[0mcolumns\u001b[0m\u001b[1;33m)\u001b[0m\u001b[1;33m\u001b[0m\u001b[1;33m\u001b[0m\u001b[0m\n",
      "\u001b[1;32m<ipython-input-23-3cb56b05ce17>\u001b[0m in \u001b[0;36mback_test\u001b[1;34m(K, start, end, gran, ref, seed_money, kly_rate)\u001b[0m\n\u001b[0;32m     59\u001b[0m                         \u001b[0mexit_rate\u001b[0m \u001b[1;33m=\u001b[0m \u001b[0mnext_rate\u001b[0m\u001b[1;33m\u001b[0m\u001b[1;33m\u001b[0m\u001b[0m\n\u001b[0;32m     60\u001b[0m                         assets, pos_df, pos_count, pos = set_profit(tmp_i, i, pos, entry_rate, exit_rate,\n\u001b[1;32m---> 61\u001b[1;33m                                                                assets, df, pos_df, pos_count)\n\u001b[0m\u001b[0;32m     62\u001b[0m                         \u001b[1;32mif\u001b[0m \u001b[0massets\u001b[0m \u001b[1;33m<\u001b[0m \u001b[1;36m0\u001b[0m\u001b[1;33m:\u001b[0m\u001b[1;33m\u001b[0m\u001b[1;33m\u001b[0m\u001b[0m\n\u001b[0;32m     63\u001b[0m                             \u001b[1;32mbreak\u001b[0m\u001b[1;33m\u001b[0m\u001b[1;33m\u001b[0m\u001b[0m\n",
      "\u001b[1;32m<ipython-input-18-b25e1d18e238>\u001b[0m in \u001b[0;36mset_profit\u001b[1;34m(tmp_i, i, pos, entry_rate, exit_rate, assets, df, pos_df, pos_count)\u001b[0m\n\u001b[0;32m     13\u001b[0m     tmp_se = pd.Series( [lot, l_s, df.iat[tmp_i,0], entry_rate, df.iat[i+1,0],\n\u001b[0;32m     14\u001b[0m                         exit_rate, pips, profit, assets ], index=pos_df.columns )\n\u001b[1;32m---> 15\u001b[1;33m     \u001b[0mpos_df\u001b[0m \u001b[1;33m=\u001b[0m \u001b[0mpos_df\u001b[0m\u001b[1;33m.\u001b[0m\u001b[0mappend\u001b[0m\u001b[1;33m(\u001b[0m \u001b[0mtmp_se\u001b[0m\u001b[1;33m,\u001b[0m \u001b[0mignore_index\u001b[0m\u001b[1;33m=\u001b[0m\u001b[1;32mTrue\u001b[0m \u001b[1;33m)\u001b[0m\u001b[1;33m\u001b[0m\u001b[1;33m\u001b[0m\u001b[0m\n\u001b[0m\u001b[0;32m     16\u001b[0m     \u001b[0mpos\u001b[0m \u001b[1;33m=\u001b[0m \u001b[1;34m'None'\u001b[0m\u001b[1;33m\u001b[0m\u001b[1;33m\u001b[0m\u001b[0m\n\u001b[0;32m     17\u001b[0m     \u001b[1;32mreturn\u001b[0m \u001b[0massets\u001b[0m\u001b[1;33m,\u001b[0m \u001b[0mpos_df\u001b[0m\u001b[1;33m,\u001b[0m \u001b[0mpos_count\u001b[0m\u001b[1;33m,\u001b[0m \u001b[0mpos\u001b[0m\u001b[1;33m\u001b[0m\u001b[1;33m\u001b[0m\u001b[0m\n",
      "\u001b[1;32mC:\\ProgramData\\Anaconda3\\lib\\site-packages\\pandas\\core\\frame.py\u001b[0m in \u001b[0;36mappend\u001b[1;34m(self, other, ignore_index, verify_integrity, sort)\u001b[0m\n\u001b[0;32m   6690\u001b[0m         return concat(to_concat, ignore_index=ignore_index,\n\u001b[0;32m   6691\u001b[0m                       \u001b[0mverify_integrity\u001b[0m\u001b[1;33m=\u001b[0m\u001b[0mverify_integrity\u001b[0m\u001b[1;33m,\u001b[0m\u001b[1;33m\u001b[0m\u001b[1;33m\u001b[0m\u001b[0m\n\u001b[1;32m-> 6692\u001b[1;33m                       sort=sort)\n\u001b[0m\u001b[0;32m   6693\u001b[0m \u001b[1;33m\u001b[0m\u001b[0m\n\u001b[0;32m   6694\u001b[0m     def join(self, other, on=None, how='left', lsuffix='', rsuffix='',\n",
      "\u001b[1;32mC:\\ProgramData\\Anaconda3\\lib\\site-packages\\pandas\\core\\reshape\\concat.py\u001b[0m in \u001b[0;36mconcat\u001b[1;34m(objs, axis, join, join_axes, ignore_index, keys, levels, names, verify_integrity, sort, copy)\u001b[0m\n\u001b[0;32m    226\u001b[0m                        \u001b[0mkeys\u001b[0m\u001b[1;33m=\u001b[0m\u001b[0mkeys\u001b[0m\u001b[1;33m,\u001b[0m \u001b[0mlevels\u001b[0m\u001b[1;33m=\u001b[0m\u001b[0mlevels\u001b[0m\u001b[1;33m,\u001b[0m \u001b[0mnames\u001b[0m\u001b[1;33m=\u001b[0m\u001b[0mnames\u001b[0m\u001b[1;33m,\u001b[0m\u001b[1;33m\u001b[0m\u001b[1;33m\u001b[0m\u001b[0m\n\u001b[0;32m    227\u001b[0m                        \u001b[0mverify_integrity\u001b[0m\u001b[1;33m=\u001b[0m\u001b[0mverify_integrity\u001b[0m\u001b[1;33m,\u001b[0m\u001b[1;33m\u001b[0m\u001b[1;33m\u001b[0m\u001b[0m\n\u001b[1;32m--> 228\u001b[1;33m                        copy=copy, sort=sort)\n\u001b[0m\u001b[0;32m    229\u001b[0m     \u001b[1;32mreturn\u001b[0m \u001b[0mop\u001b[0m\u001b[1;33m.\u001b[0m\u001b[0mget_result\u001b[0m\u001b[1;33m(\u001b[0m\u001b[1;33m)\u001b[0m\u001b[1;33m\u001b[0m\u001b[1;33m\u001b[0m\u001b[0m\n\u001b[0;32m    230\u001b[0m \u001b[1;33m\u001b[0m\u001b[0m\n",
      "\u001b[1;32mC:\\ProgramData\\Anaconda3\\lib\\site-packages\\pandas\\core\\reshape\\concat.py\u001b[0m in \u001b[0;36m__init__\u001b[1;34m(self, objs, axis, join, join_axes, keys, levels, names, ignore_index, verify_integrity, copy, sort)\u001b[0m\n\u001b[0;32m    290\u001b[0m \u001b[1;33m\u001b[0m\u001b[0m\n\u001b[0;32m    291\u001b[0m             \u001b[1;31m# consolidate\u001b[0m\u001b[1;33m\u001b[0m\u001b[1;33m\u001b[0m\u001b[1;33m\u001b[0m\u001b[0m\n\u001b[1;32m--> 292\u001b[1;33m             \u001b[0mobj\u001b[0m\u001b[1;33m.\u001b[0m\u001b[0m_consolidate\u001b[0m\u001b[1;33m(\u001b[0m\u001b[0minplace\u001b[0m\u001b[1;33m=\u001b[0m\u001b[1;32mTrue\u001b[0m\u001b[1;33m)\u001b[0m\u001b[1;33m\u001b[0m\u001b[1;33m\u001b[0m\u001b[0m\n\u001b[0m\u001b[0;32m    293\u001b[0m             \u001b[0mndims\u001b[0m\u001b[1;33m.\u001b[0m\u001b[0madd\u001b[0m\u001b[1;33m(\u001b[0m\u001b[0mobj\u001b[0m\u001b[1;33m.\u001b[0m\u001b[0mndim\u001b[0m\u001b[1;33m)\u001b[0m\u001b[1;33m\u001b[0m\u001b[1;33m\u001b[0m\u001b[0m\n\u001b[0;32m    294\u001b[0m \u001b[1;33m\u001b[0m\u001b[0m\n",
      "\u001b[1;32mC:\\ProgramData\\Anaconda3\\lib\\site-packages\\pandas\\core\\generic.py\u001b[0m in \u001b[0;36m_consolidate\u001b[1;34m(self, inplace)\u001b[0m\n\u001b[0;32m   5154\u001b[0m         \u001b[0minplace\u001b[0m \u001b[1;33m=\u001b[0m \u001b[0mvalidate_bool_kwarg\u001b[0m\u001b[1;33m(\u001b[0m\u001b[0minplace\u001b[0m\u001b[1;33m,\u001b[0m \u001b[1;34m'inplace'\u001b[0m\u001b[1;33m)\u001b[0m\u001b[1;33m\u001b[0m\u001b[1;33m\u001b[0m\u001b[0m\n\u001b[0;32m   5155\u001b[0m         \u001b[1;32mif\u001b[0m \u001b[0minplace\u001b[0m\u001b[1;33m:\u001b[0m\u001b[1;33m\u001b[0m\u001b[1;33m\u001b[0m\u001b[0m\n\u001b[1;32m-> 5156\u001b[1;33m             \u001b[0mself\u001b[0m\u001b[1;33m.\u001b[0m\u001b[0m_consolidate_inplace\u001b[0m\u001b[1;33m(\u001b[0m\u001b[1;33m)\u001b[0m\u001b[1;33m\u001b[0m\u001b[1;33m\u001b[0m\u001b[0m\n\u001b[0m\u001b[0;32m   5157\u001b[0m         \u001b[1;32melse\u001b[0m\u001b[1;33m:\u001b[0m\u001b[1;33m\u001b[0m\u001b[1;33m\u001b[0m\u001b[0m\n\u001b[0;32m   5158\u001b[0m             \u001b[0mf\u001b[0m \u001b[1;33m=\u001b[0m \u001b[1;32mlambda\u001b[0m\u001b[1;33m:\u001b[0m \u001b[0mself\u001b[0m\u001b[1;33m.\u001b[0m\u001b[0m_data\u001b[0m\u001b[1;33m.\u001b[0m\u001b[0mconsolidate\u001b[0m\u001b[1;33m(\u001b[0m\u001b[1;33m)\u001b[0m\u001b[1;33m\u001b[0m\u001b[1;33m\u001b[0m\u001b[0m\n",
      "\u001b[1;32mC:\\ProgramData\\Anaconda3\\lib\\site-packages\\pandas\\core\\generic.py\u001b[0m in \u001b[0;36m_consolidate_inplace\u001b[1;34m(self)\u001b[0m\n\u001b[0;32m   5136\u001b[0m             \u001b[0mself\u001b[0m\u001b[1;33m.\u001b[0m\u001b[0m_data\u001b[0m \u001b[1;33m=\u001b[0m \u001b[0mself\u001b[0m\u001b[1;33m.\u001b[0m\u001b[0m_data\u001b[0m\u001b[1;33m.\u001b[0m\u001b[0mconsolidate\u001b[0m\u001b[1;33m(\u001b[0m\u001b[1;33m)\u001b[0m\u001b[1;33m\u001b[0m\u001b[1;33m\u001b[0m\u001b[0m\n\u001b[0;32m   5137\u001b[0m \u001b[1;33m\u001b[0m\u001b[0m\n\u001b[1;32m-> 5138\u001b[1;33m         \u001b[0mself\u001b[0m\u001b[1;33m.\u001b[0m\u001b[0m_protect_consolidate\u001b[0m\u001b[1;33m(\u001b[0m\u001b[0mf\u001b[0m\u001b[1;33m)\u001b[0m\u001b[1;33m\u001b[0m\u001b[1;33m\u001b[0m\u001b[0m\n\u001b[0m\u001b[0;32m   5139\u001b[0m \u001b[1;33m\u001b[0m\u001b[0m\n\u001b[0;32m   5140\u001b[0m     \u001b[1;32mdef\u001b[0m \u001b[0m_consolidate\u001b[0m\u001b[1;33m(\u001b[0m\u001b[0mself\u001b[0m\u001b[1;33m,\u001b[0m \u001b[0minplace\u001b[0m\u001b[1;33m=\u001b[0m\u001b[1;32mFalse\u001b[0m\u001b[1;33m)\u001b[0m\u001b[1;33m:\u001b[0m\u001b[1;33m\u001b[0m\u001b[1;33m\u001b[0m\u001b[0m\n",
      "\u001b[1;32mC:\\ProgramData\\Anaconda3\\lib\\site-packages\\pandas\\core\\generic.py\u001b[0m in \u001b[0;36m_protect_consolidate\u001b[1;34m(self, f)\u001b[0m\n\u001b[0;32m   5125\u001b[0m         \"\"\"\n\u001b[0;32m   5126\u001b[0m         \u001b[0mblocks_before\u001b[0m \u001b[1;33m=\u001b[0m \u001b[0mlen\u001b[0m\u001b[1;33m(\u001b[0m\u001b[0mself\u001b[0m\u001b[1;33m.\u001b[0m\u001b[0m_data\u001b[0m\u001b[1;33m.\u001b[0m\u001b[0mblocks\u001b[0m\u001b[1;33m)\u001b[0m\u001b[1;33m\u001b[0m\u001b[1;33m\u001b[0m\u001b[0m\n\u001b[1;32m-> 5127\u001b[1;33m         \u001b[0mresult\u001b[0m \u001b[1;33m=\u001b[0m \u001b[0mf\u001b[0m\u001b[1;33m(\u001b[0m\u001b[1;33m)\u001b[0m\u001b[1;33m\u001b[0m\u001b[1;33m\u001b[0m\u001b[0m\n\u001b[0m\u001b[0;32m   5128\u001b[0m         \u001b[1;32mif\u001b[0m \u001b[0mlen\u001b[0m\u001b[1;33m(\u001b[0m\u001b[0mself\u001b[0m\u001b[1;33m.\u001b[0m\u001b[0m_data\u001b[0m\u001b[1;33m.\u001b[0m\u001b[0mblocks\u001b[0m\u001b[1;33m)\u001b[0m \u001b[1;33m!=\u001b[0m \u001b[0mblocks_before\u001b[0m\u001b[1;33m:\u001b[0m\u001b[1;33m\u001b[0m\u001b[1;33m\u001b[0m\u001b[0m\n\u001b[0;32m   5129\u001b[0m             \u001b[0mself\u001b[0m\u001b[1;33m.\u001b[0m\u001b[0m_clear_item_cache\u001b[0m\u001b[1;33m(\u001b[0m\u001b[1;33m)\u001b[0m\u001b[1;33m\u001b[0m\u001b[1;33m\u001b[0m\u001b[0m\n",
      "\u001b[1;32mC:\\ProgramData\\Anaconda3\\lib\\site-packages\\pandas\\core\\generic.py\u001b[0m in \u001b[0;36mf\u001b[1;34m()\u001b[0m\n\u001b[0;32m   5134\u001b[0m \u001b[1;33m\u001b[0m\u001b[0m\n\u001b[0;32m   5135\u001b[0m         \u001b[1;32mdef\u001b[0m \u001b[0mf\u001b[0m\u001b[1;33m(\u001b[0m\u001b[1;33m)\u001b[0m\u001b[1;33m:\u001b[0m\u001b[1;33m\u001b[0m\u001b[1;33m\u001b[0m\u001b[0m\n\u001b[1;32m-> 5136\u001b[1;33m             \u001b[0mself\u001b[0m\u001b[1;33m.\u001b[0m\u001b[0m_data\u001b[0m \u001b[1;33m=\u001b[0m \u001b[0mself\u001b[0m\u001b[1;33m.\u001b[0m\u001b[0m_data\u001b[0m\u001b[1;33m.\u001b[0m\u001b[0mconsolidate\u001b[0m\u001b[1;33m(\u001b[0m\u001b[1;33m)\u001b[0m\u001b[1;33m\u001b[0m\u001b[1;33m\u001b[0m\u001b[0m\n\u001b[0m\u001b[0;32m   5137\u001b[0m \u001b[1;33m\u001b[0m\u001b[0m\n\u001b[0;32m   5138\u001b[0m         \u001b[0mself\u001b[0m\u001b[1;33m.\u001b[0m\u001b[0m_protect_consolidate\u001b[0m\u001b[1;33m(\u001b[0m\u001b[0mf\u001b[0m\u001b[1;33m)\u001b[0m\u001b[1;33m\u001b[0m\u001b[1;33m\u001b[0m\u001b[0m\n",
      "\u001b[1;32mC:\\ProgramData\\Anaconda3\\lib\\site-packages\\pandas\\core\\internals\\managers.py\u001b[0m in \u001b[0;36mconsolidate\u001b[1;34m(self)\u001b[0m\n\u001b[0;32m    922\u001b[0m         \u001b[0mbm\u001b[0m \u001b[1;33m=\u001b[0m \u001b[0mself\u001b[0m\u001b[1;33m.\u001b[0m\u001b[0m__class__\u001b[0m\u001b[1;33m(\u001b[0m\u001b[0mself\u001b[0m\u001b[1;33m.\u001b[0m\u001b[0mblocks\u001b[0m\u001b[1;33m,\u001b[0m \u001b[0mself\u001b[0m\u001b[1;33m.\u001b[0m\u001b[0maxes\u001b[0m\u001b[1;33m)\u001b[0m\u001b[1;33m\u001b[0m\u001b[1;33m\u001b[0m\u001b[0m\n\u001b[0;32m    923\u001b[0m         \u001b[0mbm\u001b[0m\u001b[1;33m.\u001b[0m\u001b[0m_is_consolidated\u001b[0m \u001b[1;33m=\u001b[0m \u001b[1;32mFalse\u001b[0m\u001b[1;33m\u001b[0m\u001b[1;33m\u001b[0m\u001b[0m\n\u001b[1;32m--> 924\u001b[1;33m         \u001b[0mbm\u001b[0m\u001b[1;33m.\u001b[0m\u001b[0m_consolidate_inplace\u001b[0m\u001b[1;33m(\u001b[0m\u001b[1;33m)\u001b[0m\u001b[1;33m\u001b[0m\u001b[1;33m\u001b[0m\u001b[0m\n\u001b[0m\u001b[0;32m    925\u001b[0m         \u001b[1;32mreturn\u001b[0m \u001b[0mbm\u001b[0m\u001b[1;33m\u001b[0m\u001b[1;33m\u001b[0m\u001b[0m\n\u001b[0;32m    926\u001b[0m \u001b[1;33m\u001b[0m\u001b[0m\n",
      "\u001b[1;32mC:\\ProgramData\\Anaconda3\\lib\\site-packages\\pandas\\core\\internals\\managers.py\u001b[0m in \u001b[0;36m_consolidate_inplace\u001b[1;34m(self)\u001b[0m\n\u001b[0;32m    927\u001b[0m     \u001b[1;32mdef\u001b[0m \u001b[0m_consolidate_inplace\u001b[0m\u001b[1;33m(\u001b[0m\u001b[0mself\u001b[0m\u001b[1;33m)\u001b[0m\u001b[1;33m:\u001b[0m\u001b[1;33m\u001b[0m\u001b[1;33m\u001b[0m\u001b[0m\n\u001b[0;32m    928\u001b[0m         \u001b[1;32mif\u001b[0m \u001b[1;32mnot\u001b[0m \u001b[0mself\u001b[0m\u001b[1;33m.\u001b[0m\u001b[0mis_consolidated\u001b[0m\u001b[1;33m(\u001b[0m\u001b[1;33m)\u001b[0m\u001b[1;33m:\u001b[0m\u001b[1;33m\u001b[0m\u001b[1;33m\u001b[0m\u001b[0m\n\u001b[1;32m--> 929\u001b[1;33m             \u001b[0mself\u001b[0m\u001b[1;33m.\u001b[0m\u001b[0mblocks\u001b[0m \u001b[1;33m=\u001b[0m \u001b[0mtuple\u001b[0m\u001b[1;33m(\u001b[0m\u001b[0m_consolidate\u001b[0m\u001b[1;33m(\u001b[0m\u001b[0mself\u001b[0m\u001b[1;33m.\u001b[0m\u001b[0mblocks\u001b[0m\u001b[1;33m)\u001b[0m\u001b[1;33m)\u001b[0m\u001b[1;33m\u001b[0m\u001b[1;33m\u001b[0m\u001b[0m\n\u001b[0m\u001b[0;32m    930\u001b[0m             \u001b[0mself\u001b[0m\u001b[1;33m.\u001b[0m\u001b[0m_is_consolidated\u001b[0m \u001b[1;33m=\u001b[0m \u001b[1;32mTrue\u001b[0m\u001b[1;33m\u001b[0m\u001b[1;33m\u001b[0m\u001b[0m\n\u001b[0;32m    931\u001b[0m             \u001b[0mself\u001b[0m\u001b[1;33m.\u001b[0m\u001b[0m_known_consolidated\u001b[0m \u001b[1;33m=\u001b[0m \u001b[1;32mTrue\u001b[0m\u001b[1;33m\u001b[0m\u001b[1;33m\u001b[0m\u001b[0m\n",
      "\u001b[1;32mC:\\ProgramData\\Anaconda3\\lib\\site-packages\\pandas\\core\\internals\\managers.py\u001b[0m in \u001b[0;36m_consolidate\u001b[1;34m(blocks)\u001b[0m\n\u001b[0;32m   1897\u001b[0m     \u001b[1;32mfor\u001b[0m \u001b[1;33m(\u001b[0m\u001b[0m_can_consolidate\u001b[0m\u001b[1;33m,\u001b[0m \u001b[0mdtype\u001b[0m\u001b[1;33m)\u001b[0m\u001b[1;33m,\u001b[0m \u001b[0mgroup_blocks\u001b[0m \u001b[1;32min\u001b[0m \u001b[0mgrouper\u001b[0m\u001b[1;33m:\u001b[0m\u001b[1;33m\u001b[0m\u001b[1;33m\u001b[0m\u001b[0m\n\u001b[0;32m   1898\u001b[0m         merged_blocks = _merge_blocks(list(group_blocks), dtype=dtype,\n\u001b[1;32m-> 1899\u001b[1;33m                                       _can_consolidate=_can_consolidate)\n\u001b[0m\u001b[0;32m   1900\u001b[0m         \u001b[0mnew_blocks\u001b[0m \u001b[1;33m=\u001b[0m \u001b[0m_extend_blocks\u001b[0m\u001b[1;33m(\u001b[0m\u001b[0mmerged_blocks\u001b[0m\u001b[1;33m,\u001b[0m \u001b[0mnew_blocks\u001b[0m\u001b[1;33m)\u001b[0m\u001b[1;33m\u001b[0m\u001b[1;33m\u001b[0m\u001b[0m\n\u001b[0;32m   1901\u001b[0m     \u001b[1;32mreturn\u001b[0m \u001b[0mnew_blocks\u001b[0m\u001b[1;33m\u001b[0m\u001b[1;33m\u001b[0m\u001b[0m\n",
      "\u001b[1;32mC:\\ProgramData\\Anaconda3\\lib\\site-packages\\pandas\\core\\internals\\blocks.py\u001b[0m in \u001b[0;36m_merge_blocks\u001b[1;34m(blocks, dtype, _can_consolidate)\u001b[0m\n\u001b[0;32m   3147\u001b[0m \u001b[1;33m\u001b[0m\u001b[0m\n\u001b[0;32m   3148\u001b[0m         \u001b[0margsort\u001b[0m \u001b[1;33m=\u001b[0m \u001b[0mnp\u001b[0m\u001b[1;33m.\u001b[0m\u001b[0margsort\u001b[0m\u001b[1;33m(\u001b[0m\u001b[0mnew_mgr_locs\u001b[0m\u001b[1;33m)\u001b[0m\u001b[1;33m\u001b[0m\u001b[1;33m\u001b[0m\u001b[0m\n\u001b[1;32m-> 3149\u001b[1;33m         \u001b[0mnew_values\u001b[0m \u001b[1;33m=\u001b[0m \u001b[0mnew_values\u001b[0m\u001b[1;33m[\u001b[0m\u001b[0margsort\u001b[0m\u001b[1;33m]\u001b[0m\u001b[1;33m\u001b[0m\u001b[1;33m\u001b[0m\u001b[0m\n\u001b[0m\u001b[0;32m   3150\u001b[0m         \u001b[0mnew_mgr_locs\u001b[0m \u001b[1;33m=\u001b[0m \u001b[0mnew_mgr_locs\u001b[0m\u001b[1;33m[\u001b[0m\u001b[0margsort\u001b[0m\u001b[1;33m]\u001b[0m\u001b[1;33m\u001b[0m\u001b[1;33m\u001b[0m\u001b[0m\n\u001b[0;32m   3151\u001b[0m \u001b[1;33m\u001b[0m\u001b[0m\n",
      "\u001b[1;31mKeyboardInterrupt\u001b[0m: "
     ]
    }
   ],
   "source": [
    "# 2010年から2018年の9年間で検証\n",
    "foot_gran_k = pd.DataFrame(columns=['K', 'gran', 'pos_count', 'pips'])\n",
    "for i in range(5, 25+1):\n",
    "    K = round(i * 0.1, 2)\n",
    "    for gran in ['M5', 'M10', 'M15', 'M30',\n",
    "                 'H1', 'H2', 'H3', 'H4', 'H6', 'H8', 'H12',\n",
    "                 'D']:\n",
    "        pos_df, df = back_test(K=K, start='2010-01-01-00-00-00', end='2018-12-31-00-00-00',\n",
    "                               gran=gran, ref=5, seed_money=1000000, kly_rate=0.5)\n",
    "        print('K: {}, gran: {}, pos_count: {}, pips: {:.4f}'.format(K, gran, pos_df.shape[0], pos_df['pips'].sum()))\n",
    "        tmp_se = pd.Series([K, gran, pos_df.shape[0], round(pos_df['pips'].sum(), 4)], index=foot_gran_k.columns)\n",
    "        foot_gran_k = foot_gran_k.append(tmp_se, ignore_index=True)"
   ]
  },
  {
   "cell_type": "code",
   "execution_count": null,
   "metadata": {},
   "outputs": [],
   "source": [
    "foot_gran_k.sort_values(by='pips', ascending=False).head(10)"
   ]
  },
  {
   "cell_type": "code",
   "execution_count": null,
   "metadata": {},
   "outputs": [],
   "source": [
    "# M15 検証\n",
    "k_M15 = pd.DataFrame(columns=['K', 'pos_count', 'pips'])\n",
    "for i in range(25, 50+1):\n",
    "    K = round(i * 0.1, 2)\n",
    "    pos_df, df = back_test(K=K, start='2010-01-01-00-00-00', end='2018-12-31-00-00-00',\n",
    "                           gran='M15', ref=5, seed_money=1000000, kly_rate=0.5)\n",
    "    print('K: {}, pos_count: {}, pips: {:.2f}'.format(K, pos_df.shape[0], pos_df['pips'].sum()))\n",
    "    tmp_se = pd.Series([K, gran, pos_df.shape[0], round(pos_df['pips'].sum(), 2)], index=k_M15.columns)\n",
    "    k_M15 = k_M15.append(tmp_se, ignore_index=True)"
   ]
  },
  {
   "cell_type": "code",
   "execution_count": null,
   "metadata": {},
   "outputs": [],
   "source": [
    "# H12 検証\n",
    "k_H12 = pd.DataFrame(columns=['K', 'pos_count', 'pips'])\n",
    "for i in range(1, 5+1):\n",
    "    K = round(i * 0.1, 2)\n",
    "    pos_df, df = back_test(K=K, start='2010-01-01-00-00-00', end='2018-12-31-00-00-00',\n",
    "                           gran='H12', ref=5, seed_money=1000000, kly_rate=0.5)\n",
    "    print('K: {}, pos_count: {}, pips: {:.2f}'.format(K, pos_df.shape[0], pos_df['pips'].sum()))\n",
    "    tmp_se = pd.Series([K, gran, pos_df.shape[0], round(pos_df['pips'].sum(), 2)], index=k_H12.columns)\n",
    "    k_H12 = k_H12.append(tmp_se, ignore_index=True)"
   ]
  },
  {
   "cell_type": "code",
   "execution_count": null,
   "metadata": {},
   "outputs": [],
   "source": []
  }
 ],
 "metadata": {
  "kernelspec": {
   "display_name": "Python 3",
   "language": "python",
   "name": "python3"
  },
  "language_info": {
   "codemirror_mode": {
    "name": "ipython",
    "version": 3
   },
   "file_extension": ".py",
   "mimetype": "text/x-python",
   "name": "python",
   "nbconvert_exporter": "python",
   "pygments_lexer": "ipython3",
   "version": "3.7.3"
  },
  "varInspector": {
   "cols": {
    "lenName": 16,
    "lenType": 16,
    "lenVar": 40
   },
   "kernels_config": {
    "python": {
     "delete_cmd_postfix": "",
     "delete_cmd_prefix": "del ",
     "library": "var_list.py",
     "varRefreshCmd": "print(var_dic_list())"
    },
    "r": {
     "delete_cmd_postfix": ") ",
     "delete_cmd_prefix": "rm(",
     "library": "var_list.r",
     "varRefreshCmd": "cat(var_dic_list()) "
    }
   },
   "types_to_exclude": [
    "module",
    "function",
    "builtin_function_or_method",
    "instance",
    "_Feature"
   ],
   "window_display": false
  }
 },
 "nbformat": 4,
 "nbformat_minor": 2
}
