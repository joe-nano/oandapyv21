{
 "cells": [
  {
   "cell_type": "markdown",
   "metadata": {},
   "source": [
    "# 準備"
   ]
  },
  {
   "cell_type": "code",
   "execution_count": 1,
   "metadata": {},
   "outputs": [],
   "source": [
    "import pandas as pd\n",
    "import numpy as np\n",
    "import matplotlib.pyplot as plt\n",
    "%matplotlib inline\n",
    "plt.rcParams['font.family'] = 'IPAPGothic'\n",
    "from oandapyV20 import API\n",
    "import oandapyV20.endpoints.instruments as instruments\n",
    "import datetime\n",
    "from statistics import mean\n",
    "from statistics import median\n",
    "import calendar\n",
    "import datetime"
   ]
  },
  {
   "cell_type": "code",
   "execution_count": 2,
   "metadata": {},
   "outputs": [],
   "source": [
    "# OANDA API v20の口座IDとAPIトークン\n",
    "accountID = \"101-009-12609641-001\"\n",
    "access_token = \"11f2a77cf99d3d29afc4c1cb1a0fb36b-e0fc1d1bf476926157f1d5992466fdf4\"\n",
    "\n",
    "# OANDAのデモ口座へのAPI接続\n",
    "api = API(access_token=access_token, environment=\"practice\")"
   ]
  },
  {
   "cell_type": "code",
   "execution_count": 3,
   "metadata": {},
   "outputs": [],
   "source": [
    "def to_dataframe(r):\n",
    "    data = []\n",
    "    for raw in r.response['candles']:\n",
    "        data.append([raw['time'], raw['volume'], raw['mid']['o'], raw['mid']['h'], raw['mid']['l'], raw['mid']['c']])\n",
    "\n",
    "    # リストからPandas DataFrameへ変換\n",
    "    df = pd.DataFrame(data)\n",
    "    df.columns = ['Time', 'Volume', 'Open', 'High', 'Low', 'Close']\n",
    "    df['Time'] = pd.to_datetime(df['Time'])\n",
    "    for col in ['Open', 'High', 'Low', 'Close']:\n",
    "        df[col] = df[col].apply(float)\n",
    "    return df"
   ]
  },
  {
   "cell_type": "code",
   "execution_count": 17,
   "metadata": {},
   "outputs": [],
   "source": [
    "def get_data(count, gran, year, month, day, hour, minute, second):\n",
    "    fmt = '%Y-%m-%dT%H:%M:00.000000Z'\n",
    "    _from = datetime.datetime(year=year, month=month, day=day,\n",
    "                              hour=hour, minute=minute, second=second).strftime(fmt)\n",
    "    params = {\n",
    "        \"count\": count,\n",
    "        \"granularity\": gran,\n",
    "        'from': _from,\n",
    "#         'dailyAlignment': 0\n",
    "    }\n",
    "    r = instruments.InstrumentsCandles(instrument=\"USD_JPY\", params=params)\n",
    "    api.request(r)\n",
    "    df = to_dataframe(r)\n",
    "    return df"
   ]
  },
  {
   "cell_type": "code",
   "execution_count": 30,
   "metadata": {},
   "outputs": [],
   "source": [
    "def get_data_super(start, end, gran):\n",
    "    # xxxx-xx-xx～xxxx-xx-xx の期間のデータを取得してデータフレームを返す\n",
    "    s_year, s_month, s_day, s_hour, s_minute, s_second = map(int, start.split('-'))\n",
    "    e_year, e_month, e_day, e_hour, e_minute, e_second = map(int, end.split('-'))\n",
    "    fmt = '%Y-%m-%dT%H:%M:00.000000Z'\n",
    "    from_ = datetime.datetime(year=s_year, month=s_month, day=s_day,\n",
    "                              hour=s_hour, minute=s_minute, second=s_second).strftime(fmt)\n",
    "    to_ = datetime.datetime(year=e_year, month=e_month, day=e_day,\n",
    "                              hour=e_hour, minute=e_minute, second=e_second).strftime(fmt)\n",
    "    df = pd.DataFrame()\n",
    "    # 5000個制限に引っかからなければこっちの処理\n",
    "    try:\n",
    "        params = {\n",
    "            \"granularity\": gran,\n",
    "            'from': from_,\n",
    "            'to': to_\n",
    "        }\n",
    "        r = instruments.InstrumentsCandles(instrument=\"USD_JPY\", params=params)\n",
    "        api.request(r)\n",
    "        df = to_dataframe(r)\n",
    "    # 引っかかればこっちの処理\n",
    "    except:\n",
    "        i = True\n",
    "        while i:\n",
    "            df_tmp = get_data(count=5000, gran=gran, year=s_year, month=s_month, day=s_day,\n",
    "                             hour=s_hour, minute=s_minute, second=s_second)\n",
    "            df = pd.concat([df, df_tmp], ignore_index=True)\n",
    "            s_year = df_tmp.iat[df_tmp.tail(1).index[0], 0].year\n",
    "            s_month = df_tmp.iat[df_tmp.tail(1).index[0], 0].month\n",
    "            s_day = df_tmp.iat[df_tmp.tail(1).index[0], 0].day\n",
    "            s_hour = df_tmp.iat[df_tmp.tail(1).index[0], 0].hour\n",
    "            s_minute = df_tmp.iat[df_tmp.tail(1).index[0], 0].minute\n",
    "            s_second = df_tmp.iat[df_tmp.tail(1).index[0], 0].second\n",
    "            print('{}-{}-{}-{}-{}-{}'.format(s_year, s_month, s_day, s_hour, s_minute, s_second))\n",
    "            # 5000個ずつ取得してエンド超えたら止める\n",
    "            if s_year > e_year:\n",
    "                i = False\n",
    "        # 止めたらはみ出した分をここで切り落とす\n",
    "        for i in range(len(df.index) - 1000, len(df.index)):\n",
    "            if df.iat[i, 0].year == e_year and df.iat[i, 0].month == e_month and df.iat[i, 0].day == e_day:\n",
    "                df = df[0:i+1]\n",
    "                break\n",
    "    return df"
   ]
  },
  {
   "cell_type": "code",
   "execution_count": 31,
   "metadata": {},
   "outputs": [],
   "source": [
    "# バックテスト\n",
    "def back_test(K, start, end, gran, ref):\n",
    "    K = K # レンジ幅係数\n",
    "    range_ = 0\n",
    "    range_list = []\n",
    "    ave_range = 0\n",
    "    least_5 = 0\n",
    "    pos = 'None'\n",
    "    profit_list = []\n",
    "    entry_rate = 0\n",
    "    \n",
    "    df = get_data_super(start, end, gran)\n",
    "    \n",
    "    pos_count = 0\n",
    "    fee = 0.008\n",
    "    ref = ref\n",
    "    \n",
    "    # OANDA API v20の口座IDとAPIトークン\n",
    "    accountID = \"101-009-12609641-001\"\n",
    "    access_token = \"11f2a77cf99d3d29afc4c1cb1a0fb36b-e0fc1d1bf476926157f1d5992466fdf4\"\n",
    "    # OANDAのデモ口座へのAPI接続\n",
    "    api = API(access_token=access_token, environment=\"practice\")\n",
    "\n",
    "    # 実行\n",
    "    for i in range(len(df.index) - 1):\n",
    "        rate = df.iat[i, 5] # 当日の終値\n",
    "        next_rate = df.iat[i+1, 2] # シグナル点灯した次の足の始値\n",
    "        range_ = round(df.iat[i, 3] - df.iat[i, 4], 3) # High - Low\n",
    "        range_list.append(range_)\n",
    "    \n",
    "        if i > ref:\n",
    "            least_m = round(mean(range_list[i-ref-1:i-1]) * K, 3)\n",
    "            open_high = round(df.iat[i, 3] - df.iat[i, 2], 3) # High - Open\n",
    "            open_low = round(df.iat[i, 2] - df.iat[i, 4], 3) # Open - Low\n",
    "            # print('least_m: {} open_high: {} open_low: {}'.format(least_m, open_high, open_low))\n",
    "\n",
    "            # 上昇トレンドと判断しロング\n",
    "            if least_m < open_high and open_low < open_high:\n",
    "                pos_count+=1\n",
    "                if pos == 'entry_long':\n",
    "                    continue\n",
    "                else:\n",
    "                    # もし逆のポジションを持ってたら利確\n",
    "                    if pos == 'entry_short':\n",
    "                        exit_rate = next_rate\n",
    "                        profit = entry_rate - exit_rate - fee\n",
    "                        profit_list.append(profit)\n",
    "                        print('S利確 entry_rate: {}, exit_rate: {}, profit: {}'.format(entry_rate, exit_rate, profit))\n",
    "\n",
    "                    entry_rate = next_rate\n",
    "                    pos = 'entry_long'\n",
    "                    # print(pos)\n",
    "        \n",
    "            # 下降トレンドと判断しショート\n",
    "            if least_m < open_low and open_high < open_low:\n",
    "                pos_count+=1\n",
    "                if pos == 'entry_short':\n",
    "                    continue\n",
    "                else:\n",
    "                    # もし逆のポジションを持ってたら利確\n",
    "                    if pos == 'entry_long':\n",
    "                        exit_rate = next_rate\n",
    "                        profit = exit_rate - entry_rate - fee\n",
    "                        profit_list.append(profit)\n",
    "                        print('L利確 entry_rate: {}, exit_rate: {}, profit: {}'.format(entry_rate, exit_rate, profit))\n",
    "                        \n",
    "                    entry_rate = next_rate\n",
    "                    pos = 'entry_short'\n",
    "                    # print(pos)\n",
    "                    \n",
    "#     print('posision count: {}, profit: {}'.format(pos_count, sum(profit_list)))\n",
    "    return pos_count, sum(profit_list)"
   ]
  },
  {
   "cell_type": "markdown",
   "metadata": {},
   "source": [
    "# 検証"
   ]
  },
  {
   "cell_type": "markdown",
   "metadata": {},
   "source": [
    "##### 足の長さを変えてみよう"
   ]
  },
  {
   "cell_type": "code",
   "execution_count": null,
   "metadata": {
    "scrolled": true
   },
   "outputs": [
    {
     "name": "stdout",
     "output_type": "stream",
     "text": [
    {
     "name": "stdout",
     "output_type": "stream",
     "text": [
     ]
    }
   ],
   "source": [
    "# 2010年から2018年の9年間で検証\n",
    "foot_gran = pd.DataFrame(columns=['gran', 'pos_count', 'profit'])\n",
    "for gran in ['S5', 'S10', 'S15', 'S30',\n",
    "             'M1', 'M2', 'M3', 'M4', 'M5', 'M10', 'M15', 'M30',\n",
    "             'H1', 'H2', 'H3', 'H4', 'H6', 'H8', 'H12',\n",
    "             'D']:\n",
    "    pos_count, profit = back_test(K=1.5, start='2010-01-01-00-00-00', end='2018-12-31-00-00-00', gran=gran, ref=5)\n",
    "    print('gran: {}, pos_count: {}, profit: {}'.format(gran, pos_count, profit))\n",
    "    tmp_se = pd.Series( [gran, pos_count, profit ], index=foot_gran.columns )\n",
    "    foot_gran = foot_gran.append( tmp_se, ignore_index=True )"
   ]
  },
  {
   "cell_type": "code",
   "execution_count": null,
   "metadata": {},
   "outputs": [],
   "source": []
  }
 ],
 "metadata": {
  "kernelspec": {
   "display_name": "Python 3",
   "language": "python",
   "name": "python3"
  },
  "language_info": {
   "codemirror_mode": {
    "name": "ipython",
    "version": 3
   },
   "file_extension": ".py",
   "mimetype": "text/x-python",
   "name": "python",
   "nbconvert_exporter": "python",
   "pygments_lexer": "ipython3",
   "version": "3.7.3"
  }
 },
 "nbformat": 4,
 "nbformat_minor": 2
}
