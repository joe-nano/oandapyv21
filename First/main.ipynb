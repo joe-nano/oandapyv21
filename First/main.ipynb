{
 "cells": [
  {
   "cell_type": "code",
   "execution_count": 6,
   "metadata": {},
   "outputs": [],
   "source": [
    "# ライブラリのインポート\n",
    "import pandas as pd\n",
    "import numpy as np\n",
    "import matplotlib.pyplot as plt\n",
    "import mpl_finance\n",
    "%matplotlib inline\n",
    "plt.rcParams['font.family'] = 'IPAPGothic'\n",
    "from oandapyV20 import API\n",
    "from oandapyV20.exceptions import V20Error\n",
    "import oandapyV20.endpoints.instruments as instruments\n",
    "import oandapyV20.endpoints.accounts as accounts\n",
    "import oandapyV20.endpoints.orders as orders\n",
    "import oandapyV20.endpoints.positions as positions\n",
    "import oandapyV20.endpoints.pricing as pricing\n",
    "from oandapyV20.endpoints.pricing import PricingInfo\n",
    "import datetime\n",
    "from statistics import mean\n",
    "from statistics import median\n",
    "import calendar\n",
    "import datetime\n",
    "from math import floor\n",
    "import schedule\n",
    "import time\n",
    "import threading\n",
    "import json\n",
    "import statistics"
   ]
  },
  {
   "cell_type": "code",
   "execution_count": 2,
   "metadata": {},
   "outputs": [],
   "source": [
    "# OANDA API v20の口座IDとAPIトークン\n",
    "accountID = \"101-009-12609641-001\"\n",
    "access_token = \"11f2a77cf99d3d29afc4c1cb1a0fb36b-e0fc1d1bf476926157f1d5992466fdf4\"\n",
    "# OANDAのデモ口座へのAPI接続\n",
    "api = API(access_token=access_token, environment=\"practice\")"
   ]
  },
  {
   "cell_type": "code",
   "execution_count": 3,
   "metadata": {},
   "outputs": [],
   "source": [
    "# APIから取得したレートをPandasのDataFrameへ\n",
    "def to_dataframe(r):\n",
    "    data = []\n",
    "    for raw in r.response['candles']:\n",
    "        data.append([raw['time'], raw['volume'], raw['mid']['o'], raw['mid']['h'], raw['mid']['l'], raw['mid']['c']])\n",
    "\n",
    "    # リストからPandas DataFrameへ変換\n",
    "    df = pd.DataFrame(data)\n",
    "    df.columns = ['Time', 'Volume', 'Open', 'High', 'Low', 'Close']\n",
    "    df['Time'] = pd.to_datetime(df['Time'])\n",
    "    for col in ['Open', 'High', 'Low', 'Close']:\n",
    "        df[col] = df[col].apply(float)\n",
    "    return df"
   ]
  },
  {
   "cell_type": "code",
   "execution_count": 4,
   "metadata": {},
   "outputs": [],
   "source": [
    "def get_data(count, gran, year, month, day, hour, minute, second):\n",
    "    fmt = '%Y-%m-%dT%H:%M:00.000000Z'\n",
    "    _from = datetime.datetime(year=year, month=month, day=day,\n",
    "                              hour=hour, minute=minute, second=second).strftime(fmt)\n",
    "    params = {\n",
    "        \"count\": count,\n",
    "        \"granularity\": gran,\n",
    "        'from': _from,\n",
    "#         'dailyAlignment': 0\n",
    "    }\n",
    "    r = instruments.InstrumentsCandles(instrument=\"USD_JPY\", params=params)\n",
    "    api.request(r)\n",
    "    df = to_dataframe(r)\n",
    "    return df"
   ]
  },
  {
   "cell_type": "code",
   "execution_count": 5,
   "metadata": {},
   "outputs": [],
   "source": [
    "# 第何何曜日（第nX曜日）の日付を返す関数\n",
    "def get_day_of_nth_dow(year, month, nth, dow):\n",
    "    '''dow: Monday(0) - Sunday(6)'''\n",
    "    if nth < 1 or dow < 0 or dow > 6:\n",
    "        return None\n",
    "\n",
    "    first_dow, n = calendar.monthrange(year, month)\n",
    "    day = 7 * (nth - 1) + (dow - first_dow) % 7 + 1\n",
    "\n",
    "    return day if day <= n else None"
   ]
  },
  {
   "cell_type": "code",
   "execution_count": 6,
   "metadata": {},
   "outputs": [],
   "source": [
    "def get_data_super(start, end, gran):\n",
    "    # xxxx-xx-xx～xxxx-xx-xx の期間のデータを取得してデータフレームを返す\n",
    "    s_year, s_month, s_day, s_hour, s_minute, s_second = map(int, start.split('-'))\n",
    "    e_year, e_month, e_day, e_hour, e_minute, e_second = map(int, end.split('-'))\n",
    "    fmt = '%Y-%m-%dT%H:%M:00.000000Z'\n",
    "    from_ = datetime.datetime(year=s_year, month=s_month, day=s_day,\n",
    "                              hour=s_hour, minute=s_minute, second=s_second).strftime(fmt)\n",
    "    to_ = datetime.datetime(year=e_year, month=e_month, day=e_day,\n",
    "                            hour=e_hour, minute=e_minute, second=e_second).strftime(fmt)\n",
    "    df = pd.DataFrame()\n",
    "    # 5000個制限に引っかからなければこっちの処理\n",
    "    try:\n",
    "        params = {\n",
    "            \"granularity\": gran,\n",
    "            'from': from_,\n",
    "            'to': to_\n",
    "        }\n",
    "        r = instruments.InstrumentsCandles(instrument=\"USD_JPY\", params=params)\n",
    "        api.request(r)\n",
    "        df = to_dataframe(r)\n",
    "    # 引っかかればこっちの処理\n",
    "    except:\n",
    "        i = True\n",
    "        while i:\n",
    "            df_tmp = get_data(count=5000, gran=gran, year=s_year, month=s_month, day=s_day,\n",
    "                             hour=s_hour, minute=s_minute, second=s_second)\n",
    "            df = pd.concat([df, df_tmp], ignore_index=True)\n",
    "            s_year = df_tmp.iat[df_tmp.tail(1).index[0], 0].year\n",
    "            s_month = df_tmp.iat[df_tmp.tail(1).index[0], 0].month\n",
    "            s_day = df_tmp.iat[df_tmp.tail(1).index[0], 0].day\n",
    "            s_hour = df_tmp.iat[df_tmp.tail(1).index[0], 0].hour\n",
    "            s_minute = df_tmp.iat[df_tmp.tail(1).index[0], 0].minute\n",
    "            s_second = df_tmp.iat[df_tmp.tail(1).index[0], 0].second\n",
    "#             print('{}-{}-{}-{}-{}-{}'.format(s_year, s_month, s_day, s_hour, s_minute, s_second))\n",
    "            # 5000個ずつ取得してエンド超えたら止める\n",
    "            if s_year > e_year:\n",
    "                i = False\n",
    "        # 止めたらはみ出した分をここで切り落とす\n",
    "        for i in range(len(df.index) - 1000, len(df.index)):\n",
    "            if df.iat[i, 0].year == e_year and df.iat[i, 0].month == e_month and df.iat[i, 0].day == e_day:\n",
    "                df = df[0:i+1]\n",
    "                break\n",
    "    return df"
   ]
  },
  {
   "cell_type": "code",
   "execution_count": 7,
   "metadata": {},
   "outputs": [],
   "source": [
    "def set_profit(tmp_i, i, pos, entry_rate, exit_rate, assets, kly_rate, df, pos_df, pos_count):\n",
    "    fee = 0.008\n",
    "    pos_count+=1\n",
    "    if pos == 'entry_long':\n",
    "        pips = (exit_rate - entry_rate - fee) * 100\n",
    "#       print('L利確 entry_rate: {}, exit_rate: {}, pips: {}'.format(entry_rate, exit_rate, pips))\n",
    "\n",
    "        # ケリー基準で Lot を決める\n",
    "        kly = assets * kly_rate\n",
    "        lot = floor(kly / exit_rate)\n",
    "        if lot < 1000:\n",
    "            lot = 1000\n",
    "        elif lot > 3000000:\n",
    "            lot = 3000000\n",
    "        profit = lot * 25 * pips\n",
    "        assets = round(assets + profit, 4)\n",
    "        tmp_se = pd.Series( [lot, df.iat[tmp_i,0], entry_rate, df.iat[i+1,0], exit_rate, pips, profit, assets ], index=pos_df.columns )\n",
    "        pos_df = pos_df.append( tmp_se, ignore_index=True )\n",
    "        return assets, pos_df, pos_count\n",
    "    else:\n",
    "        pips = (entry_rate - exit_rate - fee) * 1000\n",
    "#       print('S利確 entry_rate: {}, exit_rate: {}, pips: {}'.format(entry_rate, exit_rate, pips))\n",
    "\n",
    "        # ケリー基準で Lot を決める\n",
    "        kly = assets * kly_rate\n",
    "        lot = floor(kly / exit_rate)\n",
    "        if lot < 1000:\n",
    "            lot = 1000\n",
    "        elif lot > 3000000:\n",
    "            lot = 3000000\n",
    "        profit = lot * 25 * pips\n",
    "        assets = round(assets + profit, 4)\n",
    "        tmp_se = pd.Series( [lot, df.iat[tmp_i,0], entry_rate, df.iat[i+1,0], exit_rate, pips, profit, assets ], index=pos_df.columns )\n",
    "        pos_df = pos_df.append( tmp_se, ignore_index=True )\n",
    "        return assets, pos_df, pos_count"
   ]
  },
  {
   "cell_type": "code",
   "execution_count": 8,
   "metadata": {},
   "outputs": [],
   "source": [
    "# バックテスト\n",
    "def back_test(K, start, end, gran, ref, seed_money, kly_rate):\n",
    "    K = K # レンジ幅係数\n",
    "    range_ = 0\n",
    "    range_list = []\n",
    "    ave_range = 0\n",
    "    least_5 = 0\n",
    "    pos = 'None'\n",
    "    entry_rate = 0\n",
    "    pos_count = 0\n",
    "    ref = ref\n",
    "    assets = seed_money\n",
    "    lot = 0\n",
    "    kly_rate = kly_rate\n",
    "    pips_tmp = 0\n",
    "    los_count = 0\n",
    "    los_set = -1.5\n",
    "    tmp_i = 0\n",
    "    \n",
    "    df = get_data_super(start, end, gran)\n",
    "    pos_df = pd.DataFrame(columns=['lot', 'entry_date', 'entry_rate', 'exit_date', 'exit_rate', 'pips', 'profit', 'assets'])\n",
    "    \n",
    "    # OANDA API v20の口座IDとAPIトークン\n",
    "    accountID = \"101-009-12609641-001\"\n",
    "    access_token = \"11f2a77cf99d3d29afc4c1cb1a0fb36b-e0fc1d1bf476926157f1d5992466fdf4\"\n",
    "    # OANDAのデモ口座へのAPI接続\n",
    "    api = API(access_token=access_token, environment=\"practice\")\n",
    "\n",
    "    # 実行\n",
    "    for i in range(len(df.index) - 1):\n",
    "        rate = df.iat[i, 5] # 当日の終値\n",
    "        next_rate = df.iat[i+1, 2] # 次の足の始値（エントリー価格）\n",
    "        range_ = abs(round(df.iat[i, 3] - df.iat[i, 4], 3)) # |High - Low| レンジ幅\n",
    "        range_list.append(range_)\n",
    "    \n",
    "        if i > ref:\n",
    "            least_m = round(mean(range_list[i-ref-1:i-1]) * K, 3) # 直近5個のレンジ幅の平均\n",
    "            red_range = round(df.iat[i, 3] - df.iat[i, 2], 3) # High - Open 赤幅(上げ幅)\n",
    "            blue_range = round(df.iat[i, 2] - df.iat[i, 4], 3) # Open - Low 青幅(下げ幅)\n",
    "            # print('least_m: {} open_high: {} open_low: {}'.format(least_m, open_high, open_low))\n",
    "\n",
    "            # 上昇トレンドと判断しロング\n",
    "            if df.iat[i, 2] < df.iat[i, 5] and least_m < red_range: # 始値より終値の方が高く、5個平均よりもレンジが大きいとき\n",
    "                if pos == 'entry_long':\n",
    "                    continue\n",
    "                else:\n",
    "                    # もし逆のポジションを持ってたら利確\n",
    "                    if pos == 'entry_short':\n",
    "                        exit_rate = next_rate\n",
    "                        assets, pos_df, pos_count = set_profit(tmp_i, i, pos, entry_rate, exit_rate, assets, kly_rate, df, pos_df, pos_count)\n",
    "                        if assets < 0:\n",
    "                            print('game over')\n",
    "                            break\n",
    "                    \n",
    "                    entry_rate = next_rate\n",
    "                    pos = 'entry_long'\n",
    "                    tmp_i = i+1\n",
    "                    # print(pos)\n",
    "        \n",
    "            # 下降トレンドと判断しショート\n",
    "            if df.iat[i, 5] < df.iat[i, 2] and least_m < blue_range: # 終値より始値の方が高く、5個平均よりもレンジが大きいとき\n",
    "                if pos == 'entry_short':\n",
    "                    continue\n",
    "                else:\n",
    "                    # もし逆のポジションを持ってたら利確\n",
    "                    if pos == 'entry_long':\n",
    "                        exit_rate = next_rate\n",
    "                        assets, pos_df, pos_count = set_profit(tmp_i, i, pos, entry_rate, exit_rate, assets, kly_rate, df, pos_df, pos_count)\n",
    "                        if assets < 0:\n",
    "                            print('game over')\n",
    "                            break\n",
    "        \n",
    "                    entry_rate = next_rate\n",
    "                    pos = 'entry_short'\n",
    "                    tmp_i = i+1\n",
    "                    # print(pos)\n",
    "                    \n",
    "    print('posision count: {}, seed_money: {}万円, assets: {}万円'.format(pos_count, seed_money/10000, round(assets/10000, 4)))\n",
    "    return pos_df, df, round(assets/10000, 4)\n",
    "#     return pos_df, df"
   ]
  },
  {
   "cell_type": "markdown",
   "metadata": {},
   "source": [
    "### 口座情報の取得"
   ]
  },
  {
   "cell_type": "code",
   "execution_count": null,
   "metadata": {
    "scrolled": true
   },
   "outputs": [],
   "source": [
    "# OANDA API v20の口座IDとAPIトークン\n",
    "accountID = \"101-009-12609641-001\"\n",
    "access_token = \"11f2a77cf99d3d29afc4c1cb1a0fb36b-e0fc1d1bf476926157f1d5992466fdf4\"\n",
    "# OANDAのデモ口座へのAPI接続\n",
    "api = API(access_token=access_token, environment=\"practice\")\n",
    "s = accounts.AccountSummary(accountID)\n",
    "api.request(s)"
   ]
  },
  {
   "cell_type": "markdown",
   "metadata": {},
   "source": [
    "### 現在のポジションを取得"
   ]
  },
  {
   "cell_type": "code",
   "execution_count": 11,
   "metadata": {
    "scrolled": true
   },
   "outputs": [
    {
     "data": {
      "text/plain": [
       "{'positions': [], 'lastTransactionID': '59'}"
      ]
     },
     "execution_count": 11,
     "metadata": {},
     "output_type": "execute_result"
    }
   ],
   "source": [
    "# OANDA API v20の口座IDとAPIトークン\n",
    "accountID = \"101-009-12609641-001\"\n",
    "access_token = \"11f2a77cf99d3d29afc4c1cb1a0fb36b-e0fc1d1bf476926157f1d5992466fdf4\"\n",
    "# OANDAのデモ口座へのAPI接続\n",
    "api = API(access_token=access_token, environment=\"practice\")\n",
    "p = positions.OpenPositions(accountID=accountID)\n",
    "api.request(p)"
   ]
  },
  {
   "cell_type": "code",
   "execution_count": 12,
   "metadata": {},
   "outputs": [
    {
     "name": "stdout",
     "output_type": "stream",
     "text": [
      "0\n"
     ]
    }
   ],
   "source": [
    "try:\n",
    "    l_pos = int(p.response['positions'][0]['long']['units'])\n",
    "    s_pos = int(p.response['positions'][0]['short']['units'])\n",
    "    pos = l_pos + s_pos\n",
    "except:\n",
    "    pos = 0\n",
    "print(pos)"
   ]
  },
  {
   "cell_type": "code",
   "execution_count": 13,
   "metadata": {
    "scrolled": true
   },
   "outputs": [],
   "source": [
    "        if pos == 0:\n",
    "            pass\n",
    "        elif pos > 0:\n",
    "            position_data = { \"longUnits\": \"ALL\" }\n",
    "            print('ロングを決済')\n",
    "            p = positions.PositionClose( accountID=accountID, data=position_data, instrument=\"USD_JPY\" )\n",
    "            api.request(p)\n",
    "        else:\n",
    "            position_data = { \"shortUnits\": \"ALL\" }\n",
    "            print('ショートを決済')\n",
    "            p = positions.PositionClose( accountID=accountID, data=position_data, instrument=\"USD_JPY\" )\n",
    "            api.request(p)"
   ]
  },
  {
   "cell_type": "markdown",
   "metadata": {},
   "source": [
    "### 注文"
   ]
  },
  {
   "cell_type": "code",
   "execution_count": 98,
   "metadata": {
    "scrolled": true
   },
   "outputs": [
    {
     "data": {
      "text/plain": [
       "{'orderCreateTransaction': {'type': 'MARKET_ORDER',\n",
       "  'instrument': 'USD_JPY',\n",
       "  'units': '1',\n",
       "  'timeInForce': 'FOK',\n",
       "  'positionFill': 'DEFAULT',\n",
       "  'reason': 'CLIENT_ORDER',\n",
       "  'id': '55',\n",
       "  'accountID': '101-009-12609641-001',\n",
       "  'userID': 12609641,\n",
       "  'batchID': '55',\n",
       "  'requestID': '24617943972983195',\n",
       "  'time': '2019-11-22T07:32:06.276523698Z'},\n",
       " 'orderFillTransaction': {'type': 'ORDER_FILL',\n",
       "  'orderID': '55',\n",
       "  'instrument': 'USD_JPY',\n",
       "  'units': '1',\n",
       "  'requestedUnits': '1',\n",
       "  'price': '108.578',\n",
       "  'pl': '0.0000',\n",
       "  'financing': '0.0000',\n",
       "  'commission': '0.0000',\n",
       "  'accountBalance': '2998261.1808',\n",
       "  'gainQuoteHomeConversionFactor': '1',\n",
       "  'lossQuoteHomeConversionFactor': '1',\n",
       "  'guaranteedExecutionFee': '0.0000',\n",
       "  'halfSpreadCost': '0.0020',\n",
       "  'fullVWAP': '108.578',\n",
       "  'reason': 'MARKET_ORDER',\n",
       "  'tradeOpened': {'price': '108.578',\n",
       "   'tradeID': '56',\n",
       "   'units': '1',\n",
       "   'guaranteedExecutionFee': '0.0000',\n",
       "   'halfSpreadCost': '0.0020',\n",
       "   'initialMarginRequired': '4.3430'},\n",
       "  'fullPrice': {'closeoutBid': '108.556',\n",
       "   'closeoutAsk': '108.597',\n",
       "   'timestamp': '2019-11-22T07:30:20.669544244Z',\n",
       "   'bids': [{'price': '108.574', 'liquidity': '250000'}],\n",
       "   'asks': [{'price': '108.578', 'liquidity': '250000'}]},\n",
       "  'id': '56',\n",
       "  'accountID': '101-009-12609641-001',\n",
       "  'userID': 12609641,\n",
       "  'batchID': '55',\n",
       "  'requestID': '24617943972983195',\n",
       "  'time': '2019-11-22T07:32:06.276523698Z'},\n",
       " 'relatedTransactionIDs': ['55', '56'],\n",
       " 'lastTransactionID': '56'}"
      ]
     },
     "execution_count": 98,
     "metadata": {},
     "output_type": "execute_result"
    }
   ],
   "source": [
    "data = {\n",
    "  \"order\": {\n",
    "    \"instrument\": \"USD_JPY\",\n",
    "    \"units\": \"+1\",\n",
    "    \"type\": \"MARKET\",\n",
    "    \"positionFill\": \"DEFAULT\"\n",
    "  }\n",
    "}\n",
    "o = orders.OrderCreate(accountID, data=data)\n",
    "api.request(o)\n",
    "o.response"
   ]
  },
  {
   "cell_type": "markdown",
   "metadata": {},
   "source": [
    "### 決済"
   ]
  },
  {
   "cell_type": "code",
   "execution_count": 36,
   "metadata": {
    "scrolled": true
   },
   "outputs": [
    {
     "data": {
      "text/plain": [
       "{'longOrderCreateTransaction': {'type': 'MARKET_ORDER',\n",
       "  'instrument': 'USD_JPY',\n",
       "  'units': '-3',\n",
       "  'timeInForce': 'FOK',\n",
       "  'positionFill': 'REDUCE_ONLY',\n",
       "  'reason': 'POSITION_CLOSEOUT',\n",
       "  'longPositionCloseout': {'instrument': 'USD_JPY', 'units': 'ALL'},\n",
       "  'id': '49',\n",
       "  'accountID': '101-009-12609641-001',\n",
       "  'userID': 12609641,\n",
       "  'batchID': '49',\n",
       "  'requestID': '24617877358095536',\n",
       "  'time': '2019-11-22T03:07:24.252384609Z'},\n",
       " 'longOrderFillTransaction': {'type': 'ORDER_FILL',\n",
       "  'orderID': '49',\n",
       "  'instrument': 'USD_JPY',\n",
       "  'units': '-3',\n",
       "  'requestedUnits': '-3',\n",
       "  'price': '108.619',\n",
       "  'pl': '0.0020',\n",
       "  'financing': '0.0000',\n",
       "  'commission': '0.0000',\n",
       "  'accountBalance': '2998261.1548',\n",
       "  'gainQuoteHomeConversionFactor': '1',\n",
       "  'lossQuoteHomeConversionFactor': '1',\n",
       "  'guaranteedExecutionFee': '0.0000',\n",
       "  'halfSpreadCost': '0.0060',\n",
       "  'fullVWAP': '108.619',\n",
       "  'reason': 'MARKET_ORDER_POSITION_CLOSEOUT',\n",
       "  'tradesClosed': [{'tradeID': '44',\n",
       "    'units': '-1',\n",
       "    'realizedPL': '-0.0020',\n",
       "    'financing': '0.0000',\n",
       "    'price': '108.619',\n",
       "    'guaranteedExecutionFee': '0.0000',\n",
       "    'halfSpreadCost': '0.0020'},\n",
       "   {'tradeID': '46',\n",
       "    'units': '-1',\n",
       "    'realizedPL': '0.0030',\n",
       "    'financing': '0.0000',\n",
       "    'price': '108.619',\n",
       "    'guaranteedExecutionFee': '0.0000',\n",
       "    'halfSpreadCost': '0.0020'},\n",
       "   {'tradeID': '48',\n",
       "    'units': '-1',\n",
       "    'realizedPL': '0.0010',\n",
       "    'financing': '0.0000',\n",
       "    'price': '108.619',\n",
       "    'guaranteedExecutionFee': '0.0000',\n",
       "    'halfSpreadCost': '0.0020'}],\n",
       "  'fullPrice': {'closeoutBid': '108.599',\n",
       "   'closeoutAsk': '108.643',\n",
       "   'timestamp': '2019-11-22T03:07:23.129929276Z',\n",
       "   'bids': [{'price': '108.619', 'liquidity': '250000'}],\n",
       "   'asks': [{'price': '108.623', 'liquidity': '250000'}]},\n",
       "  'id': '50',\n",
       "  'accountID': '101-009-12609641-001',\n",
       "  'userID': 12609641,\n",
       "  'batchID': '49',\n",
       "  'requestID': '24617877358095536',\n",
       "  'time': '2019-11-22T03:07:24.252384609Z'},\n",
       " 'relatedTransactionIDs': ['49', '50'],\n",
       " 'lastTransactionID': '50'}"
      ]
     },
     "execution_count": 36,
     "metadata": {},
     "output_type": "execute_result"
    }
   ],
   "source": [
    "position_data = { \"longUnits\": \"ALL\" }\n",
    "p = positions.PositionClose( accountID=accountID, data=position_data, instrument=\"USD_JPY\" )\n",
    "api.request(p)\n",
    "p.response"
   ]
  },
  {
   "cell_type": "markdown",
   "metadata": {},
   "source": [
    "### 現在価格の取得"
   ]
  },
  {
   "cell_type": "code",
   "execution_count": 131,
   "metadata": {
    "scrolled": false
   },
   "outputs": [
    {
     "data": {
      "text/plain": [
       "{'time': '2019-11-22T08:00:30.496446547Z',\n",
       " 'prices': [{'type': 'PRICE',\n",
       "   'time': '2019-11-22T08:00:28.841642602Z',\n",
       "   'bids': [{'price': '108.593', 'liquidity': 250000}],\n",
       "   'asks': [{'price': '108.597', 'liquidity': 250000}],\n",
       "   'closeoutBid': '108.574',\n",
       "   'closeoutAsk': '108.616',\n",
       "   'status': 'tradeable',\n",
       "   'tradeable': True,\n",
       "   'unitsAvailable': {'default': {'long': '250000', 'short': '250000'},\n",
       "    'openOnly': {'long': '250000', 'short': '250000'},\n",
       "    'reduceFirst': {'long': '250000', 'short': '250000'},\n",
       "    'reduceOnly': {'long': '0', 'short': '0'}},\n",
       "   'quoteHomeConversionFactors': {'positiveUnits': '1.00000000',\n",
       "    'negativeUnits': '1.00000000'},\n",
       "   'instrument': 'USD_JPY'}]}"
      ]
     },
     "execution_count": 131,
     "metadata": {},
     "output_type": "execute_result"
    }
   ],
   "source": [
    "params = {\"instruments\": \"USD_JPY\"}\n",
    "pi = PricingInfo(accountID=accountID, params=params)\n",
    "api.request(pi)"
   ]
  },
  {
   "cell_type": "code",
   "execution_count": 132,
   "metadata": {
    "scrolled": false
   },
   "outputs": [
    {
     "data": {
      "text/plain": [
       "'108.597'"
      ]
     },
     "execution_count": 132,
     "metadata": {},
     "output_type": "execute_result"
    }
   ],
   "source": [
    "pi.response['prices'][0]['asks'][0]['price']"
   ]
  },
  {
   "cell_type": "markdown",
   "metadata": {},
   "source": [
    "### チェック"
   ]
  },
  {
   "cell_type": "code",
   "execution_count": 115,
   "metadata": {},
   "outputs": [],
   "source": [
    "    # OANDA API v20の口座IDとAPIトークン\n",
    "    accountID = \"101-009-12609641-001\"\n",
    "    access_token = \"11f2a77cf99d3d29afc4c1cb1a0fb36b-e0fc1d1bf476926157f1d5992466fdf4\"\n",
    "    # OANDAのデモ口座へのAPI接続\n",
    "    api = API(access_token=access_token, environment=\"practice\")\n",
    "    \n",
    "    params = {'count': 7, 'granularity': 'H12'}\n",
    "    r = instruments.InstrumentsCandles(instrument=\"USD_JPY\", params=params)\n",
    "    api.request(r)\n",
    "    df = to_dataframe(r)\n",
    "    df.drop(index=6, inplace=True)"
   ]
  },
  {
   "cell_type": "code",
   "execution_count": 124,
   "metadata": {
    "scrolled": true
   },
   "outputs": [
    {
     "data": {
      "text/html": [
       "<div>\n",
       "<style scoped>\n",
       "    .dataframe tbody tr th:only-of-type {\n",
       "        vertical-align: middle;\n",
       "    }\n",
       "\n",
       "    .dataframe tbody tr th {\n",
       "        vertical-align: top;\n",
       "    }\n",
       "\n",
       "    .dataframe thead th {\n",
       "        text-align: right;\n",
       "    }\n",
       "</style>\n",
       "<table border=\"1\" class=\"dataframe\">\n",
       "  <thead>\n",
       "    <tr style=\"text-align: right;\">\n",
       "      <th></th>\n",
       "      <th>Time</th>\n",
       "      <th>Volume</th>\n",
       "      <th>Open</th>\n",
       "      <th>High</th>\n",
       "      <th>Low</th>\n",
       "      <th>Close</th>\n",
       "    </tr>\n",
       "  </thead>\n",
       "  <tbody>\n",
       "    <tr>\n",
       "      <th>0</th>\n",
       "      <td>2019-11-18 22:00:00+00:00</td>\n",
       "      <td>5501</td>\n",
       "      <td>108.682</td>\n",
       "      <td>108.802</td>\n",
       "      <td>108.462</td>\n",
       "      <td>108.774</td>\n",
       "    </tr>\n",
       "    <tr>\n",
       "      <th>1</th>\n",
       "      <td>2019-11-19 10:00:00+00:00</td>\n",
       "      <td>5901</td>\n",
       "      <td>108.776</td>\n",
       "      <td>108.836</td>\n",
       "      <td>108.454</td>\n",
       "      <td>108.540</td>\n",
       "    </tr>\n",
       "    <tr>\n",
       "      <th>2</th>\n",
       "      <td>2019-11-19 22:00:00+00:00</td>\n",
       "      <td>7365</td>\n",
       "      <td>108.546</td>\n",
       "      <td>108.584</td>\n",
       "      <td>108.349</td>\n",
       "      <td>108.426</td>\n",
       "    </tr>\n",
       "    <tr>\n",
       "      <th>3</th>\n",
       "      <td>2019-11-20 10:00:00+00:00</td>\n",
       "      <td>10659</td>\n",
       "      <td>108.428</td>\n",
       "      <td>108.740</td>\n",
       "      <td>108.378</td>\n",
       "      <td>108.608</td>\n",
       "    </tr>\n",
       "    <tr>\n",
       "      <th>4</th>\n",
       "      <td>2019-11-20 22:00:00+00:00</td>\n",
       "      <td>9979</td>\n",
       "      <td>108.594</td>\n",
       "      <td>108.674</td>\n",
       "      <td>108.280</td>\n",
       "      <td>108.529</td>\n",
       "    </tr>\n",
       "    <tr>\n",
       "      <th>5</th>\n",
       "      <td>2019-11-21 10:00:00+00:00</td>\n",
       "      <td>8431</td>\n",
       "      <td>108.526</td>\n",
       "      <td>108.700</td>\n",
       "      <td>108.504</td>\n",
       "      <td>108.612</td>\n",
       "    </tr>\n",
       "  </tbody>\n",
       "</table>\n",
       "</div>"
      ],
      "text/plain": [
       "                       Time  Volume     Open     High      Low    Close\n",
       "0 2019-11-18 22:00:00+00:00    5501  108.682  108.802  108.462  108.774\n",
       "1 2019-11-19 10:00:00+00:00    5901  108.776  108.836  108.454  108.540\n",
       "2 2019-11-19 22:00:00+00:00    7365  108.546  108.584  108.349  108.426\n",
       "3 2019-11-20 10:00:00+00:00   10659  108.428  108.740  108.378  108.608\n",
       "4 2019-11-20 22:00:00+00:00    9979  108.594  108.674  108.280  108.529\n",
       "5 2019-11-21 10:00:00+00:00    8431  108.526  108.700  108.504  108.612"
      ]
     },
     "execution_count": 124,
     "metadata": {},
     "output_type": "execute_result"
    }
   ],
   "source": [
    "df"
   ]
  },
  {
   "cell_type": "code",
   "execution_count": 121,
   "metadata": {},
   "outputs": [
    {
     "name": "stdout",
     "output_type": "stream",
     "text": [
      "least_m: 0.171 red_range: 0.174 blue_range: 0.022\n",
      "long\n"
     ]
    }
   ],
   "source": [
    "        # 直近5個のレンジ幅の平均取得\n",
    "        for i in range(5):\n",
    "            range_ = abs(round(df.iat[i, 3] - df.iat[i, 4], 3)) # |High - Low|\n",
    "            range_list.append(range_)\n",
    "        least_m = round(mean(range_list) * 0.5, 3)\n",
    "        \n",
    "        red_range = round(df.iat[5, 3] - df.iat[5, 2], 3) # High - Open 赤幅(上げ幅)\n",
    "        blue_range = round(df.iat[5, 2] - df.iat[5, 4], 3) # Open - Low 青幅(下げ幅)\n",
    "        print('least_m: {} red_range: {} blue_range: {}'.format(least_m, red_range, blue_range))\n",
    "        \n",
    "        # 上昇トレンドと判断しロング\n",
    "        if df.iat[5, 2] < df.iat[5, 5] and least_m < red_range: # 始値より終値の方が高く、5個平均よりもレンジが大きいとき\n",
    "            print('long')\n",
    "            \n",
    "        # 下降トレンドと判断しショート\n",
    "        if df.iat[5, 5] < df.iat[5, 2] and least_m < blue_range: # 終値より始値の方が高く、5個平均よりもレンジが大きいとき\n",
    "            print('short')"
   ]
  },
  {
   "cell_type": "code",
   "execution_count": 125,
   "metadata": {},
   "outputs": [],
   "source": [
    "    # OANDA API v20の口座IDとAPIトークン\n",
    "    accountID = \"101-009-12609641-001\"\n",
    "    access_token = \"11f2a77cf99d3d29afc4c1cb1a0fb36b-e0fc1d1bf476926157f1d5992466fdf4\"\n",
    "    # OANDAのデモ口座へのAPI接続\n",
    "    api = API(access_token=access_token, environment=\"practice\")\n",
    "    \n",
    "    params = {'count': 1, 'granularity': 'H12'}\n",
    "    r = instruments.InstrumentsCandles(instrument=\"USD_JPY\", params=params)\n",
    "    api.request(r)\n",
    "    tmp_df = to_dataframe(r)"
   ]
  },
  {
   "cell_type": "code",
   "execution_count": 126,
   "metadata": {
    "scrolled": true
   },
   "outputs": [
    {
     "data": {
      "text/html": [
       "<div>\n",
       "<style scoped>\n",
       "    .dataframe tbody tr th:only-of-type {\n",
       "        vertical-align: middle;\n",
       "    }\n",
       "\n",
       "    .dataframe tbody tr th {\n",
       "        vertical-align: top;\n",
       "    }\n",
       "\n",
       "    .dataframe thead th {\n",
       "        text-align: right;\n",
       "    }\n",
       "</style>\n",
       "<table border=\"1\" class=\"dataframe\">\n",
       "  <thead>\n",
       "    <tr style=\"text-align: right;\">\n",
       "      <th></th>\n",
       "      <th>Time</th>\n",
       "      <th>Volume</th>\n",
       "      <th>Open</th>\n",
       "      <th>High</th>\n",
       "      <th>Low</th>\n",
       "      <th>Close</th>\n",
       "    </tr>\n",
       "  </thead>\n",
       "  <tbody>\n",
       "    <tr>\n",
       "      <th>0</th>\n",
       "      <td>2019-11-21 22:00:00+00:00</td>\n",
       "      <td>3662</td>\n",
       "      <td>108.632</td>\n",
       "      <td>108.708</td>\n",
       "      <td>108.557</td>\n",
       "      <td>108.598</td>\n",
       "    </tr>\n",
       "  </tbody>\n",
       "</table>\n",
       "</div>"
      ],
      "text/plain": [
       "                       Time  Volume     Open     High      Low    Close\n",
       "0 2019-11-21 22:00:00+00:00    3662  108.632  108.708  108.557  108.598"
      ]
     },
     "execution_count": 126,
     "metadata": {},
     "output_type": "execute_result"
    }
   ],
   "source": [
    "tmp_df"
   ]
  },
  {
   "cell_type": "markdown",
   "metadata": {},
   "source": [
    "# 今度こそガチ"
   ]
  },
  {
   "cell_type": "code",
   "execution_count": 9,
   "metadata": {},
   "outputs": [],
   "source": [
    "def order(l_s):\n",
    "    # OANDA API v20の口座IDとAPIトークン\n",
    "    accountID = \"101-009-12609641-001\"\n",
    "    access_token = \"11f2a77cf99d3d29afc4c1cb1a0fb36b-e0fc1d1bf476926157f1d5992466fdf4\"\n",
    "    # OANDAのデモ口座へのAPI接続\n",
    "    api = API(access_token=access_token, environment=\"practice\")\n",
    "    kly_rate = 0.5\n",
    "    # 口座残高の取得\n",
    "    s = accounts.AccountSummary(accountID)\n",
    "    api.request(s)\n",
    "    assets = float(s.response['account']['balance'])\n",
    "    # 現在のポジションを取得\n",
    "    p = positions.OpenPositions(accountID=accountID)\n",
    "    api.request(p)\n",
    "    try:\n",
    "        l_pos = int(p.response['positions'][0]['long']['units'])\n",
    "        s_pos = int(p.response['positions'][0]['short']['units'])\n",
    "        pos = l_pos + s_pos\n",
    "    except: # ポジション持ってなかったらエラー吐くから0入れとく\n",
    "        pos = 0\n",
    "    # もし同じポジション持ってたら以下全部パス\n",
    "    if (l_s == 'long' and pos > 0) or (l_s == 'short' and pos < 0):\n",
    "        pass\n",
    "    else:\n",
    "        # もし逆のポジション持ってたら決済\n",
    "        if pos == 0:\n",
    "            pass\n",
    "        else:\n",
    "            if pos > 0:\n",
    "                position_data = { \"longUnits\": \"ALL\" }\n",
    "            else:\n",
    "                position_data = { \"shortUnits\": \"ALL\" }\n",
    "            p = positions.PositionClose( accountID=accountID, data=position_data, instrument=\"USD_JPY\" )\n",
    "            api.request(p)\n",
    "        # 現在価格の取得\n",
    "        params = {\"instruments\": \"USD_JPY\"}\n",
    "        pi = PricingInfo(accountID=accountID, params=params)\n",
    "        api.request(pi)\n",
    "        if l_s == 'long':\n",
    "            ab = 'asks'\n",
    "            p_and_n = '+'\n",
    "        else:\n",
    "            ab = 'bids'\n",
    "            p_and_n = '-'\n",
    "        entry_rate = float(pi.response['prices'][0][ab][0]['price'])\n",
    "        # ケリー基準から lot の指定\n",
    "        kly = assets * kly_rate\n",
    "        lot = floor(kly / entry_rate)\n",
    "        data = {\n",
    "          \"order\": {\n",
    "            \"instrument\": \"USD_JPY\",\n",
    "            \"units\": \"{}{}\".format(p_and_n, lot),\n",
    "            \"type\": \"MARKET\",\n",
    "            \"positionFill\": \"DEFAULT\"\n",
    "          }\n",
    "        }\n",
    "        o = orders.OrderCreate(accountID, data=data)\n",
    "        api.request(o)\n",
    "        print(\"units: {}{}\".format(p_and_n, lot))\n",
    "    \n",
    "def foo(hour):\n",
    "    # OANDA API v20の口座IDとAPIトークン\n",
    "    accountID = \"101-009-12609641-001\"\n",
    "    access_token = \"11f2a77cf99d3d29afc4c1cb1a0fb36b-e0fc1d1bf476926157f1d5992466fdf4\"\n",
    "    # OANDAのデモ口座へのAPI接続\n",
    "    api = API(access_token=access_token, environment=\"practice\")\n",
    "    \n",
    "    df = pd.DataFrame(columns=['Time', 'Volume', 'Open', 'High', 'Low', 'Close'])\n",
    "    df['Time'] = pd.to_datetime(df['Time'])\n",
    "    for col in ['Open', 'High', 'Low', 'Close']:\n",
    "        df[col] = df[col].apply(float)\n",
    "    \n",
    "    range_list = []\n",
    "    # 実行したときの曜日を取得、現在時刻のログを吐く\n",
    "    now = int(time.time())\n",
    "    print('現在時刻: {}'.format(datetime.datetime.fromtimestamp(now)))\n",
    "    now_w = datetime.datetime.fromtimestamp(now - 32400).weekday()\n",
    "    \n",
    "    # 土日の処理\n",
    "    if now_w == 5 or now_w == 6:\n",
    "        print('土日はお休み')\n",
    "        pass\n",
    "    # 土日以外はこっち\n",
    "    else:\n",
    "        # データ取得\n",
    "        params = {'count': 7, 'granularity': 'H12'}\n",
    "        r = instruments.InstrumentsCandles(instrument=\"USD_JPY\", params=params)\n",
    "        api.request(r)\n",
    "        df = to_dataframe(r)\n",
    "        # 直近5個 + 1個になるように最新の足を1個落として揃える\n",
    "        if hour == df.iat[6, 0].hour:\n",
    "            df.drop(index=6, inplace=True)\n",
    "            print('計画通り......')\n",
    "        # 何らかのバグで最新の足取れなかったときはこっち\n",
    "        else:\n",
    "            df.drop(index=0, inplace=True)\n",
    "            df.reset_index(drop=True, inplace=True)\n",
    "            print('☆☆粉バナナ☆☆')\n",
    "            \n",
    "        # 直近5個のレンジ幅の平均取得\n",
    "        for i in range(5):\n",
    "            range_ = abs(round(df.iat[i, 3] - df.iat[i, 4], 3)) # |High - Low|\n",
    "            range_list.append(range_)\n",
    "        least_m = round(mean(range_list) * 0.5, 3)\n",
    "        \n",
    "        red_range = round(df.iat[5, 3] - df.iat[5, 2], 3) # High - Open 赤幅(上げ幅)\n",
    "        blue_range = round(df.iat[5, 2] - df.iat[5, 4], 3) # Open - Low 青幅(下げ幅)\n",
    "        print('least_m: {} red_range: {} blue_range: {}'.format(least_m, red_range, blue_range))\n",
    "        print(df)\n",
    "        \n",
    "        # 上昇トレンドと判断しロング\n",
    "        if df.iat[5, 2] < df.iat[5, 5] and least_m < red_range: # 始値より終値の方が高く、5個平均よりもレンジが大きいとき\n",
    "            order('long')\n",
    "            \n",
    "        # 下降トレンドと判断しショート\n",
    "        if df.iat[5, 5] < df.iat[5, 2] and least_m < blue_range: # 終値より始値の方が高く、5個平均よりもレンジが大きいとき\n",
    "            order('short')\n",
    "    \n",
    "# ガチトレード\n",
    "def main():\n",
    "    schedule.every().day.at(\"19:00\").do(foo, 10)\n",
    "    schedule.every().day.at(\"07:00\").do(foo, 22)\n",
    "    \n",
    "    while True:\n",
    "        schedule.run_pending()\n",
    "        time.sleep(1)"
   ]
  },
  {
   "cell_type": "code",
   "execution_count": null,
   "metadata": {
    "scrolled": false
   },
   "outputs": [
    {
     "name": "stdout",
     "output_type": "stream",
     "text": [
      "現在時刻: 2019-11-26 19:00:00\n",
      "☆☆粉バナナ☆☆\n",
      "least_m: 0.105 red_range: 0.268 blue_range: 0.065\n",
      "                       Time  Volume     Open     High      Low    Close\n",
      "0 2019-11-21 10:00:00+00:00    8431  108.526  108.700  108.504  108.612\n",
      "1 2019-11-21 22:00:00+00:00    5994  108.632  108.708  108.532  108.540\n",
      "2 2019-11-22 10:00:00+00:00    5563  108.542  108.732  108.478  108.651\n",
      "3 2019-11-24 22:00:00+00:00    4977  108.673  108.896  108.638  108.856\n",
      "4 2019-11-25 10:00:00+00:00    3599  108.854  108.978  108.816  108.924\n",
      "5 2019-11-25 22:00:00+00:00    6205  108.940  109.208  108.875  108.955\n",
      "現在時刻: 2019-11-27 07:00:00\n",
      "☆☆粉バナナ☆☆\n",
      "least_m: 0.118 red_range: 0.188 blue_range: 0.03\n",
      "                       Time  Volume     Open     High      Low    Close\n",
      "0 2019-11-21 22:00:00+00:00    5994  108.632  108.708  108.532  108.540\n",
      "1 2019-11-22 10:00:00+00:00    5563  108.542  108.732  108.478  108.651\n",
      "2 2019-11-24 22:00:00+00:00    4977  108.673  108.896  108.638  108.856\n",
      "3 2019-11-25 10:00:00+00:00    3599  108.854  108.978  108.816  108.924\n",
      "4 2019-11-25 22:00:00+00:00    6205  108.940  109.208  108.875  108.955\n",
      "5 2019-11-26 10:00:00+00:00    5058  108.952  109.140  108.922  109.062\n",
      "現在時刻: 2019-11-27 19:00:00\n",
      "☆☆粉バナナ☆☆\n",
      "least_m: 0.122 red_range: 0.155 blue_range: 0.026\n",
      "                       Time  Volume     Open     High      Low    Close\n",
      "0 2019-11-22 10:00:00+00:00    5563  108.542  108.732  108.478  108.651\n",
      "1 2019-11-24 22:00:00+00:00    4977  108.673  108.896  108.638  108.856\n",
      "2 2019-11-25 10:00:00+00:00    3599  108.854  108.978  108.816  108.924\n",
      "3 2019-11-25 22:00:00+00:00    6205  108.940  109.208  108.875  108.955\n",
      "4 2019-11-26 10:00:00+00:00    5058  108.952  109.140  108.922  109.062\n",
      "5 2019-11-26 22:00:00+00:00    2908  109.042  109.197  109.016  109.170\n",
      "現在時刻: 2019-11-28 07:00:00\n",
      "☆☆粉バナナ☆☆\n",
      "least_m: 0.115 red_range: 0.442 blue_range: 0.06\n",
      "                       Time  Volume     Open     High      Low    Close\n",
      "0 2019-11-24 22:00:00+00:00    4977  108.673  108.896  108.638  108.856\n",
      "1 2019-11-25 10:00:00+00:00    3599  108.854  108.978  108.816  108.924\n",
      "2 2019-11-25 22:00:00+00:00    6205  108.940  109.208  108.875  108.955\n",
      "3 2019-11-26 10:00:00+00:00    5058  108.952  109.140  108.922  109.062\n",
      "4 2019-11-26 22:00:00+00:00    2908  109.042  109.197  109.016  109.170\n",
      "5 2019-11-27 10:00:00+00:00    4566  109.168  109.610  109.108  109.537\n",
      "現在時刻: 2019-11-28 19:00:00\n",
      "☆☆粉バナナ☆☆\n",
      "least_m: 0.14 red_range: 0.016 blue_range: 0.214\n",
      "                       Time  Volume     Open     High      Low    Close\n",
      "0 2019-11-25 10:00:00+00:00    3599  108.854  108.978  108.816  108.924\n",
      "1 2019-11-25 22:00:00+00:00    6205  108.940  109.208  108.875  108.955\n",
      "2 2019-11-26 10:00:00+00:00    5058  108.952  109.140  108.922  109.062\n",
      "3 2019-11-26 22:00:00+00:00    2908  109.042  109.197  109.016  109.170\n",
      "4 2019-11-27 10:00:00+00:00    4566  109.168  109.610  109.108  109.537\n",
      "5 2019-11-27 22:00:00+00:00    4115  109.548  109.564  109.334  109.426\n",
      "units: -13701\n"
     ]
    }
   ],
   "source": [
    "main()"
   ]
  },
  {
   "cell_type": "code",
   "execution_count": null,
   "metadata": {},
   "outputs": [],
   "source": []
  }
 ],
 "metadata": {
  "kernelspec": {
   "display_name": "Python 3",
   "language": "python",
   "name": "python3"
  },
  "language_info": {
   "codemirror_mode": {
    "name": "ipython",
    "version": 3
   },
   "file_extension": ".py",
   "mimetype": "text/x-python",
   "name": "python",
   "nbconvert_exporter": "python",
   "pygments_lexer": "ipython3",
   "version": "3.7.3"
  },
  "varInspector": {
   "cols": {
    "lenName": 16,
    "lenType": 16,
    "lenVar": 40
   },
   "kernels_config": {
    "python": {
     "delete_cmd_postfix": "",
     "delete_cmd_prefix": "del ",
     "library": "var_list.py",
     "varRefreshCmd": "print(var_dic_list())"
    },
    "r": {
     "delete_cmd_postfix": ") ",
     "delete_cmd_prefix": "rm(",
     "library": "var_list.r",
     "varRefreshCmd": "cat(var_dic_list()) "
    }
   },
   "types_to_exclude": [
    "module",
    "function",
    "builtin_function_or_method",
    "instance",
    "_Feature"
   ],
   "window_display": false
  }
 },
 "nbformat": 4,
 "nbformat_minor": 2
}
