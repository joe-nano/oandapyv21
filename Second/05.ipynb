{
 "cells": [
  {
   "cell_type": "code",
   "execution_count": 25,
   "metadata": {},
   "outputs": [
    {
     "name": "stdout",
     "output_type": "stream",
     "text": [
      "p: 0.2\n",
      "q: 0.3\n"
     ]
    }
   ],
   "source": [
    "p = 0.25000000000000001\n",
    "q = 0.2500000000000001\n",
    "print('p: {:.1f}'.format(p))\n",
    "print('q: {:.1f}'.format(q))"
   ]
  },
  {
   "cell_type": "code",
   "execution_count": 32,
   "metadata": {},
   "outputs": [
    {
     "data": {
      "text/plain": [
       "float"
      ]
     },
     "execution_count": 32,
     "metadata": {},
     "output_type": "execute_result"
    }
   ],
   "source": [
    "type(q)"
   ]
  },
  {
   "cell_type": "markdown",
   "metadata": {
    "colab_type": "text",
    "id": "n-KIEW_zFlqN"
   },
   "source": [
    "## 直近 n個のデータから10分後の終値を予測させる"
   ]
  },
  {
   "cell_type": "code",
   "execution_count": 90,
   "metadata": {
    "colab": {
     "base_uri": "https://localhost:8080/",
     "height": 35
    },
    "colab_type": "code",
    "executionInfo": {
     "elapsed": 4117,
     "status": "ok",
     "timestamp": 1575511209777,
     "user": {
      "displayName": "藤沼インザスカイ",
      "photoUrl": "https://lh3.googleusercontent.com/a-/AAuE7mBZx9Jngn7Zn55LfitMEs7hye6vu8Z3XrGCB0xA=s64",
      "userId": "11037617104425402084"
     },
     "user_tz": -540
    },
    "id": "jKZbyEmcFlp9",
    "outputId": "962ff52c-8d24-4c35-a30c-5014028b09c3"
   },
   "outputs": [],
   "source": [
    "# ライブラリのインポート\n",
    "import pandas as pd\n",
    "import numpy as np\n",
    "import matplotlib.pyplot as plt\n",
    "%matplotlib inline\n",
    "plt.rcParams['font.family'] = 'IPAPGothic'\n",
    "from oandapyV20 import API\n",
    "from oandapyV20.exceptions import V20Error\n",
    "import oandapyV20.endpoints.instruments as instruments\n",
    "import datetime\n",
    "from statistics import mean\n",
    "from statistics import median\n",
    "import calendar\n",
    "import datetime\n",
    "from math import floor\n",
    "import time\n",
    "import threading\n",
    "import json\n",
    "import random\n",
    "from sklearn.model_selection import train_test_split\n",
    "import lightgbm as lgb\n",
    "from sklearn.externals.joblib import dump, load\n",
    "from sklearn import metrics\n",
    "from imblearn.under_sampling import RandomUnderSampler\n",
    "from imblearn.over_sampling import RandomOverSampler\n",
    "from imblearn.over_sampling import SMOTE\n",
    "import feather\n",
    "from sklearn.model_selection import KFold\n",
    "from sklearn.model_selection import StratifiedKFold\n",
    "from sklearn.model_selection import StratifiedShuffleSplit"
   ]
  },
  {
   "cell_type": "code",
   "execution_count": 2,
   "metadata": {
    "colab": {},
    "colab_type": "code",
    "id": "9Sx3XMNHFlqB"
   },
   "outputs": [],
   "source": [
    "# OANDA API v20の口座IDとAPIトークン\n",
    "accountID = \"101-009-12789646-001\"\n",
    "access_token = \"1ab53171ce4413f408de6da28ea23089-6426c3d3cc947dba212b3766d1be45c6\"\n",
    "# OANDAのデモ口座へのAPI接続\n",
    "api = API(access_token=access_token, environment=\"practice\")"
   ]
  },
  {
   "cell_type": "markdown",
   "metadata": {
    "colab_type": "text",
    "id": "X4IVxsQMFlqD"
   },
   "source": [
    "### 怒濤の関数定義"
   ]
  },
  {
   "cell_type": "code",
   "execution_count": 4,
   "metadata": {
    "colab": {},
    "colab_type": "code",
    "id": "Nzo2B2wxFlqD"
   },
   "outputs": [],
   "source": [
    "# APIから取得したレートをPandasのDataFrameへ\n",
    "def to_dataframe(r):\n",
    "    data = []\n",
    "    for raw in r.response['candles']:\n",
    "        data.append([raw['time'], raw['volume'], raw['mid']['o'], raw['mid']['h'], raw['mid']['l'], raw['mid']['c']])\n",
    "\n",
    "    # リストからPandas DataFrameへ変換\n",
    "    df = pd.DataFrame(data)\n",
    "    df.columns = ['Time', 'Volume', 'Open', 'High', 'Low', 'Close']\n",
    "    df['Time'] = pd.to_datetime(df['Time'])\n",
    "    for col in ['Open', 'High', 'Low', 'Close']:\n",
    "        df[col] = df[col].apply(float)\n",
    "    return df"
   ]
  },
  {
   "cell_type": "code",
   "execution_count": 5,
   "metadata": {
    "colab": {},
    "colab_type": "code",
    "id": "_JfX1N4yFlqF"
   },
   "outputs": [],
   "source": [
    "def get_data(count, gran, year, month, day, hour, minute, second):\n",
    "    # OANDA API v20の口座IDとAPIトークン\n",
    "    accountID = \"101-009-12789646-001\"\n",
    "    access_token = \"1ab53171ce4413f408de6da28ea23089-6426c3d3cc947dba212b3766d1be45c6\"\n",
    "    # OANDAのデモ口座へのAPI接続\n",
    "    api = API(access_token=access_token, environment=\"practice\")\n",
    "    fmt = '%Y-%m-%dT%H:%M:00.000000Z'\n",
    "    _from = datetime.datetime(year=year, month=month, day=day,\n",
    "                              hour=hour, minute=minute, second=second).strftime(fmt)\n",
    "    params = {\n",
    "        \"count\": count,\n",
    "        \"granularity\": gran,\n",
    "        'from': _from,\n",
    "#         'dailyAlignment': 0\n",
    "    }\n",
    "    r = instruments.InstrumentsCandles(instrument=\"USD_JPY\", params=params)\n",
    "    api.request(r)\n",
    "    df = to_dataframe(r)\n",
    "    return df"
   ]
  },
  {
   "cell_type": "code",
   "execution_count": 6,
   "metadata": {
    "colab": {},
    "colab_type": "code",
    "id": "aJ4AVCOhFlqH"
   },
   "outputs": [],
   "source": [
    "def get_data_super(start, end, gran):\n",
    "    # OANDA API v20の口座IDとAPIトークン\n",
    "    accountID = \"101-009-12789646-001\"\n",
    "    access_token = \"1ab53171ce4413f408de6da28ea23089-6426c3d3cc947dba212b3766d1be45c6\"\n",
    "    # OANDAのデモ口座へのAPI接続\n",
    "    api = API(access_token=access_token, environment=\"practice\")\n",
    "    # xxxx-xx-xx～xxxx-xx-xx の期間のデータを取得してデータフレームを返す\n",
    "    s_year, s_month, s_day, s_hour, s_minute, s_second = map(int, start.split('-'))\n",
    "    e_year, e_month, e_day, e_hour, e_minute, e_second = map(int, end.split('-'))\n",
    "    fmt = '%Y-%m-%dT%H:%M:00.000000Z'\n",
    "    from_ = datetime.datetime(year=s_year, month=s_month, day=s_day,\n",
    "                              hour=s_hour, minute=s_minute, second=s_second).strftime(fmt)\n",
    "    to_ = datetime.datetime(year=e_year, month=e_month, day=e_day,\n",
    "                            hour=e_hour, minute=e_minute, second=e_second).strftime(fmt)\n",
    "    df = pd.DataFrame()\n",
    "    # 5000個制限に引っかからなければこっちの処理\n",
    "    try:\n",
    "        params = {\n",
    "            \"granularity\": gran,\n",
    "            'from': from_,\n",
    "            'to': to_\n",
    "        }\n",
    "        r = instruments.InstrumentsCandles(instrument=\"USD_JPY\", params=params)\n",
    "        api.request(r)\n",
    "        df = to_dataframe(r)\n",
    "    # 引っかかればこっちの処理\n",
    "    except:\n",
    "        i = True\n",
    "        while i:\n",
    "            df_tmp = get_data(count=5000, gran=gran, year=s_year, month=s_month, day=s_day,\n",
    "                             hour=s_hour, minute=s_minute, second=s_second)\n",
    "            df = pd.concat([df, df_tmp], ignore_index=True)\n",
    "            index = df_tmp.tail(1).index[0]\n",
    "            s_year = df_tmp.iat[index, 0].year\n",
    "            s_month = df_tmp.iat[index, 0].month\n",
    "            s_day = df_tmp.iat[index, 0].day\n",
    "            s_hour = df_tmp.iat[index, 0].hour\n",
    "            s_minute = (df_tmp.iat[index, 0].minute + 1) % 60\n",
    "            s_second = df_tmp.iat[index, 0].second\n",
    "#             print('{}-{}-{}-{}-{}-{}'.format(s_year, s_month, s_day, s_hour, s_minute, s_second))\n",
    "            # 5000個ずつ取得してエンド超えたら止める\n",
    "            if s_year == e_year:\n",
    "                i = False\n",
    "        # 止めたらはみ出した分をここで切り落とす\n",
    "        for i in range(len(df.index) - 5000, len(df.index)):\n",
    "            if df.iat[i, 0].year == e_year and df.iat[i, 0].month == e_month and df.iat[i, 0].day == e_day:\n",
    "                df = df[0:i]\n",
    "                break\n",
    "    # ボリンジャーバンドを追加\n",
    "    sigma = 1\n",
    "    df['BB20,+{}'.format(sigma)] = df['BB20,-{}'.format(sigma)] = 0\n",
    "    df['BB20,+{}'.format(sigma)] = df['BB20,+{}'.format(sigma)].apply(float)\n",
    "    df['BB20,-{}'.format(sigma)] = df['BB20,-{}'.format(sigma)].apply(float)\n",
    "    for i in range(20, len(df)):\n",
    "        df.iat[i, 6] = round(mean(df['Close'][i-20:i]) + (np.std(df['Close'][i-20:i]) * sigma), 3)\n",
    "        df.iat[i, 7] = round(mean(df['Close'][i-20:i]) - (np.std(df['Close'][i-20:i]) * sigma), 3)\n",
    "    # シグナル追加\n",
    "    df['Lシグナル'] = df['Sシグナル'] = 0\n",
    "    for i in range(len(df)):\n",
    "        if df.iat[i, 6] < df.iat[i, 5]:\n",
    "            df.iat[i, 8] = 1\n",
    "        if df.iat[i, 7] > df.iat[i, 5]:\n",
    "            df.iat[i, 9] = 1\n",
    "    # 移動平均追加\n",
    "    df['SMA20'] = 0\n",
    "    df['SMA20'] = df['SMA20'].apply(float)\n",
    "    for i in range(20, len(df)):\n",
    "        df.iat[i, 10] = round(mean(df['Close'][i-20:i]), 3)\n",
    "    # BB と SMA で参照した最初の分を落とす\n",
    "    df = df[20:]\n",
    "    df.reset_index(drop=True, inplace=True)\n",
    "    return df"
   ]
  },
  {
   "cell_type": "code",
   "execution_count": 7,
   "metadata": {
    "colab": {},
    "colab_type": "code",
    "id": "ZZZzNkdTFlqJ",
    "scrolled": true
   },
   "outputs": [],
   "source": [
    "def get_evaluation(pos_df):\n",
    "    # 勝率\n",
    "    win_c = pos_df[pos_df['pips'] >=0].shape[0]\n",
    "    WP = round(win_c / len(pos_df.index) * 100, 2)\n",
    "    print('勝率: {}%'.format(WP))\n",
    "    # ペイオフレシオ\n",
    "    win_p = mean(pos_df[pos_df['pips'] >=0]['pips'])\n",
    "    los_p = mean(pos_df[pos_df['pips'] < 0]['pips']) * (-1)\n",
    "    RR = round(win_p / los_p, 4)\n",
    "    print('ペイオフレシオ: {}'.format(RR))\n",
    "    # 期待値\n",
    "    win_pro = mean(pos_df[pos_df['pips'] >=0]['profit'])\n",
    "    los_pro = mean(pos_df[pos_df['pips'] < 0]['profit']) * (-1)\n",
    "    E = round(P * win_pro - pos_df[pos_df['pips'] < 0].shape[0] / len(pos_df.index) * los_pro, 2)\n",
    "    print('期待値: {}円'.format(E))\n",
    "    DD = round(pos_df.sort_values(by='profit', ascending=True).iat[0, 5], 2)\n",
    "    print('最大ドローダウン: -{}円'.format(DD))\n",
    "    return WP, RR, E, DD"
   ]
  },
  {
   "cell_type": "code",
   "execution_count": 8,
   "metadata": {
    "colab": {},
    "colab_type": "code",
    "id": "-dnoTTzyFlqL"
   },
   "outputs": [],
   "source": [
    "def set_profit(tmp_i, i, pos, entry_rate, exit_rate, assets, df, pos_df, pos_count, lot):\n",
    "    fee = 0.008\n",
    "    pos_count+=1\n",
    "    if pos == 'entry_long':\n",
    "        pips = (exit_rate - entry_rate - fee) * 100\n",
    "        l_s = 'long'\n",
    "    else:\n",
    "        pips = (entry_rate - exit_rate - fee) * 100\n",
    "        l_s = 'short'\n",
    "    profit = lot * 25 * pips / 100\n",
    "    assets = round(assets + profit, 4)\n",
    "    tmp_se = pd.Series( [lot, 'long', df.iat[tmp_i,0], entry_rate, df.iat[i+1,0],\n",
    "                        exit_rate, pips, profit, assets ], index=pos_df.columns )\n",
    "    pos_df = pos_df.append( tmp_se, ignore_index=True )\n",
    "    pos = 'None'\n",
    "    return assets, pos_df, pos_count, pos"
   ]
  },
  {
   "cell_type": "code",
   "execution_count": 9,
   "metadata": {
    "colab": {},
    "colab_type": "code",
    "id": "UMxhVVJKmvbU"
   },
   "outputs": [],
   "source": [
    "# 訓練データ作る関数 (binary用)\n",
    "def get_dataset_bc(df, n, m):\n",
    "    LGB_df = pd.DataFrame()\n",
    "    for i in range(1, n+1):\n",
    "        diff_tmp = df.iloc[:, [2,3,4,5,6,7,10]].diff(i)*100\n",
    "        diff_tmp['Volume'] = df.iloc[:, [1]].shift(i)\n",
    "        diff_tmp['Lシグナル'] = df.iloc[:, [8]].shift(i)\n",
    "        diff_tmp['Sシグナル'] = df.iloc[:, [9]].shift(i)\n",
    "        LGB_df = pd.concat([LGB_df, diff_tmp], axis=1)\n",
    "    LGB_df['y'] = df['Close'].diff(-10)*100\n",
    "    LGB_df = LGB_df[n:(len(LGB_df)-n)]\n",
    "    LGB_df_1 = LGB_df[LGB_df['y'] >= m].assign(target=1)\n",
    "    LGB_df_2 = LGB_df.query('y < {}'.format(m)).assign(target=0)\n",
    "    LGB_df_c = pd.concat([LGB_df_1, LGB_df_2], axis=0)\n",
    "    # LGB_df_c.drop(['y'], axis=1, inplace=True)\n",
    "    # LGB_df_c = LGB_df_c.sample(frac=1, random_state=1729)\n",
    "    LGB_df_c.reset_index(drop=True, inplace=True)\n",
    "    return LGB_df_c"
   ]
  },
  {
   "cell_type": "markdown",
   "metadata": {
    "colab_type": "text",
    "id": "pelavyqt4qyC"
   },
   "source": [
    "### データ読み込み"
   ]
  },
  {
   "cell_type": "code",
   "execution_count": 10,
   "metadata": {
    "colab": {},
    "colab_type": "code",
    "id": "o-YA0lCE4tKU"
   },
   "outputs": [],
   "source": [
    "# df = pd.read_csv('data/df.csv')\n",
    "df = pd.read_csv('data/df_sma.csv')\n",
    "# LGB_df = pd.read_csv('data/LGB_df_BB.csv')\n",
    "# LGB_df = pd.read_csv('data/LGB_df_SMA.csv')\n",
    "# df_10 = pd.read_csv('data/df_10.csv')\n",
    "df_5 = pd.read_csv('data/df_5.csv')\n",
    "df_2017 = pd.read_csv('data/df_2017.csv')"
   ]
  },
  {
   "cell_type": "code",
   "execution_count": 0,
   "metadata": {
    "colab": {
     "base_uri": "https://localhost:8080/",
     "height": 204
    },
    "colab_type": "code",
    "executionInfo": {
     "elapsed": 1307,
     "status": "ok",
     "timestamp": 1575427734452,
     "user": {
      "displayName": "藤沼インザスカイ",
      "photoUrl": "https://lh3.googleusercontent.com/a-/AAuE7mBZx9Jngn7Zn55LfitMEs7hye6vu8Z3XrGCB0xA=s64",
      "userId": "11037617104425402084"
     },
     "user_tz": -540
    },
    "id": "09Od_qarXLnK",
    "outputId": "566e212d-ce76-4578-d44d-10eb58193add"
   },
   "outputs": [
    {
     "data": {
      "text/html": [
       "<div>\n",
       "<style scoped>\n",
       "    .dataframe tbody tr th:only-of-type {\n",
       "        vertical-align: middle;\n",
       "    }\n",
       "\n",
       "    .dataframe tbody tr th {\n",
       "        vertical-align: top;\n",
       "    }\n",
       "\n",
       "    .dataframe thead th {\n",
       "        text-align: right;\n",
       "    }\n",
       "</style>\n",
       "<table border=\"1\" class=\"dataframe\">\n",
       "  <thead>\n",
       "    <tr style=\"text-align: right;\">\n",
       "      <th></th>\n",
       "      <th>Time</th>\n",
       "      <th>Volume</th>\n",
       "      <th>Open</th>\n",
       "      <th>High</th>\n",
       "      <th>Low</th>\n",
       "      <th>Close</th>\n",
       "      <th>BB20,+1</th>\n",
       "      <th>BB20,-1</th>\n",
       "      <th>Lシグナル</th>\n",
       "      <th>Sシグナル</th>\n",
       "    </tr>\n",
       "  </thead>\n",
       "  <tbody>\n",
       "    <tr>\n",
       "      <th>0</th>\n",
       "      <td>2018-01-01 22:21:00+00:00</td>\n",
       "      <td>2</td>\n",
       "      <td>112.641</td>\n",
       "      <td>112.641</td>\n",
       "      <td>112.636</td>\n",
       "      <td>112.636</td>\n",
       "      <td>112.673</td>\n",
       "      <td>112.641</td>\n",
       "      <td>0</td>\n",
       "      <td>1</td>\n",
       "    </tr>\n",
       "    <tr>\n",
       "      <th>1</th>\n",
       "      <td>2018-01-01 22:22:00+00:00</td>\n",
       "      <td>4</td>\n",
       "      <td>112.642</td>\n",
       "      <td>112.646</td>\n",
       "      <td>112.638</td>\n",
       "      <td>112.646</td>\n",
       "      <td>112.672</td>\n",
       "      <td>112.639</td>\n",
       "      <td>0</td>\n",
       "      <td>0</td>\n",
       "    </tr>\n",
       "    <tr>\n",
       "      <th>2</th>\n",
       "      <td>2018-01-01 22:23:00+00:00</td>\n",
       "      <td>9</td>\n",
       "      <td>112.650</td>\n",
       "      <td>112.650</td>\n",
       "      <td>112.633</td>\n",
       "      <td>112.642</td>\n",
       "      <td>112.670</td>\n",
       "      <td>112.638</td>\n",
       "      <td>0</td>\n",
       "      <td>0</td>\n",
       "    </tr>\n",
       "    <tr>\n",
       "      <th>3</th>\n",
       "      <td>2018-01-01 22:24:00+00:00</td>\n",
       "      <td>21</td>\n",
       "      <td>112.646</td>\n",
       "      <td>112.646</td>\n",
       "      <td>112.632</td>\n",
       "      <td>112.644</td>\n",
       "      <td>112.668</td>\n",
       "      <td>112.637</td>\n",
       "      <td>0</td>\n",
       "      <td>0</td>\n",
       "    </tr>\n",
       "    <tr>\n",
       "      <th>4</th>\n",
       "      <td>2018-01-01 22:25:00+00:00</td>\n",
       "      <td>14</td>\n",
       "      <td>112.639</td>\n",
       "      <td>112.656</td>\n",
       "      <td>112.634</td>\n",
       "      <td>112.634</td>\n",
       "      <td>112.667</td>\n",
       "      <td>112.636</td>\n",
       "      <td>0</td>\n",
       "      <td>1</td>\n",
       "    </tr>\n",
       "  </tbody>\n",
       "</table>\n",
       "</div>"
      ],
      "text/plain": [
       "                        Time  Volume     Open  ...  BB20,-1  Lシグナル  Sシグナル\n",
       "0  2018-01-01 22:21:00+00:00       2  112.641  ...  112.641      0      1\n",
       "1  2018-01-01 22:22:00+00:00       4  112.642  ...  112.639      0      0\n",
       "2  2018-01-01 22:23:00+00:00       9  112.650  ...  112.638      0      0\n",
       "3  2018-01-01 22:24:00+00:00      21  112.646  ...  112.637      0      0\n",
       "4  2018-01-01 22:25:00+00:00      14  112.639  ...  112.636      0      1\n",
       "\n",
       "[5 rows x 10 columns]"
      ]
     },
     "execution_count": 16,
     "metadata": {
      "tags": []
     },
     "output_type": "execute_result"
    }
   ],
   "source": [
    "df.head()"
   ]
  },
  {
   "cell_type": "code",
   "execution_count": 0,
   "metadata": {
    "colab": {
     "base_uri": "https://localhost:8080/",
     "height": 321
    },
    "colab_type": "code",
    "executionInfo": {
     "elapsed": 515,
     "status": "ok",
     "timestamp": 1575278917239,
     "user": {
      "displayName": "藤沼インザスカイ",
      "photoUrl": "https://lh3.googleusercontent.com/a-/AAuE7mBZx9Jngn7Zn55LfitMEs7hye6vu8Z3XrGCB0xA=s64",
      "userId": "11037617104425402084"
     },
     "user_tz": -540
    },
    "id": "rTSIL17243qA",
    "outputId": "e0bfa22d-d9cd-48a6-f108-0e5c5e8b92b8"
   },
   "outputs": [
    {
     "data": {
      "text/html": [
       "<div>\n",
       "<style scoped>\n",
       "    .dataframe tbody tr th:only-of-type {\n",
       "        vertical-align: middle;\n",
       "    }\n",
       "\n",
       "    .dataframe tbody tr th {\n",
       "        vertical-align: top;\n",
       "    }\n",
       "\n",
       "    .dataframe thead th {\n",
       "        text-align: right;\n",
       "    }\n",
       "</style>\n",
       "<table border=\"1\" class=\"dataframe\">\n",
       "  <thead>\n",
       "    <tr style=\"text-align: right;\">\n",
       "      <th></th>\n",
       "      <th>Open</th>\n",
       "      <th>High</th>\n",
       "      <th>Low</th>\n",
       "      <th>Close</th>\n",
       "      <th>BB20,+1</th>\n",
       "      <th>BB20,-1</th>\n",
       "      <th>SMA20</th>\n",
       "      <th>Volume</th>\n",
       "      <th>Lシグナル</th>\n",
       "      <th>Sシグナル</th>\n",
       "      <th>Open</th>\n",
       "      <th>High</th>\n",
       "      <th>Low</th>\n",
       "      <th>Close</th>\n",
       "      <th>BB20,+1</th>\n",
       "      <th>BB20,-1</th>\n",
       "      <th>SMA20</th>\n",
       "      <th>Volume</th>\n",
       "      <th>Lシグナル</th>\n",
       "      <th>Sシグナル</th>\n",
       "      <th>Open</th>\n",
       "      <th>High</th>\n",
       "      <th>Low</th>\n",
       "      <th>Close</th>\n",
       "      <th>BB20,+1</th>\n",
       "      <th>BB20,-1</th>\n",
       "      <th>SMA20</th>\n",
       "      <th>Volume</th>\n",
       "      <th>Lシグナル</th>\n",
       "      <th>Sシグナル</th>\n",
       "      <th>Open</th>\n",
       "      <th>High</th>\n",
       "      <th>Low</th>\n",
       "      <th>Close</th>\n",
       "      <th>BB20,+1</th>\n",
       "      <th>BB20,-1</th>\n",
       "      <th>SMA20</th>\n",
       "      <th>Volume</th>\n",
       "      <th>Lシグナル</th>\n",
       "      <th>Sシグナル</th>\n",
       "      <th>...</th>\n",
       "      <th>High</th>\n",
       "      <th>Low</th>\n",
       "      <th>Close</th>\n",
       "      <th>BB20,+1</th>\n",
       "      <th>BB20,-1</th>\n",
       "      <th>SMA20</th>\n",
       "      <th>Volume</th>\n",
       "      <th>Lシグナル</th>\n",
       "      <th>Sシグナル</th>\n",
       "      <th>Open</th>\n",
       "      <th>High</th>\n",
       "      <th>Low</th>\n",
       "      <th>Close</th>\n",
       "      <th>BB20,+1</th>\n",
       "      <th>BB20,-1</th>\n",
       "      <th>SMA20</th>\n",
       "      <th>Volume</th>\n",
       "      <th>Lシグナル</th>\n",
       "      <th>Sシグナル</th>\n",
       "      <th>Open</th>\n",
       "      <th>High</th>\n",
       "      <th>Low</th>\n",
       "      <th>Close</th>\n",
       "      <th>BB20,+1</th>\n",
       "      <th>BB20,-1</th>\n",
       "      <th>SMA20</th>\n",
       "      <th>Volume</th>\n",
       "      <th>Lシグナル</th>\n",
       "      <th>Sシグナル</th>\n",
       "      <th>Open</th>\n",
       "      <th>High</th>\n",
       "      <th>Low</th>\n",
       "      <th>Close</th>\n",
       "      <th>BB20,+1</th>\n",
       "      <th>BB20,-1</th>\n",
       "      <th>SMA20</th>\n",
       "      <th>Volume</th>\n",
       "      <th>Lシグナル</th>\n",
       "      <th>Sシグナル</th>\n",
       "      <th>y</th>\n",
       "    </tr>\n",
       "  </thead>\n",
       "  <tbody>\n",
       "    <tr>\n",
       "      <th>10</th>\n",
       "      <td>-0.004</td>\n",
       "      <td>-0.001</td>\n",
       "      <td>-0.011</td>\n",
       "      <td>-0.008</td>\n",
       "      <td>0.000</td>\n",
       "      <td>-0.002</td>\n",
       "      <td>-0.001</td>\n",
       "      <td>13.0</td>\n",
       "      <td>0.0</td>\n",
       "      <td>1.0</td>\n",
       "      <td>-0.017</td>\n",
       "      <td>-0.023</td>\n",
       "      <td>-0.037</td>\n",
       "      <td>-0.015</td>\n",
       "      <td>-0.001</td>\n",
       "      <td>-0.004</td>\n",
       "      <td>-0.002</td>\n",
       "      <td>6.0</td>\n",
       "      <td>0.0</td>\n",
       "      <td>1.0</td>\n",
       "      <td>-0.022</td>\n",
       "      <td>-0.034</td>\n",
       "      <td>-0.017</td>\n",
       "      <td>-0.025</td>\n",
       "      <td>-0.001</td>\n",
       "      <td>-0.005</td>\n",
       "      <td>-0.003</td>\n",
       "      <td>43.0</td>\n",
       "      <td>0.0</td>\n",
       "      <td>0.0</td>\n",
       "      <td>-0.014</td>\n",
       "      <td>-0.038</td>\n",
       "      <td>-0.040</td>\n",
       "      <td>-0.021</td>\n",
       "      <td>-0.002</td>\n",
       "      <td>-0.007</td>\n",
       "      <td>-0.004</td>\n",
       "      <td>82.0</td>\n",
       "      <td>0.0</td>\n",
       "      <td>1.0</td>\n",
       "      <td>...</td>\n",
       "      <td>-0.028</td>\n",
       "      <td>-0.043</td>\n",
       "      <td>-0.033</td>\n",
       "      <td>-0.004</td>\n",
       "      <td>-0.010</td>\n",
       "      <td>-0.006</td>\n",
       "      <td>21.0</td>\n",
       "      <td>0.0</td>\n",
       "      <td>0.0</td>\n",
       "      <td>-0.035</td>\n",
       "      <td>-0.032</td>\n",
       "      <td>-0.044</td>\n",
       "      <td>-0.031</td>\n",
       "      <td>-0.006</td>\n",
       "      <td>-0.011</td>\n",
       "      <td>-0.008</td>\n",
       "      <td>9.0</td>\n",
       "      <td>0.0</td>\n",
       "      <td>0.0</td>\n",
       "      <td>-0.027</td>\n",
       "      <td>-0.028</td>\n",
       "      <td>-0.049</td>\n",
       "      <td>-0.035</td>\n",
       "      <td>-0.008</td>\n",
       "      <td>-0.012</td>\n",
       "      <td>-0.010</td>\n",
       "      <td>4.0</td>\n",
       "      <td>0.0</td>\n",
       "      <td>0.0</td>\n",
       "      <td>-0.026</td>\n",
       "      <td>-0.023</td>\n",
       "      <td>-0.047</td>\n",
       "      <td>-0.025</td>\n",
       "      <td>-0.009</td>\n",
       "      <td>-0.014</td>\n",
       "      <td>-0.011</td>\n",
       "      <td>2.0</td>\n",
       "      <td>0.0</td>\n",
       "      <td>1.0</td>\n",
       "      <td>0.006</td>\n",
       "    </tr>\n",
       "    <tr>\n",
       "      <th>11</th>\n",
       "      <td>-0.009</td>\n",
       "      <td>-0.012</td>\n",
       "      <td>0.015</td>\n",
       "      <td>-0.007</td>\n",
       "      <td>0.000</td>\n",
       "      <td>-0.003</td>\n",
       "      <td>-0.002</td>\n",
       "      <td>15.0</td>\n",
       "      <td>0.0</td>\n",
       "      <td>1.0</td>\n",
       "      <td>-0.013</td>\n",
       "      <td>-0.013</td>\n",
       "      <td>0.004</td>\n",
       "      <td>-0.015</td>\n",
       "      <td>0.000</td>\n",
       "      <td>-0.005</td>\n",
       "      <td>-0.003</td>\n",
       "      <td>13.0</td>\n",
       "      <td>0.0</td>\n",
       "      <td>1.0</td>\n",
       "      <td>-0.026</td>\n",
       "      <td>-0.035</td>\n",
       "      <td>-0.022</td>\n",
       "      <td>-0.022</td>\n",
       "      <td>-0.001</td>\n",
       "      <td>-0.007</td>\n",
       "      <td>-0.004</td>\n",
       "      <td>6.0</td>\n",
       "      <td>0.0</td>\n",
       "      <td>1.0</td>\n",
       "      <td>-0.031</td>\n",
       "      <td>-0.046</td>\n",
       "      <td>-0.002</td>\n",
       "      <td>-0.032</td>\n",
       "      <td>-0.001</td>\n",
       "      <td>-0.008</td>\n",
       "      <td>-0.005</td>\n",
       "      <td>43.0</td>\n",
       "      <td>0.0</td>\n",
       "      <td>0.0</td>\n",
       "      <td>...</td>\n",
       "      <td>-0.050</td>\n",
       "      <td>-0.030</td>\n",
       "      <td>-0.030</td>\n",
       "      <td>-0.003</td>\n",
       "      <td>-0.012</td>\n",
       "      <td>-0.008</td>\n",
       "      <td>14.0</td>\n",
       "      <td>0.0</td>\n",
       "      <td>1.0</td>\n",
       "      <td>-0.040</td>\n",
       "      <td>-0.040</td>\n",
       "      <td>-0.028</td>\n",
       "      <td>-0.040</td>\n",
       "      <td>-0.004</td>\n",
       "      <td>-0.013</td>\n",
       "      <td>-0.008</td>\n",
       "      <td>21.0</td>\n",
       "      <td>0.0</td>\n",
       "      <td>0.0</td>\n",
       "      <td>-0.044</td>\n",
       "      <td>-0.044</td>\n",
       "      <td>-0.029</td>\n",
       "      <td>-0.038</td>\n",
       "      <td>-0.006</td>\n",
       "      <td>-0.014</td>\n",
       "      <td>-0.010</td>\n",
       "      <td>9.0</td>\n",
       "      <td>0.0</td>\n",
       "      <td>0.0</td>\n",
       "      <td>-0.036</td>\n",
       "      <td>-0.040</td>\n",
       "      <td>-0.034</td>\n",
       "      <td>-0.042</td>\n",
       "      <td>-0.008</td>\n",
       "      <td>-0.015</td>\n",
       "      <td>-0.012</td>\n",
       "      <td>4.0</td>\n",
       "      <td>0.0</td>\n",
       "      <td>0.0</td>\n",
       "      <td>-0.004</td>\n",
       "    </tr>\n",
       "    <tr>\n",
       "      <th>12</th>\n",
       "      <td>0.002</td>\n",
       "      <td>0.010</td>\n",
       "      <td>-0.010</td>\n",
       "      <td>0.001</td>\n",
       "      <td>0.001</td>\n",
       "      <td>-0.003</td>\n",
       "      <td>-0.001</td>\n",
       "      <td>2.0</td>\n",
       "      <td>0.0</td>\n",
       "      <td>1.0</td>\n",
       "      <td>-0.007</td>\n",
       "      <td>-0.002</td>\n",
       "      <td>0.005</td>\n",
       "      <td>-0.006</td>\n",
       "      <td>0.001</td>\n",
       "      <td>-0.006</td>\n",
       "      <td>-0.003</td>\n",
       "      <td>15.0</td>\n",
       "      <td>0.0</td>\n",
       "      <td>1.0</td>\n",
       "      <td>-0.011</td>\n",
       "      <td>-0.003</td>\n",
       "      <td>-0.006</td>\n",
       "      <td>-0.014</td>\n",
       "      <td>0.001</td>\n",
       "      <td>-0.008</td>\n",
       "      <td>-0.004</td>\n",
       "      <td>13.0</td>\n",
       "      <td>0.0</td>\n",
       "      <td>1.0</td>\n",
       "      <td>-0.024</td>\n",
       "      <td>-0.025</td>\n",
       "      <td>-0.032</td>\n",
       "      <td>-0.021</td>\n",
       "      <td>0.000</td>\n",
       "      <td>-0.010</td>\n",
       "      <td>-0.005</td>\n",
       "      <td>6.0</td>\n",
       "      <td>0.0</td>\n",
       "      <td>1.0</td>\n",
       "      <td>...</td>\n",
       "      <td>-0.035</td>\n",
       "      <td>-0.036</td>\n",
       "      <td>-0.029</td>\n",
       "      <td>-0.002</td>\n",
       "      <td>-0.014</td>\n",
       "      <td>-0.008</td>\n",
       "      <td>84.0</td>\n",
       "      <td>0.0</td>\n",
       "      <td>1.0</td>\n",
       "      <td>-0.031</td>\n",
       "      <td>-0.040</td>\n",
       "      <td>-0.040</td>\n",
       "      <td>-0.029</td>\n",
       "      <td>-0.002</td>\n",
       "      <td>-0.015</td>\n",
       "      <td>-0.009</td>\n",
       "      <td>14.0</td>\n",
       "      <td>0.0</td>\n",
       "      <td>1.0</td>\n",
       "      <td>-0.038</td>\n",
       "      <td>-0.030</td>\n",
       "      <td>-0.038</td>\n",
       "      <td>-0.039</td>\n",
       "      <td>-0.003</td>\n",
       "      <td>-0.016</td>\n",
       "      <td>-0.009</td>\n",
       "      <td>21.0</td>\n",
       "      <td>0.0</td>\n",
       "      <td>0.0</td>\n",
       "      <td>-0.042</td>\n",
       "      <td>-0.034</td>\n",
       "      <td>-0.039</td>\n",
       "      <td>-0.037</td>\n",
       "      <td>-0.005</td>\n",
       "      <td>-0.017</td>\n",
       "      <td>-0.011</td>\n",
       "      <td>9.0</td>\n",
       "      <td>0.0</td>\n",
       "      <td>0.0</td>\n",
       "      <td>0.000</td>\n",
       "    </tr>\n",
       "    <tr>\n",
       "      <th>13</th>\n",
       "      <td>-0.006</td>\n",
       "      <td>-0.014</td>\n",
       "      <td>0.008</td>\n",
       "      <td>-0.003</td>\n",
       "      <td>-0.001</td>\n",
       "      <td>-0.003</td>\n",
       "      <td>-0.002</td>\n",
       "      <td>23.0</td>\n",
       "      <td>0.0</td>\n",
       "      <td>1.0</td>\n",
       "      <td>-0.004</td>\n",
       "      <td>-0.004</td>\n",
       "      <td>-0.002</td>\n",
       "      <td>-0.002</td>\n",
       "      <td>0.000</td>\n",
       "      <td>-0.006</td>\n",
       "      <td>-0.003</td>\n",
       "      <td>2.0</td>\n",
       "      <td>0.0</td>\n",
       "      <td>1.0</td>\n",
       "      <td>-0.013</td>\n",
       "      <td>-0.016</td>\n",
       "      <td>0.013</td>\n",
       "      <td>-0.009</td>\n",
       "      <td>0.000</td>\n",
       "      <td>-0.009</td>\n",
       "      <td>-0.005</td>\n",
       "      <td>15.0</td>\n",
       "      <td>0.0</td>\n",
       "      <td>1.0</td>\n",
       "      <td>-0.017</td>\n",
       "      <td>-0.017</td>\n",
       "      <td>0.002</td>\n",
       "      <td>-0.017</td>\n",
       "      <td>0.000</td>\n",
       "      <td>-0.011</td>\n",
       "      <td>-0.006</td>\n",
       "      <td>13.0</td>\n",
       "      <td>0.0</td>\n",
       "      <td>1.0</td>\n",
       "      <td>...</td>\n",
       "      <td>-0.054</td>\n",
       "      <td>-0.027</td>\n",
       "      <td>-0.030</td>\n",
       "      <td>-0.002</td>\n",
       "      <td>-0.016</td>\n",
       "      <td>-0.009</td>\n",
       "      <td>82.0</td>\n",
       "      <td>0.0</td>\n",
       "      <td>1.0</td>\n",
       "      <td>-0.028</td>\n",
       "      <td>-0.049</td>\n",
       "      <td>-0.028</td>\n",
       "      <td>-0.032</td>\n",
       "      <td>-0.003</td>\n",
       "      <td>-0.017</td>\n",
       "      <td>-0.010</td>\n",
       "      <td>84.0</td>\n",
       "      <td>0.0</td>\n",
       "      <td>1.0</td>\n",
       "      <td>-0.037</td>\n",
       "      <td>-0.054</td>\n",
       "      <td>-0.032</td>\n",
       "      <td>-0.032</td>\n",
       "      <td>-0.003</td>\n",
       "      <td>-0.018</td>\n",
       "      <td>-0.011</td>\n",
       "      <td>14.0</td>\n",
       "      <td>0.0</td>\n",
       "      <td>1.0</td>\n",
       "      <td>-0.044</td>\n",
       "      <td>-0.044</td>\n",
       "      <td>-0.030</td>\n",
       "      <td>-0.042</td>\n",
       "      <td>-0.004</td>\n",
       "      <td>-0.019</td>\n",
       "      <td>-0.011</td>\n",
       "      <td>21.0</td>\n",
       "      <td>0.0</td>\n",
       "      <td>0.0</td>\n",
       "      <td>0.013</td>\n",
       "    </tr>\n",
       "    <tr>\n",
       "      <th>14</th>\n",
       "      <td>-0.002</td>\n",
       "      <td>0.000</td>\n",
       "      <td>-0.020</td>\n",
       "      <td>0.000</td>\n",
       "      <td>0.000</td>\n",
       "      <td>-0.003</td>\n",
       "      <td>-0.001</td>\n",
       "      <td>1.0</td>\n",
       "      <td>0.0</td>\n",
       "      <td>1.0</td>\n",
       "      <td>-0.008</td>\n",
       "      <td>-0.014</td>\n",
       "      <td>-0.012</td>\n",
       "      <td>-0.003</td>\n",
       "      <td>-0.001</td>\n",
       "      <td>-0.006</td>\n",
       "      <td>-0.003</td>\n",
       "      <td>23.0</td>\n",
       "      <td>0.0</td>\n",
       "      <td>1.0</td>\n",
       "      <td>-0.006</td>\n",
       "      <td>-0.004</td>\n",
       "      <td>-0.022</td>\n",
       "      <td>-0.002</td>\n",
       "      <td>0.000</td>\n",
       "      <td>-0.009</td>\n",
       "      <td>-0.004</td>\n",
       "      <td>2.0</td>\n",
       "      <td>0.0</td>\n",
       "      <td>1.0</td>\n",
       "      <td>-0.015</td>\n",
       "      <td>-0.016</td>\n",
       "      <td>-0.007</td>\n",
       "      <td>-0.009</td>\n",
       "      <td>0.000</td>\n",
       "      <td>-0.012</td>\n",
       "      <td>-0.006</td>\n",
       "      <td>15.0</td>\n",
       "      <td>0.0</td>\n",
       "      <td>1.0</td>\n",
       "      <td>...</td>\n",
       "      <td>-0.050</td>\n",
       "      <td>-0.024</td>\n",
       "      <td>-0.034</td>\n",
       "      <td>-0.001</td>\n",
       "      <td>-0.017</td>\n",
       "      <td>-0.009</td>\n",
       "      <td>43.0</td>\n",
       "      <td>0.0</td>\n",
       "      <td>0.0</td>\n",
       "      <td>-0.029</td>\n",
       "      <td>-0.054</td>\n",
       "      <td>-0.047</td>\n",
       "      <td>-0.030</td>\n",
       "      <td>-0.002</td>\n",
       "      <td>-0.019</td>\n",
       "      <td>-0.010</td>\n",
       "      <td>82.0</td>\n",
       "      <td>0.0</td>\n",
       "      <td>1.0</td>\n",
       "      <td>-0.030</td>\n",
       "      <td>-0.049</td>\n",
       "      <td>-0.048</td>\n",
       "      <td>-0.032</td>\n",
       "      <td>-0.003</td>\n",
       "      <td>-0.020</td>\n",
       "      <td>-0.011</td>\n",
       "      <td>84.0</td>\n",
       "      <td>0.0</td>\n",
       "      <td>1.0</td>\n",
       "      <td>-0.039</td>\n",
       "      <td>-0.054</td>\n",
       "      <td>-0.052</td>\n",
       "      <td>-0.032</td>\n",
       "      <td>-0.003</td>\n",
       "      <td>-0.021</td>\n",
       "      <td>-0.012</td>\n",
       "      <td>14.0</td>\n",
       "      <td>0.0</td>\n",
       "      <td>1.0</td>\n",
       "      <td>0.008</td>\n",
       "    </tr>\n",
       "  </tbody>\n",
       "</table>\n",
       "<p>5 rows × 101 columns</p>\n",
       "</div>"
      ],
      "text/plain": [
       "     Open   High    Low  Close  BB20,+1  ...  SMA20  Volume  Lシグナル  Sシグナル      y\n",
       "10 -0.004 -0.001 -0.011 -0.008    0.000  ... -0.011     2.0    0.0    1.0  0.006\n",
       "11 -0.009 -0.012  0.015 -0.007    0.000  ... -0.012     4.0    0.0    0.0 -0.004\n",
       "12  0.002  0.010 -0.010  0.001    0.001  ... -0.011     9.0    0.0    0.0  0.000\n",
       "13 -0.006 -0.014  0.008 -0.003   -0.001  ... -0.011    21.0    0.0    0.0  0.013\n",
       "14 -0.002  0.000 -0.020  0.000    0.000  ... -0.012    14.0    0.0    1.0  0.008\n",
       "\n",
       "[5 rows x 101 columns]"
      ]
     },
     "execution_count": 187,
     "metadata": {
      "tags": []
     },
     "output_type": "execute_result"
    }
   ],
   "source": [
    "LGB_df.head()"
   ]
  },
  {
   "cell_type": "markdown",
   "metadata": {
    "colab_type": "text",
    "id": "imdgX45qFlp5"
   },
   "source": [
    "### LGB用のデータ作成"
   ]
  },
  {
   "cell_type": "code",
   "execution_count": 0,
   "metadata": {
    "colab": {},
    "colab_type": "code",
    "id": "JZoOCgERFlqQ"
   },
   "outputs": [],
   "source": [
    "df = get_data_super(start='2018-01-01-00-00-00', end='2019-01-01-00-00-00', gran='M1')"
   ]
  },
  {
   "cell_type": "code",
   "execution_count": 0,
   "metadata": {
    "colab": {
     "base_uri": "https://localhost:8080/",
     "height": 298
    },
    "colab_type": "code",
    "executionInfo": {
     "elapsed": 1305,
     "status": "ok",
     "timestamp": 1575246405571,
     "user": {
      "displayName": "藤沼インザスカイ",
      "photoUrl": "https://lh3.googleusercontent.com/a-/AAuE7mBZx9Jngn7Zn55LfitMEs7hye6vu8Z3XrGCB0xA=s64",
      "userId": "11037617104425402084"
     },
     "user_tz": -540
    },
    "id": "plgPOaS3wR2K",
    "outputId": "04ef6456-d096-4add-a9a6-8cfba777a914"
   },
   "outputs": [
    {
     "name": "stderr",
     "output_type": "stream",
     "text": [
      "findfont: Font family ['IPAPGothic'] not found. Falling back to DejaVu Sans.\n"
     ]
    },
    {
     "data": {
      "image/png": "[encoded data removed]",
      "text/plain": [
       "<Figure size 432x288 with 1 Axes>"
      ]
     },
     "metadata": {
      "tags": []
     },
     "output_type": "display_data"
    }
   ],
   "source": [
    "fig, ax = plt.subplots()\n",
    "ax.plot(df['Close'][i:i+100])\n",
    "ax.plot(df['BB20,+1'][i:i+100])\n",
    "ax.plot(df['BB20,-1'][i:i+100])\n",
    "ax.plot(df['SMA20'][i:i+100])\n",
    "plt.show()"
   ]
  },
  {
   "cell_type": "code",
   "execution_count": 0,
   "metadata": {
    "colab": {
     "base_uri": "https://localhost:8080/",
     "height": 359
    },
    "colab_type": "code",
    "executionInfo": {
     "elapsed": 1500,
     "status": "ok",
     "timestamp": 1575246391198,
     "user": {
      "displayName": "藤沼インザスカイ",
      "photoUrl": "https://lh3.googleusercontent.com/a-/AAuE7mBZx9Jngn7Zn55LfitMEs7hye6vu8Z3XrGCB0xA=s64",
      "userId": "11037617104425402084"
     },
     "user_tz": -540
    },
    "id": "6wu5JpTY1TLU",
    "outputId": "55990234-3be8-48f0-e999-523b0274aa8e"
   },
   "outputs": [
    {
     "data": {
      "text/html": [
       "<div>\n",
       "<style scoped>\n",
       "    .dataframe tbody tr th:only-of-type {\n",
       "        vertical-align: middle;\n",
       "    }\n",
       "\n",
       "    .dataframe tbody tr th {\n",
       "        vertical-align: top;\n",
       "    }\n",
       "\n",
       "    .dataframe thead th {\n",
       "        text-align: right;\n",
       "    }\n",
       "</style>\n",
       "<table border=\"1\" class=\"dataframe\">\n",
       "  <thead>\n",
       "    <tr style=\"text-align: right;\">\n",
       "      <th></th>\n",
       "      <th>Time</th>\n",
       "      <th>Volume</th>\n",
       "      <th>Open</th>\n",
       "      <th>High</th>\n",
       "      <th>Low</th>\n",
       "      <th>Close</th>\n",
       "      <th>BB20,+1</th>\n",
       "      <th>BB20,-1</th>\n",
       "      <th>Lシグナル</th>\n",
       "      <th>Sシグナル</th>\n",
       "      <th>SMA20</th>\n",
       "    </tr>\n",
       "  </thead>\n",
       "  <tbody>\n",
       "    <tr>\n",
       "      <th>178985</th>\n",
       "      <td>2018-06-29 20:56:00+00:00</td>\n",
       "      <td>15</td>\n",
       "      <td>110.712</td>\n",
       "      <td>110.712</td>\n",
       "      <td>110.690</td>\n",
       "      <td>110.697</td>\n",
       "      <td>110.701</td>\n",
       "      <td>110.661</td>\n",
       "      <td>0</td>\n",
       "      <td>0</td>\n",
       "      <td>110.681</td>\n",
       "    </tr>\n",
       "    <tr>\n",
       "      <th>178986</th>\n",
       "      <td>2018-06-29 20:57:00+00:00</td>\n",
       "      <td>8</td>\n",
       "      <td>110.694</td>\n",
       "      <td>110.694</td>\n",
       "      <td>110.686</td>\n",
       "      <td>110.686</td>\n",
       "      <td>110.702</td>\n",
       "      <td>110.666</td>\n",
       "      <td>0</td>\n",
       "      <td>0</td>\n",
       "      <td>110.684</td>\n",
       "    </tr>\n",
       "    <tr>\n",
       "      <th>178987</th>\n",
       "      <td>2018-06-29 20:58:00+00:00</td>\n",
       "      <td>5</td>\n",
       "      <td>110.688</td>\n",
       "      <td>110.690</td>\n",
       "      <td>110.684</td>\n",
       "      <td>110.690</td>\n",
       "      <td>110.701</td>\n",
       "      <td>110.670</td>\n",
       "      <td>0</td>\n",
       "      <td>0</td>\n",
       "      <td>110.686</td>\n",
       "    </tr>\n",
       "    <tr>\n",
       "      <th>178988</th>\n",
       "      <td>2018-06-29 20:59:00+00:00</td>\n",
       "      <td>9</td>\n",
       "      <td>110.690</td>\n",
       "      <td>110.728</td>\n",
       "      <td>110.689</td>\n",
       "      <td>110.728</td>\n",
       "      <td>110.701</td>\n",
       "      <td>110.674</td>\n",
       "      <td>1</td>\n",
       "      <td>0</td>\n",
       "      <td>110.688</td>\n",
       "    </tr>\n",
       "    <tr>\n",
       "      <th>178989</th>\n",
       "      <td>2018-07-01 21:00:00+00:00</td>\n",
       "      <td>7</td>\n",
       "      <td>110.675</td>\n",
       "      <td>110.701</td>\n",
       "      <td>110.624</td>\n",
       "      <td>110.701</td>\n",
       "      <td>110.706</td>\n",
       "      <td>110.677</td>\n",
       "      <td>0</td>\n",
       "      <td>0</td>\n",
       "      <td>110.691</td>\n",
       "    </tr>\n",
       "    <tr>\n",
       "      <th>178990</th>\n",
       "      <td>2018-07-01 21:01:00+00:00</td>\n",
       "      <td>11</td>\n",
       "      <td>110.705</td>\n",
       "      <td>110.705</td>\n",
       "      <td>110.636</td>\n",
       "      <td>110.662</td>\n",
       "      <td>110.706</td>\n",
       "      <td>110.680</td>\n",
       "      <td>0</td>\n",
       "      <td>1</td>\n",
       "      <td>110.693</td>\n",
       "    </tr>\n",
       "    <tr>\n",
       "      <th>178991</th>\n",
       "      <td>2018-07-01 21:02:00+00:00</td>\n",
       "      <td>11</td>\n",
       "      <td>110.662</td>\n",
       "      <td>110.668</td>\n",
       "      <td>110.642</td>\n",
       "      <td>110.655</td>\n",
       "      <td>110.707</td>\n",
       "      <td>110.677</td>\n",
       "      <td>0</td>\n",
       "      <td>1</td>\n",
       "      <td>110.692</td>\n",
       "    </tr>\n",
       "    <tr>\n",
       "      <th>178992</th>\n",
       "      <td>2018-07-01 21:03:00+00:00</td>\n",
       "      <td>2</td>\n",
       "      <td>110.650</td>\n",
       "      <td>110.650</td>\n",
       "      <td>110.646</td>\n",
       "      <td>110.646</td>\n",
       "      <td>110.707</td>\n",
       "      <td>110.674</td>\n",
       "      <td>0</td>\n",
       "      <td>1</td>\n",
       "      <td>110.691</td>\n",
       "    </tr>\n",
       "    <tr>\n",
       "      <th>178993</th>\n",
       "      <td>2018-07-01 21:04:00+00:00</td>\n",
       "      <td>7</td>\n",
       "      <td>110.641</td>\n",
       "      <td>110.641</td>\n",
       "      <td>110.622</td>\n",
       "      <td>110.628</td>\n",
       "      <td>110.708</td>\n",
       "      <td>110.671</td>\n",
       "      <td>0</td>\n",
       "      <td>1</td>\n",
       "      <td>110.690</td>\n",
       "    </tr>\n",
       "    <tr>\n",
       "      <th>178994</th>\n",
       "      <td>2018-07-01 21:05:00+00:00</td>\n",
       "      <td>60</td>\n",
       "      <td>110.633</td>\n",
       "      <td>110.640</td>\n",
       "      <td>110.621</td>\n",
       "      <td>110.639</td>\n",
       "      <td>110.710</td>\n",
       "      <td>110.664</td>\n",
       "      <td>0</td>\n",
       "      <td>1</td>\n",
       "      <td>110.687</td>\n",
       "    </tr>\n",
       "  </tbody>\n",
       "</table>\n",
       "</div>"
      ],
      "text/plain": [
       "                             Time  Volume     Open  ...  Lシグナル  Sシグナル    SMA20\n",
       "178985  2018-06-29 20:56:00+00:00      15  110.712  ...      0      0  110.681\n",
       "178986  2018-06-29 20:57:00+00:00       8  110.694  ...      0      0  110.684\n",
       "178987  2018-06-29 20:58:00+00:00       5  110.688  ...      0      0  110.686\n",
       "178988  2018-06-29 20:59:00+00:00       9  110.690  ...      1      0  110.688\n",
       "178989  2018-07-01 21:00:00+00:00       7  110.675  ...      0      0  110.691\n",
       "178990  2018-07-01 21:01:00+00:00      11  110.705  ...      0      1  110.693\n",
       "178991  2018-07-01 21:02:00+00:00      11  110.662  ...      0      1  110.692\n",
       "178992  2018-07-01 21:03:00+00:00       2  110.650  ...      0      1  110.691\n",
       "178993  2018-07-01 21:04:00+00:00       7  110.641  ...      0      1  110.690\n",
       "178994  2018-07-01 21:05:00+00:00      60  110.633  ...      0      1  110.687\n",
       "\n",
       "[10 rows x 11 columns]"
      ]
     },
     "execution_count": 12,
     "metadata": {
      "tags": []
     },
     "output_type": "execute_result"
    }
   ],
   "source": [
    "i = 179000-15\n",
    "df[i:i+10]"
   ]
  },
  {
   "cell_type": "code",
   "execution_count": 0,
   "metadata": {
    "colab": {},
    "colab_type": "code",
    "id": "xKOVwiR9Flql"
   },
   "outputs": [],
   "source": [
    "# 2018-07-01 ～ 2018-12-31\n",
    "df_7_12 = df[178989:]"
   ]
  },
  {
   "cell_type": "code",
   "execution_count": 0,
   "metadata": {
    "colab": {},
    "colab_type": "code",
    "id": "iMUqRWoyOxZI"
   },
   "outputs": [],
   "source": [
    "# LGB_df.to_csv('LGB_df_BB.csv', index=False)\n",
    "df.to_csv('df_sma.csv', index=False)"
   ]
  },
  {
   "cell_type": "code",
   "execution_count": 0,
   "metadata": {
    "colab": {},
    "colab_type": "code",
    "id": "r0sorZAdw910"
   },
   "outputs": [],
   "source": [
    "LGB_df.to_csv('LGB_df_SMA.csv', index=False)"
   ]
  },
  {
   "cell_type": "code",
   "execution_count": 0,
   "metadata": {
    "colab": {},
    "colab_type": "code",
    "id": "YcXm14AFPYnl"
   },
   "outputs": [],
   "source": [
    "LGB_df = pd.read_csv('LGB_df_BB.csv')"
   ]
  },
  {
   "cell_type": "code",
   "execution_count": 0,
   "metadata": {
    "colab": {},
    "colab_type": "code",
    "id": "_ApsvlmQVpIm"
   },
   "outputs": [],
   "source": [
    "LGB_df_s = LGB_df.sample(frac=1, random_state=42).reset_index(drop=True)"
   ]
  },
  {
   "cell_type": "code",
   "execution_count": 0,
   "metadata": {
    "colab": {
     "base_uri": "https://localhost:8080/",
     "height": 53
    },
    "colab_type": "code",
    "executionInfo": {
     "elapsed": 1282,
     "status": "ok",
     "timestamp": 1575202653025,
     "user": {
      "displayName": "藤沼インザスカイ",
      "photoUrl": "https://lh3.googleusercontent.com/a-/AAuE7mBZx9Jngn7Zn55LfitMEs7hye6vu8Z3XrGCB0xA=s64",
      "userId": "11037617104425402084"
     },
     "user_tz": -540
    },
    "id": "RnJPvQ0_l1Vw",
    "outputId": "3a9d7982-b13f-4569-974b-db8029f66e2c"
   },
   "outputs": [
    {
     "data": {
      "text/plain": [
       "Close.9    110.658\n",
       "Name: 0, dtype: float64"
      ]
     },
     "execution_count": 133,
     "metadata": {
      "tags": []
     },
     "output_type": "execute_result"
    }
   ],
   "source": [
    "LGB_df.loc[0, ['Close.9']]\n",
    "# 110.658"
   ]
  },
  {
   "cell_type": "markdown",
   "metadata": {
    "colab_type": "text",
    "id": "P1P6z2SZbxs-"
   },
   "source": [
    "### 二値分類"
   ]
  },
  {
   "cell_type": "code",
   "execution_count": 11,
   "metadata": {
    "colab": {},
    "colab_type": "code",
    "id": "ikpE9CiK_dv-"
   },
   "outputs": [],
   "source": [
    "LGB_df_bc = get_dataset_bc(df, 50, 10)\n",
    "# LGB_df_bc"
   ]
  },
  {
   "cell_type": "code",
   "execution_count": 51,
   "metadata": {
    "colab": {},
    "colab_type": "code",
    "id": "E7v5cR2kzrvZ"
   },
   "outputs": [],
   "source": [
    "LGB_df_bc.columns = map(str, range(502))\n",
    "X = LGB_df_bc.drop(['500', '501'], axis=1).to_numpy()\n",
    "y = LGB_df_bc[['501']].to_numpy().flatten()\n",
    "# X_train, X_test, y_train, y_test = imbalanced_data_split(X.to_numpy(), y.to_numpy().flatten(), test_size=0.3)\n",
    "# # for validation\n",
    "# X_train2, X_valid, y_train2, y_valid = imbalanced_data_split(X_train, y_train, test_size=0.3)"
   ]
  },
  {
   "cell_type": "code",
   "execution_count": 92,
   "metadata": {
    "colab": {},
    "colab_type": "code",
    "id": "vUz_HY7PyuSg"
   },
   "outputs": [],
   "source": [
    "lgbm_params = {\n",
    "    'objective': 'binary',\n",
    "    'metric': 'auc',\n",
    "    'seed': 1729,\n",
    "    'learning_rate': 0.05,\n",
    "    'num_boosting_round': 2000\n",
    "}\n",
    "\n",
    "def lgbm_train(X_train_df, X_valid_df, y_train_df, y_valid_df, lgbm_params):\n",
    "    lgb_train = lgb.Dataset(X_train_df, y_train_df)\n",
    "    lgb_eval = lgb.Dataset(X_valid_df, y_valid_df, reference=lgb_train)\n",
    "\n",
    "    # 上記のパラメータでモデルを学習する\n",
    "    model = lgb.train(lgbm_params, lgb_train,\n",
    "                      # モデルの評価用データを渡す\n",
    "                      valid_sets=lgb_eval,\n",
    "                      # 最大で 1000 ラウンドまで学習する\n",
    "                      num_boost_round=1000,\n",
    "                      # 10 ラウンド経過しても性能が向上しないときは学習を打ち切る\n",
    "                      early_stopping_rounds=10,\n",
    "                      # うるさいので黙らせる\n",
    "                      verbose_eval = False)\n",
    "    \n",
    "    return model\n",
    "\n",
    "def skf_score(X, y, seed):\n",
    "    SKF = StratifiedKFold(n_splits=10, shuffle=True, random_state=seed)\n",
    "    auc_l = []\n",
    "    for train_index, test_index in SKF.split(X, y):\n",
    "        X_train, X_test = X[train_index], X[test_index]\n",
    "        y_train, y_test = y[train_index], y[test_index]\n",
    "        X_train2, X_valid, y_train2, y_valid = train_test_split(X_train, y_train, test_size=0.3, random_state=seed, stratify=y_train)\n",
    "        lgb_train = lgb.Dataset(X_train2, y_train2)\n",
    "        lgb_eval = lgb.Dataset(X_valid, y_valid, reference=lgb_train)\n",
    "        LGB = lgb.train(lgbm_params, lgb_train,\n",
    "                        # モデルの評価用データを渡す\n",
    "                        valid_sets=lgb_eval,\n",
    "                        # 最大で 1000 ラウンドまで学習する\n",
    "                        num_boost_round=1000,\n",
    "                        # 10 ラウンド経過しても性能が向上しないときは学習を打ち切る\n",
    "                        early_stopping_rounds=10,\n",
    "                        # うるさいので黙らせる\n",
    "                        verbose_eval = False)\n",
    "        y_pred = LGB.predict(X_test, num_iteration=LGB.best_iteration)\n",
    "        auc = metrics.roc_auc_score(y_test, y_pred)\n",
    "        auc_l.append(auc)\n",
    "    score = mean(auc_l)\n",
    "    return score"
   ]
  },
  {
   "cell_type": "markdown",
   "metadata": {
    "colab_type": "text",
    "id": "ic1DErvhvEOW"
   },
   "source": [
    "#### UnderSampling"
   ]
  },
  {
   "cell_type": "code",
   "execution_count": 71,
   "metadata": {
    "colab": {},
    "colab_type": "code",
    "id": "PuLCosHYjExL",
    "scrolled": true
   },
   "outputs": [
    {
     "name": "stderr",
     "output_type": "stream",
     "text": [
      "C:\\ProgramData\\Anaconda3\\lib\\site-packages\\sklearn\\utils\\deprecation.py:87: FutureWarning: Function safe_indexing is deprecated; safe_indexing is deprecated in version 0.22 and will be removed in version 0.24.\n",
      "  warnings.warn(msg, category=FutureWarning)\n"
     ]
    }
   ],
   "source": [
    "rus = RandomUnderSampler(random_state=1729)\n",
    "X_resampled, y_resampled = rus.fit_resample(X, y)"
   ]
  },
  {
   "cell_type": "code",
   "execution_count": 60,
   "metadata": {},
   "outputs": [
    {
     "name": "stdout",
     "output_type": "stream",
     "text": [
      "0.7919845885215586\n"
     ]
    }
   ],
   "source": [
    "rus_score = skf_score(X_resampled, y_resampled, 1729)\n",
    "print(rus_score)\n",
    "# 0.7909138413925111 seed = 1729\n",
    "# 0.7922117833553429 seed = 42\n",
    "# 0.7904243801875719 seed = 36"
   ]
  },
  {
   "cell_type": "markdown",
   "metadata": {
    "colab_type": "text",
    "id": "svaZDyLNx-a2"
   },
   "source": [
    "#### UnderSampling + bagging"
   ]
  },
  {
   "cell_type": "code",
   "execution_count": 62,
   "metadata": {
    "colab": {},
    "colab_type": "code",
    "id": "VibQNHZwhnlg"
   },
   "outputs": [],
   "source": [
    "def bagging(seed):\n",
    "    rus = RandomUnderSampler(random_state=seed)\n",
    "    X_resampled, y_resampled = rus.fit_resample(X, y)\n",
    "    X_train2, X_valid, y_train2, y_valid = train_test_split(X_resampled, y_resampled,\n",
    "                                                            test_size=0.3, random_state=seed, stratify=y_resampled)\n",
    "    model_bagging = lgbm_train(X_train2, X_valid, y_train2, y_valid, lgbm_params)\n",
    "    return model_bagging"
   ]
  },
  {
   "cell_type": "code",
   "execution_count": 63,
   "metadata": {
    "colab": {},
    "colab_type": "code",
    "collapsed": true,
    "id": "ZcXYiNNcyXkz"
   },
   "outputs": [
    {
     "name": "stderr",
     "output_type": "stream",
     "text": [
      "C:\\ProgramData\\Anaconda3\\lib\\site-packages\\sklearn\\utils\\deprecation.py:87: FutureWarning: Function safe_indexing is deprecated; safe_indexing is deprecated in version 0.22 and will be removed in version 0.24.\n",
      "  warnings.warn(msg, category=FutureWarning)\n",
      "C:\\ProgramData\\Anaconda3\\lib\\site-packages\\sklearn\\utils\\deprecation.py:87: FutureWarning: Function safe_indexing is deprecated; safe_indexing is deprecated in version 0.22 and will be removed in version 0.24.\n",
      "  warnings.warn(msg, category=FutureWarning)\n",
      "C:\\ProgramData\\Anaconda3\\lib\\site-packages\\sklearn\\utils\\deprecation.py:87: FutureWarning: Function safe_indexing is deprecated; safe_indexing is deprecated in version 0.22 and will be removed in version 0.24.\n",
      "  warnings.warn(msg, category=FutureWarning)\n",
      "C:\\ProgramData\\Anaconda3\\lib\\site-packages\\sklearn\\utils\\deprecation.py:87: FutureWarning: Function safe_indexing is deprecated; safe_indexing is deprecated in version 0.22 and will be removed in version 0.24.\n",
      "  warnings.warn(msg, category=FutureWarning)\n",
      "C:\\ProgramData\\Anaconda3\\lib\\site-packages\\sklearn\\utils\\deprecation.py:87: FutureWarning: Function safe_indexing is deprecated; safe_indexing is deprecated in version 0.22 and will be removed in version 0.24.\n",
      "  warnings.warn(msg, category=FutureWarning)\n",
      "C:\\ProgramData\\Anaconda3\\lib\\site-packages\\sklearn\\utils\\deprecation.py:87: FutureWarning: Function safe_indexing is deprecated; safe_indexing is deprecated in version 0.22 and will be removed in version 0.24.\n",
      "  warnings.warn(msg, category=FutureWarning)\n",
      "C:\\ProgramData\\Anaconda3\\lib\\site-packages\\sklearn\\utils\\deprecation.py:87: FutureWarning: Function safe_indexing is deprecated; safe_indexing is deprecated in version 0.22 and will be removed in version 0.24.\n",
      "  warnings.warn(msg, category=FutureWarning)\n",
      "C:\\ProgramData\\Anaconda3\\lib\\site-packages\\sklearn\\utils\\deprecation.py:87: FutureWarning: Function safe_indexing is deprecated; safe_indexing is deprecated in version 0.22 and will be removed in version 0.24.\n",
      "  warnings.warn(msg, category=FutureWarning)\n",
      "C:\\ProgramData\\Anaconda3\\lib\\site-packages\\sklearn\\utils\\deprecation.py:87: FutureWarning: Function safe_indexing is deprecated; safe_indexing is deprecated in version 0.22 and will be removed in version 0.24.\n",
      "  warnings.warn(msg, category=FutureWarning)\n",
      "C:\\ProgramData\\Anaconda3\\lib\\site-packages\\sklearn\\utils\\deprecation.py:87: FutureWarning: Function safe_indexing is deprecated; safe_indexing is deprecated in version 0.22 and will be removed in version 0.24.\n",
      "  warnings.warn(msg, category=FutureWarning)\n"
     ]
    }
   ],
   "source": [
    "models = []\n",
    "\n",
    "for i in range(10):\n",
    "    models.append(bagging(i))"
   ]
  },
  {
   "cell_type": "code",
   "execution_count": 66,
   "metadata": {
    "colab": {
     "base_uri": "https://localhost:8080/",
     "height": 35
    },
    "colab_type": "code",
    "executionInfo": {
     "elapsed": 4358,
     "status": "ok",
     "timestamp": 1575512147203,
     "user": {
      "displayName": "藤沼インザスカイ",
      "photoUrl": "https://lh3.googleusercontent.com/a-/AAuE7mBZx9Jngn7Zn55LfitMEs7hye6vu8Z3XrGCB0xA=s64",
      "userId": "11037617104425402084"
     },
     "user_tz": -540
    },
    "id": "M5P5BQTTy5a0",
    "outputId": "7e980cff-22d0-4fe9-9095-14cf2adfc4ad"
   },
   "outputs": [
    {
     "name": "stdout",
     "output_type": "stream",
     "text": [
      "0.874687259490223\n"
     ]
    }
   ],
   "source": [
    "y_preds = []\n",
    "\n",
    "for m in models:\n",
    "    y_preds.append(m.predict(X_test, num_iteration=m.best_iteration))\n",
    "\n",
    "y_preds_bagging = sum(y_preds)/len(y_preds)\n",
    "# auc を計算する\n",
    "auc = metrics.roc_auc_score(y_test, y_preds_bagging)\n",
    "print(auc)"
   ]
  },
  {
   "cell_type": "markdown",
   "metadata": {
    "colab_type": "text",
    "id": "H9FmYXY0asBe"
   },
   "source": [
    "#### OverSampling"
   ]
  },
  {
   "cell_type": "code",
   "execution_count": 98,
   "metadata": {
    "colab": {},
    "colab_type": "code",
    "collapsed": true,
    "id": "5j2fEhMqzfFL"
   },
   "outputs": [
    {
     "name": "stderr",
     "output_type": "stream",
     "text": [
      "C:\\ProgramData\\Anaconda3\\lib\\site-packages\\sklearn\\utils\\deprecation.py:87: FutureWarning: Function safe_indexing is deprecated; safe_indexing is deprecated in version 0.22 and will be removed in version 0.24.\n",
      "  warnings.warn(msg, category=FutureWarning)\n"
     ]
    },
    {
     "ename": "MemoryError",
     "evalue": "",
     "output_type": "error",
     "traceback": [
      "\u001b[1;31m---------------------------------------------------------------------------\u001b[0m",
      "\u001b[1;31mMemoryError\u001b[0m                               Traceback (most recent call last)",
      "\u001b[1;32m<ipython-input-98-0ed0c1b4c118>\u001b[0m in \u001b[0;36m<module>\u001b[1;34m\u001b[0m\n\u001b[0;32m      1\u001b[0m \u001b[0mros\u001b[0m \u001b[1;33m=\u001b[0m \u001b[0mRandomOverSampler\u001b[0m\u001b[1;33m(\u001b[0m\u001b[0mrandom_state\u001b[0m\u001b[1;33m=\u001b[0m\u001b[1;36m42\u001b[0m\u001b[1;33m)\u001b[0m\u001b[1;33m\u001b[0m\u001b[1;33m\u001b[0m\u001b[0m\n\u001b[1;32m----> 2\u001b[1;33m \u001b[0mX_resampled\u001b[0m\u001b[1;33m,\u001b[0m \u001b[0my_resampled\u001b[0m \u001b[1;33m=\u001b[0m \u001b[0mros\u001b[0m\u001b[1;33m.\u001b[0m\u001b[0mfit_resample\u001b[0m\u001b[1;33m(\u001b[0m\u001b[0mX\u001b[0m\u001b[1;33m,\u001b[0m \u001b[0my\u001b[0m\u001b[1;33m)\u001b[0m\u001b[1;33m\u001b[0m\u001b[1;33m\u001b[0m\u001b[0m\n\u001b[0m",
      "\u001b[1;32mC:\\ProgramData\\Anaconda3\\lib\\site-packages\\imblearn\\base.py\u001b[0m in \u001b[0;36mfit_resample\u001b[1;34m(self, X, y)\u001b[0m\n\u001b[0;32m     82\u001b[0m             self.sampling_strategy, y, self._sampling_type)\n\u001b[0;32m     83\u001b[0m \u001b[1;33m\u001b[0m\u001b[0m\n\u001b[1;32m---> 84\u001b[1;33m         \u001b[0moutput\u001b[0m \u001b[1;33m=\u001b[0m \u001b[0mself\u001b[0m\u001b[1;33m.\u001b[0m\u001b[0m_fit_resample\u001b[0m\u001b[1;33m(\u001b[0m\u001b[0mX\u001b[0m\u001b[1;33m,\u001b[0m \u001b[0my\u001b[0m\u001b[1;33m)\u001b[0m\u001b[1;33m\u001b[0m\u001b[1;33m\u001b[0m\u001b[0m\n\u001b[0m\u001b[0;32m     85\u001b[0m \u001b[1;33m\u001b[0m\u001b[0m\n\u001b[0;32m     86\u001b[0m         \u001b[1;32mif\u001b[0m \u001b[0mbinarize_y\u001b[0m\u001b[1;33m:\u001b[0m\u001b[1;33m\u001b[0m\u001b[1;33m\u001b[0m\u001b[0m\n",
      "\u001b[1;32mC:\\ProgramData\\Anaconda3\\lib\\site-packages\\imblearn\\over_sampling\\_random_over_sampler.py\u001b[0m in \u001b[0;36m_fit_resample\u001b[1;34m(self, X, y)\u001b[0m\n\u001b[0;32m    117\u001b[0m             return (safe_indexing(X, sample_indices),\n\u001b[0;32m    118\u001b[0m                     safe_indexing(y, sample_indices), sample_indices)\n\u001b[1;32m--> 119\u001b[1;33m         return (safe_indexing(X, sample_indices),\n\u001b[0m\u001b[0;32m    120\u001b[0m                 safe_indexing(y, sample_indices))\n\u001b[0;32m    121\u001b[0m \u001b[1;33m\u001b[0m\u001b[0m\n",
      "\u001b[1;32mC:\\ProgramData\\Anaconda3\\lib\\site-packages\\sklearn\\utils\\deprecation.py\u001b[0m in \u001b[0;36mwrapped\u001b[1;34m(*args, **kwargs)\u001b[0m\n\u001b[0;32m     86\u001b[0m         \u001b[1;32mdef\u001b[0m \u001b[0mwrapped\u001b[0m\u001b[1;33m(\u001b[0m\u001b[1;33m*\u001b[0m\u001b[0margs\u001b[0m\u001b[1;33m,\u001b[0m \u001b[1;33m**\u001b[0m\u001b[0mkwargs\u001b[0m\u001b[1;33m)\u001b[0m\u001b[1;33m:\u001b[0m\u001b[1;33m\u001b[0m\u001b[1;33m\u001b[0m\u001b[0m\n\u001b[0;32m     87\u001b[0m             \u001b[0mwarnings\u001b[0m\u001b[1;33m.\u001b[0m\u001b[0mwarn\u001b[0m\u001b[1;33m(\u001b[0m\u001b[0mmsg\u001b[0m\u001b[1;33m,\u001b[0m \u001b[0mcategory\u001b[0m\u001b[1;33m=\u001b[0m\u001b[0mFutureWarning\u001b[0m\u001b[1;33m)\u001b[0m\u001b[1;33m\u001b[0m\u001b[1;33m\u001b[0m\u001b[0m\n\u001b[1;32m---> 88\u001b[1;33m             \u001b[1;32mreturn\u001b[0m \u001b[0mfun\u001b[0m\u001b[1;33m(\u001b[0m\u001b[1;33m*\u001b[0m\u001b[0margs\u001b[0m\u001b[1;33m,\u001b[0m \u001b[1;33m**\u001b[0m\u001b[0mkwargs\u001b[0m\u001b[1;33m)\u001b[0m\u001b[1;33m\u001b[0m\u001b[1;33m\u001b[0m\u001b[0m\n\u001b[0m\u001b[0;32m     89\u001b[0m \u001b[1;33m\u001b[0m\u001b[0m\n\u001b[0;32m     90\u001b[0m         \u001b[0mwrapped\u001b[0m\u001b[1;33m.\u001b[0m\u001b[0m__doc__\u001b[0m \u001b[1;33m=\u001b[0m \u001b[0mself\u001b[0m\u001b[1;33m.\u001b[0m\u001b[0m_update_doc\u001b[0m\u001b[1;33m(\u001b[0m\u001b[0mwrapped\u001b[0m\u001b[1;33m.\u001b[0m\u001b[0m__doc__\u001b[0m\u001b[1;33m)\u001b[0m\u001b[1;33m\u001b[0m\u001b[1;33m\u001b[0m\u001b[0m\n",
      "\u001b[1;32mC:\\ProgramData\\Anaconda3\\lib\\site-packages\\sklearn\\utils\\__init__.py\u001b[0m in \u001b[0;36msafe_indexing\u001b[1;34m(X, indices, axis)\u001b[0m\n\u001b[0;32m    333\u001b[0m     \u001b[1;32mnot\u001b[0m \u001b[0msupported\u001b[0m\u001b[1;33m.\u001b[0m\u001b[1;33m\u001b[0m\u001b[1;33m\u001b[0m\u001b[0m\n\u001b[0;32m    334\u001b[0m     \"\"\"\n\u001b[1;32m--> 335\u001b[1;33m     \u001b[1;32mreturn\u001b[0m \u001b[0m_safe_indexing\u001b[0m\u001b[1;33m(\u001b[0m\u001b[0mX\u001b[0m\u001b[1;33m,\u001b[0m \u001b[0mindices\u001b[0m\u001b[1;33m,\u001b[0m \u001b[0maxis\u001b[0m\u001b[1;33m)\u001b[0m\u001b[1;33m\u001b[0m\u001b[1;33m\u001b[0m\u001b[0m\n\u001b[0m\u001b[0;32m    336\u001b[0m \u001b[1;33m\u001b[0m\u001b[0m\n\u001b[0;32m    337\u001b[0m \u001b[1;33m\u001b[0m\u001b[0m\n",
      "\u001b[1;32mC:\\ProgramData\\Anaconda3\\lib\\site-packages\\sklearn\\utils\\__init__.py\u001b[0m in \u001b[0;36m_safe_indexing\u001b[1;34m(X, indices, axis)\u001b[0m\n\u001b[0;32m    409\u001b[0m         \u001b[1;32mreturn\u001b[0m \u001b[0m_pandas_indexing\u001b[0m\u001b[1;33m(\u001b[0m\u001b[0mX\u001b[0m\u001b[1;33m,\u001b[0m \u001b[0mindices\u001b[0m\u001b[1;33m,\u001b[0m \u001b[0mindices_dtype\u001b[0m\u001b[1;33m,\u001b[0m \u001b[0maxis\u001b[0m\u001b[1;33m=\u001b[0m\u001b[0maxis\u001b[0m\u001b[1;33m)\u001b[0m\u001b[1;33m\u001b[0m\u001b[1;33m\u001b[0m\u001b[0m\n\u001b[0;32m    410\u001b[0m     \u001b[1;32melif\u001b[0m \u001b[0mhasattr\u001b[0m\u001b[1;33m(\u001b[0m\u001b[0mX\u001b[0m\u001b[1;33m,\u001b[0m \u001b[1;34m\"shape\"\u001b[0m\u001b[1;33m)\u001b[0m\u001b[1;33m:\u001b[0m\u001b[1;33m\u001b[0m\u001b[1;33m\u001b[0m\u001b[0m\n\u001b[1;32m--> 411\u001b[1;33m         \u001b[1;32mreturn\u001b[0m \u001b[0m_array_indexing\u001b[0m\u001b[1;33m(\u001b[0m\u001b[0mX\u001b[0m\u001b[1;33m,\u001b[0m \u001b[0mindices\u001b[0m\u001b[1;33m,\u001b[0m \u001b[0mindices_dtype\u001b[0m\u001b[1;33m,\u001b[0m \u001b[0maxis\u001b[0m\u001b[1;33m=\u001b[0m\u001b[0maxis\u001b[0m\u001b[1;33m)\u001b[0m\u001b[1;33m\u001b[0m\u001b[1;33m\u001b[0m\u001b[0m\n\u001b[0m\u001b[0;32m    412\u001b[0m     \u001b[1;32melse\u001b[0m\u001b[1;33m:\u001b[0m\u001b[1;33m\u001b[0m\u001b[1;33m\u001b[0m\u001b[0m\n\u001b[0;32m    413\u001b[0m         \u001b[1;32mreturn\u001b[0m \u001b[0m_list_indexing\u001b[0m\u001b[1;33m(\u001b[0m\u001b[0mX\u001b[0m\u001b[1;33m,\u001b[0m \u001b[0mindices\u001b[0m\u001b[1;33m,\u001b[0m \u001b[0mindices_dtype\u001b[0m\u001b[1;33m)\u001b[0m\u001b[1;33m\u001b[0m\u001b[1;33m\u001b[0m\u001b[0m\n",
      "\u001b[1;32mC:\\ProgramData\\Anaconda3\\lib\\site-packages\\sklearn\\utils\\__init__.py\u001b[0m in \u001b[0;36m_array_indexing\u001b[1;34m(array, key, key_dtype, axis)\u001b[0m\n\u001b[0;32m    195\u001b[0m     \u001b[1;32mif\u001b[0m \u001b[0misinstance\u001b[0m\u001b[1;33m(\u001b[0m\u001b[0mkey\u001b[0m\u001b[1;33m,\u001b[0m \u001b[0mtuple\u001b[0m\u001b[1;33m)\u001b[0m\u001b[1;33m:\u001b[0m\u001b[1;33m\u001b[0m\u001b[1;33m\u001b[0m\u001b[0m\n\u001b[0;32m    196\u001b[0m         \u001b[0mkey\u001b[0m \u001b[1;33m=\u001b[0m \u001b[0mlist\u001b[0m\u001b[1;33m(\u001b[0m\u001b[0mkey\u001b[0m\u001b[1;33m)\u001b[0m\u001b[1;33m\u001b[0m\u001b[1;33m\u001b[0m\u001b[0m\n\u001b[1;32m--> 197\u001b[1;33m     \u001b[1;32mreturn\u001b[0m \u001b[0marray\u001b[0m\u001b[1;33m[\u001b[0m\u001b[0mkey\u001b[0m\u001b[1;33m]\u001b[0m \u001b[1;32mif\u001b[0m \u001b[0maxis\u001b[0m \u001b[1;33m==\u001b[0m \u001b[1;36m0\u001b[0m \u001b[1;32melse\u001b[0m \u001b[0marray\u001b[0m\u001b[1;33m[\u001b[0m\u001b[1;33m:\u001b[0m\u001b[1;33m,\u001b[0m \u001b[0mkey\u001b[0m\u001b[1;33m]\u001b[0m\u001b[1;33m\u001b[0m\u001b[1;33m\u001b[0m\u001b[0m\n\u001b[0m\u001b[0;32m    198\u001b[0m \u001b[1;33m\u001b[0m\u001b[0m\n\u001b[0;32m    199\u001b[0m \u001b[1;33m\u001b[0m\u001b[0m\n",
      "\u001b[1;31mMemoryError\u001b[0m: "
     ]
    }
   ],
   "source": [
    "ros = RandomOverSampler(random_state=42)\n",
    "X_resampled, y_resampled = ros.fit_resample(X, y)"
   ]
  },
  {
   "cell_type": "code",
   "execution_count": 74,
   "metadata": {},
   "outputs": [
    {
     "name": "stdout",
     "output_type": "stream",
     "text": [
      "0.9986689616073141\n"
     ]
    }
   ],
   "source": [
    "ros_score = skf_score(X_resampled, y_resampled, 1729)\n",
    "print(ros_score)"
   ]
  },
  {
   "cell_type": "markdown",
   "metadata": {},
   "source": [
    "SMOTE"
   ]
  },
  {
   "cell_type": "code",
   "execution_count": 79,
   "metadata": {
    "scrolled": true
   },
   "outputs": [
    {
     "name": "stderr",
     "output_type": "stream",
     "text": [
      "C:\\ProgramData\\Anaconda3\\lib\\site-packages\\sklearn\\utils\\deprecation.py:87: FutureWarning: Function safe_indexing is deprecated; safe_indexing is deprecated in version 0.22 and will be removed in version 0.24.\n",
      "  warnings.warn(msg, category=FutureWarning)\n"
     ]
    }
   ],
   "source": [
    "smote = SMOTE(random_state=42)\n",
    "X_resampled, y_resampled = smote.fit_resample(X, y)"
   ]
  },
  {
   "cell_type": "code",
   "execution_count": 81,
   "metadata": {},
   "outputs": [
    {
     "data": {
      "text/plain": [
       "(356678, 500)"
      ]
     },
     "execution_count": 81,
     "metadata": {},
     "output_type": "execute_result"
    }
   ],
   "source": [
    "X.shape"
   ]
  },
  {
   "cell_type": "code",
   "execution_count": 86,
   "metadata": {},
   "outputs": [
    {
     "data": {
      "text/plain": [
       "(703534, 500)"
      ]
     },
     "execution_count": 86,
     "metadata": {},
     "output_type": "execute_result"
    }
   ],
   "source": [
    "X_resampled.shape"
   ]
  },
  {
   "cell_type": "code",
   "execution_count": 96,
   "metadata": {},
   "outputs": [
    {
     "data": {
      "text/plain": [
       "(500,)"
      ]
     },
     "execution_count": 96,
     "metadata": {},
     "output_type": "execute_result"
    }
   ],
   "source": [
    "X_resampled"
   ]
  },
  {
   "cell_type": "code",
   "execution_count": 97,
   "metadata": {},
   "outputs": [
    {
     "ename": "MemoryError",
     "evalue": "",
     "output_type": "error",
     "traceback": [
      "\u001b[1;31m---------------------------------------------------------------------------\u001b[0m",
      "\u001b[1;31mMemoryError\u001b[0m                               Traceback (most recent call last)",
      "\u001b[1;32m<ipython-input-97-42fdd399f590>\u001b[0m in \u001b[0;36m<module>\u001b[1;34m\u001b[0m\n\u001b[1;32m----> 1\u001b[1;33m \u001b[0msmote_score\u001b[0m \u001b[1;33m=\u001b[0m \u001b[0mskf_score\u001b[0m\u001b[1;33m(\u001b[0m\u001b[0mX_resampled\u001b[0m\u001b[1;33m,\u001b[0m \u001b[0my_resampled\u001b[0m\u001b[1;33m,\u001b[0m \u001b[1;36m1729\u001b[0m\u001b[1;33m)\u001b[0m\u001b[1;33m\u001b[0m\u001b[1;33m\u001b[0m\u001b[0m\n\u001b[0m\u001b[0;32m      2\u001b[0m \u001b[0mprint\u001b[0m\u001b[1;33m(\u001b[0m\u001b[0msmote_score\u001b[0m\u001b[1;33m)\u001b[0m\u001b[1;33m\u001b[0m\u001b[1;33m\u001b[0m\u001b[0m\n",
      "\u001b[1;32m<ipython-input-92-5b8be92c5525>\u001b[0m in \u001b[0;36mskf_score\u001b[1;34m(X, y, seed)\u001b[0m\n\u001b[0;32m     28\u001b[0m     \u001b[0mauc_l\u001b[0m \u001b[1;33m=\u001b[0m \u001b[1;33m[\u001b[0m\u001b[1;33m]\u001b[0m\u001b[1;33m\u001b[0m\u001b[1;33m\u001b[0m\u001b[0m\n\u001b[0;32m     29\u001b[0m     \u001b[1;32mfor\u001b[0m \u001b[0mtrain_index\u001b[0m\u001b[1;33m,\u001b[0m \u001b[0mtest_index\u001b[0m \u001b[1;32min\u001b[0m \u001b[0mSKF\u001b[0m\u001b[1;33m.\u001b[0m\u001b[0msplit\u001b[0m\u001b[1;33m(\u001b[0m\u001b[0mX\u001b[0m\u001b[1;33m,\u001b[0m \u001b[0my\u001b[0m\u001b[1;33m)\u001b[0m\u001b[1;33m:\u001b[0m\u001b[1;33m\u001b[0m\u001b[1;33m\u001b[0m\u001b[0m\n\u001b[1;32m---> 30\u001b[1;33m         \u001b[0mX_train\u001b[0m\u001b[1;33m,\u001b[0m \u001b[0mX_test\u001b[0m \u001b[1;33m=\u001b[0m \u001b[0mX\u001b[0m\u001b[1;33m[\u001b[0m\u001b[0mtrain_index\u001b[0m\u001b[1;33m]\u001b[0m\u001b[1;33m,\u001b[0m \u001b[0mX\u001b[0m\u001b[1;33m[\u001b[0m\u001b[0mtest_index\u001b[0m\u001b[1;33m]\u001b[0m\u001b[1;33m\u001b[0m\u001b[1;33m\u001b[0m\u001b[0m\n\u001b[0m\u001b[0;32m     31\u001b[0m         \u001b[0my_train\u001b[0m\u001b[1;33m,\u001b[0m \u001b[0my_test\u001b[0m \u001b[1;33m=\u001b[0m \u001b[0my\u001b[0m\u001b[1;33m[\u001b[0m\u001b[0mtrain_index\u001b[0m\u001b[1;33m]\u001b[0m\u001b[1;33m,\u001b[0m \u001b[0my\u001b[0m\u001b[1;33m[\u001b[0m\u001b[0mtest_index\u001b[0m\u001b[1;33m]\u001b[0m\u001b[1;33m\u001b[0m\u001b[1;33m\u001b[0m\u001b[0m\n\u001b[0;32m     32\u001b[0m         \u001b[0mX_train2\u001b[0m\u001b[1;33m,\u001b[0m \u001b[0mX_valid\u001b[0m\u001b[1;33m,\u001b[0m \u001b[0my_train2\u001b[0m\u001b[1;33m,\u001b[0m \u001b[0my_valid\u001b[0m \u001b[1;33m=\u001b[0m \u001b[0mtrain_test_split\u001b[0m\u001b[1;33m(\u001b[0m\u001b[0mX_train\u001b[0m\u001b[1;33m,\u001b[0m \u001b[0my_train\u001b[0m\u001b[1;33m,\u001b[0m \u001b[0mtest_size\u001b[0m\u001b[1;33m=\u001b[0m\u001b[1;36m0.3\u001b[0m\u001b[1;33m,\u001b[0m \u001b[0mrandom_state\u001b[0m\u001b[1;33m=\u001b[0m\u001b[0mseed\u001b[0m\u001b[1;33m,\u001b[0m \u001b[0mstratify\u001b[0m\u001b[1;33m=\u001b[0m\u001b[0my_train\u001b[0m\u001b[1;33m)\u001b[0m\u001b[1;33m\u001b[0m\u001b[1;33m\u001b[0m\u001b[0m\n",
      "\u001b[1;31mMemoryError\u001b[0m: "
     ]
    }
   ],
   "source": [
    "smote_score = skf_score(X_resampled, y_resampled, 1729)\n",
    "print(smote_score)"
   ]
  },
  {
   "cell_type": "markdown",
   "metadata": {},
   "source": [
    "LightGBM: scale_pos_weight"
   ]
  },
  {
   "cell_type": "code",
   "execution_count": null,
   "metadata": {},
   "outputs": [],
   "source": []
  }
 ],
 "metadata": {
  "accelerator": "GPU",
  "colab": {
   "collapsed_sections": [],
   "machine_shape": "hm",
   "name": "05.ipynb",
   "provenance": [],
   "toc_visible": true
  },
  "kernelspec": {
   "display_name": "Python 3",
   "language": "python",
   "name": "python3"
  },
  "language_info": {
   "codemirror_mode": {
    "name": "ipython",
    "version": 3
   },
   "file_extension": ".py",
   "mimetype": "text/x-python",
   "name": "python",
   "nbconvert_exporter": "python",
   "pygments_lexer": "ipython3",
   "version": "3.7.3"
  },
  "varInspector": {
   "cols": {
    "lenName": 16,
    "lenType": 16,
    "lenVar": 40
   },
   "kernels_config": {
    "python": {
     "delete_cmd_postfix": "",
     "delete_cmd_prefix": "del ",
     "library": "var_list.py",
     "varRefreshCmd": "print(var_dic_list())"
    },
    "r": {
     "delete_cmd_postfix": ") ",
     "delete_cmd_prefix": "rm(",
     "library": "var_list.r",
     "varRefreshCmd": "cat(var_dic_list()) "
    }
   },
   "position": {
    "height": "430.4px",
    "left": "913.4px",
    "right": "20px",
    "top": "26px",
    "width": "592.4px"
   },
   "types_to_exclude": [
    "module",
    "function",
    "builtin_function_or_method",
    "instance",
    "_Feature"
   ],
   "window_display": false
  }
 },
 "nbformat": 4,
 "nbformat_minor": 1
}
