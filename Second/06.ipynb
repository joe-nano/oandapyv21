{
 "cells": [
  {
   "cell_type": "markdown",
   "metadata": {
    "colab_type": "text",
    "id": "n-KIEW_zFlqN"
   },
   "source": [
    "## りふぁくたりんぐ"
   ]
  },
  {
   "cell_type": "code",
   "execution_count": null,
   "metadata": {
    "colab": {
     "base_uri": "https://localhost:8080/",
     "height": 35
    },
    "colab_type": "code",
    "executionInfo": {
     "elapsed": 4117,
     "status": "ok",
     "timestamp": 1575511209777,
     "user": {
      "displayName": "藤沼インザスカイ",
      "photoUrl": "https://lh3.googleusercontent.com/a-/AAuE7mBZx9Jngn7Zn55LfitMEs7hye6vu8Z3XrGCB0xA=s64",
      "userId": "11037617104425402084"
     },
     "user_tz": -540
    },
    "id": "jKZbyEmcFlp9",
    "outputId": "962ff52c-8d24-4c35-a30c-5014028b09c3"
   },
   "outputs": [
    {
     "name": "stderr",
     "output_type": "stream",
     "text": [
      "C:\\ProgramData\\Anaconda3\\lib\\site-packages\\sklearn\\externals\\joblib\\__init__.py:15: FutureWarning: sklearn.externals.joblib is deprecated in 0.21 and will be removed in 0.23. Please import this functionality directly from joblib, which can be installed with: pip install joblib. If this warning is raised when loading pickled models, you may need to re-serialize those models with scikit-learn 0.21+.\n",
      "  warnings.warn(msg, category=FutureWarning)\n",
      "C:\\ProgramData\\Anaconda3\\lib\\site-packages\\sklearn\\utils\\deprecation.py:144: FutureWarning: The sklearn.neighbors.base module is  deprecated in version 0.22 and will be removed in version 0.24. The corresponding classes / functions should instead be imported from sklearn.neighbors. Anything that cannot be imported from sklearn.neighbors is now part of the private API.\n",
      "  warnings.warn(message, FutureWarning)\n",
      "C:\\ProgramData\\Anaconda3\\lib\\site-packages\\sklearn\\utils\\deprecation.py:144: FutureWarning: The sklearn.ensemble.bagging module is  deprecated in version 0.22 and will be removed in version 0.24. The corresponding classes / functions should instead be imported from sklearn.ensemble. Anything that cannot be imported from sklearn.ensemble is now part of the private API.\n",
      "  warnings.warn(message, FutureWarning)\n",
      "C:\\ProgramData\\Anaconda3\\lib\\site-packages\\sklearn\\utils\\deprecation.py:144: FutureWarning: The sklearn.ensemble.base module is  deprecated in version 0.22 and will be removed in version 0.24. The corresponding classes / functions should instead be imported from sklearn.ensemble. Anything that cannot be imported from sklearn.ensemble is now part of the private API.\n",
      "  warnings.warn(message, FutureWarning)\n",
      "C:\\ProgramData\\Anaconda3\\lib\\site-packages\\sklearn\\utils\\deprecation.py:144: FutureWarning: The sklearn.ensemble.forest module is  deprecated in version 0.22 and will be removed in version 0.24. The corresponding classes / functions should instead be imported from sklearn.ensemble. Anything that cannot be imported from sklearn.ensemble is now part of the private API.\n",
      "  warnings.warn(message, FutureWarning)\n",
      "Using TensorFlow backend.\n"
     ]
    }
   ],
   "source": [
    "# ライブラリのインポート\n",
    "import pandas as pd\n",
    "import numpy as np\n",
    "import matplotlib.pyplot as plt\n",
    "%matplotlib inline\n",
    "plt.rcParams['font.family'] = 'IPAPGothic'\n",
    "from oandapyV20 import API\n",
    "from oandapyV20.exceptions import V20Error\n",
    "import oandapyV20.endpoints.instruments as instruments\n",
    "import datetime\n",
    "from statistics import mean\n",
    "from statistics import median\n",
    "import calendar\n",
    "import datetime\n",
    "from math import floor\n",
    "import time\n",
    "import threading\n",
    "import json\n",
    "import random\n",
    "from sklearn.model_selection import train_test_split\n",
    "import lightgbm as lgb\n",
    "from sklearn.externals.joblib import dump, load\n",
    "from sklearn import metrics\n",
    "from imblearn.under_sampling import RandomUnderSampler\n",
    "from imblearn.over_sampling import RandomOverSampler\n",
    "from imblearn.over_sampling import SMOTE\n",
    "import feather\n",
    "from sklearn.model_selection import KFold\n",
    "from sklearn.model_selection import StratifiedKFold\n",
    "from sklearn.model_selection import StratifiedShuffleSplit\n",
    "import warnings\n",
    "warnings.simplefilter('ignore')"
   ]
  },
  {
   "cell_type": "code",
   "execution_count": null,
   "metadata": {
    "colab": {},
    "colab_type": "code",
    "id": "9Sx3XMNHFlqB"
   },
   "outputs": [],
   "source": [
    "# OANDA API v20の口座IDとAPIトークン\n",
    "accountID = \"101-009-12789646-001\"\n",
    "access_token = \"1ab53171ce4413f408de6da28ea23089-6426c3d3cc947dba212b3766d1be45c6\"\n",
    "# OANDAのデモ口座へのAPI接続\n",
    "api = API(access_token=access_token, environment=\"practice\")"
   ]
  },
  {
   "cell_type": "markdown",
   "metadata": {
    "colab_type": "text",
    "id": "X4IVxsQMFlqD"
   },
   "source": [
    "### 怒濤の関数定義"
   ]
  },
  {
   "cell_type": "code",
   "execution_count": null,
   "metadata": {
    "colab": {},
    "colab_type": "code",
    "id": "Nzo2B2wxFlqD"
   },
   "outputs": [],
   "source": [
    "# APIから取得したレートをPandasのDataFrameへ\n",
    "def to_dataframe(r):\n",
    "    data = []\n",
    "    for raw in r.response['candles']:\n",
    "        data.append([raw['time'], raw['volume'], raw['mid']['o'], raw['mid']['h'], raw['mid']['l'], raw['mid']['c']])\n",
    "\n",
    "    # リストからPandas DataFrameへ変換\n",
    "    df = pd.DataFrame(data)\n",
    "    df.columns = ['Time', 'Volume', 'Open', 'High', 'Low', 'Close']\n",
    "    df['Time'] = pd.to_datetime(df['Time'])\n",
    "    for col in ['Open', 'High', 'Low', 'Close']:\n",
    "        df[col] = df[col].apply(float)\n",
    "    return df"
   ]
  },
  {
   "cell_type": "code",
   "execution_count": null,
   "metadata": {
    "colab": {},
    "colab_type": "code",
    "id": "_JfX1N4yFlqF"
   },
   "outputs": [],
   "source": [
    "def get_data(count, gran, year, month, day, hour, minute, second):\n",
    "    # OANDA API v20の口座IDとAPIトークン\n",
    "    accountID = \"101-009-12789646-001\"\n",
    "    access_token = \"1ab53171ce4413f408de6da28ea23089-6426c3d3cc947dba212b3766d1be45c6\"\n",
    "    # OANDAのデモ口座へのAPI接続\n",
    "    api = API(access_token=access_token, environment=\"practice\")\n",
    "    fmt = '%Y-%m-%dT%H:%M:00.000000Z'\n",
    "    _from = datetime.datetime(year=year, month=month, day=day,\n",
    "                              hour=hour, minute=minute, second=second).strftime(fmt)\n",
    "    params = {\n",
    "        \"count\": count,\n",
    "        \"granularity\": gran,\n",
    "        'from': _from,\n",
    "#         'dailyAlignment': 0\n",
    "    }\n",
    "    r = instruments.InstrumentsCandles(instrument=\"USD_JPY\", params=params)\n",
    "    api.request(r)\n",
    "    df = to_dataframe(r)\n",
    "    return df"
   ]
  },
  {
   "cell_type": "code",
   "execution_count": null,
   "metadata": {
    "colab": {},
    "colab_type": "code",
    "id": "aJ4AVCOhFlqH"
   },
   "outputs": [],
   "source": [
    "def get_data_super(start, end, gran):\n",
    "    # OANDA API v20の口座IDとAPIトークン\n",
    "    accountID = \"101-009-12789646-001\"\n",
    "    access_token = \"1ab53171ce4413f408de6da28ea23089-6426c3d3cc947dba212b3766d1be45c6\"\n",
    "    # OANDAのデモ口座へのAPI接続\n",
    "    api = API(access_token=access_token, environment=\"practice\")\n",
    "    # xxxx-xx-xx～xxxx-xx-xx の期間のデータを取得してデータフレームを返す\n",
    "    s_year, s_month, s_day, s_hour, s_minute, s_second = map(int, start.split('-'))\n",
    "    e_year, e_month, e_day, e_hour, e_minute, e_second = map(int, end.split('-'))\n",
    "    fmt = '%Y-%m-%dT%H:%M:00.000000Z'\n",
    "    from_ = datetime.datetime(year=s_year, month=s_month, day=s_day,\n",
    "                              hour=s_hour, minute=s_minute, second=s_second).strftime(fmt)\n",
    "    to_ = datetime.datetime(year=e_year, month=e_month, day=e_day,\n",
    "                            hour=e_hour, minute=e_minute, second=e_second).strftime(fmt)\n",
    "    to_dt = '{}-{}-{} {}:{}:{}'.format(e_year, e_month, e_day, e_hour, e_minute, e_second)\n",
    "    to_unix = datetime.datetime.strptime(to_dt, '%Y-%m-%d %H:%M:%S').timestamp()\n",
    "    df = pd.DataFrame()\n",
    "    # 5000個制限に引っかからなければこっちの処理\n",
    "    try:\n",
    "        params = {\n",
    "            \"granularity\": gran,\n",
    "            'from': from_,\n",
    "            'to': to_\n",
    "        }\n",
    "        r = instruments.InstrumentsCandles(instrument=\"USD_JPY\", params=params)\n",
    "        api.request(r)\n",
    "        df = to_dataframe(r)\n",
    "    # 引っかかればこっちの処理\n",
    "    except:\n",
    "        i = True\n",
    "        while i:\n",
    "            df_tmp = get_data(count=5000, gran=gran, year=s_year, month=s_month, day=s_day,\n",
    "                             hour=s_hour, minute=s_minute, second=s_second)\n",
    "            # ケツが同じなら止める (最新迄用)\n",
    "            if df.tail(1).reset_index(drop=True).equals(df_tmp.tail(1).reset_index(drop=True)):\n",
    "                print('stopped')\n",
    "                print(df.tail(1))\n",
    "                i = False\n",
    "            else:\n",
    "                df = pd.concat([df, df_tmp], ignore_index=True)\n",
    "                index = df_tmp.tail(1).index[0]\n",
    "                s_year = df_tmp.iat[index, 0].year\n",
    "                s_month = df_tmp.iat[index, 0].month\n",
    "                s_day = df_tmp.iat[index, 0].day\n",
    "                s_hour = df_tmp.iat[index, 0].hour\n",
    "                s_minute = (df_tmp.iat[index, 0].minute + 1) % 60\n",
    "                s_second = df_tmp.iat[index, 0].second\n",
    "                # print('{}-{}-{}-{}-{}-{}'.format(s_year, s_month, s_day, s_hour, s_minute, s_second))\n",
    "                # 5000個ずつ取得してエンドの unix 超えたら止める\n",
    "                if to_unix < df.iat[df.tail(1).index[0], 0].timestamp():\n",
    "                    # はみ出した分をここで切り落とす\n",
    "                    for i in range(len(df.index) - 5000, len(df.index)):\n",
    "                        if df.iat[i, 0].year == e_year and df.iat[i, 0].month == e_month and df.iat[i, 0].day == e_day:\n",
    "                            df = df[0:i]\n",
    "                            break\n",
    "                    i = False\n",
    "    # ボリンジャーバンドを追加\n",
    "    sigma = 1\n",
    "    df['BB20,+{}'.format(sigma)] = df['BB20,-{}'.format(sigma)] = 0\n",
    "    df['BB20,+{}'.format(sigma)] = df['BB20,+{}'.format(sigma)].apply(float)\n",
    "    df['BB20,-{}'.format(sigma)] = df['BB20,-{}'.format(sigma)].apply(float)\n",
    "    for i in range(20, len(df)):\n",
    "        df.iat[i, 6] = round(mean(df['Close'][i-20:i]) + (np.std(df['Close'][i-20:i]) * sigma), 3)\n",
    "        df.iat[i, 7] = round(mean(df['Close'][i-20:i]) - (np.std(df['Close'][i-20:i]) * sigma), 3)\n",
    "    # シグナル追加\n",
    "    df['Lシグナル'] = df['Sシグナル'] = 0\n",
    "    for i in range(len(df)):\n",
    "        if df.iat[i, 6] < df.iat[i, 5]:\n",
    "            df.iat[i, 8] = 1\n",
    "        if df.iat[i, 7] > df.iat[i, 5]:\n",
    "            df.iat[i, 9] = 1\n",
    "    # 移動平均追加\n",
    "    df['SMA20'] = 0\n",
    "    df['SMA20'] = df['SMA20'].apply(float)\n",
    "    for i in range(20, len(df)):\n",
    "        df.iat[i, 10] = round(mean(df['Close'][i-20:i]), 3)\n",
    "    # BB と SMA で参照した最初の分を落とす\n",
    "    df = df[20:]\n",
    "    df.reset_index(drop=True, inplace=True)\n",
    "    return df"
   ]
  },
  {
   "cell_type": "code",
   "execution_count": null,
   "metadata": {
    "scrolled": true
   },
   "outputs": [],
   "source": [
    "df = get_data_super('2010-01-01-00-00-00', '2019-07-01-00-00-00', 'H12')"
   ]
  },
  {
   "cell_type": "code",
   "execution_count": null,
   "metadata": {
    "scrolled": true
   },
   "outputs": [],
   "source": [
    "df"
   ]
  },
  {
   "cell_type": "code",
   "execution_count": null,
   "metadata": {},
   "outputs": [],
   "source": []
  }
 ],
 "metadata": {
  "accelerator": "GPU",
  "colab": {
   "collapsed_sections": [],
   "machine_shape": "hm",
   "name": "05.ipynb",
   "provenance": [],
   "toc_visible": true
  },
  "kernelspec": {
   "display_name": "Python 3",
   "language": "python",
   "name": "python3"
  },
  "language_info": {
   "codemirror_mode": {
    "name": "ipython",
    "version": 3
   },
   "file_extension": ".py",
   "mimetype": "text/x-python",
   "name": "python",
   "nbconvert_exporter": "python",
   "pygments_lexer": "ipython3",
   "version": "3.7.3"
  },
  "varInspector": {
   "cols": {
    "lenName": 16,
    "lenType": 16,
    "lenVar": 40
   },
   "kernels_config": {
    "python": {
     "delete_cmd_postfix": "",
     "delete_cmd_prefix": "del ",
     "library": "var_list.py",
     "varRefreshCmd": "print(var_dic_list())"
    },
    "r": {
     "delete_cmd_postfix": ") ",
     "delete_cmd_prefix": "rm(",
     "library": "var_list.r",
     "varRefreshCmd": "cat(var_dic_list()) "
    }
   },
   "position": {
    "height": "430.4px",
    "left": "913.4px",
    "right": "20px",
    "top": "26px",
    "width": "592.4px"
   },
   "types_to_exclude": [
    "module",
    "function",
    "builtin_function_or_method",
    "instance",
    "_Feature"
   ],
   "window_display": false
  }
 },
 "nbformat": 4,
 "nbformat_minor": 1
}
