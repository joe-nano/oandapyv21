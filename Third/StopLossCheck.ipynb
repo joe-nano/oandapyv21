{
 "cells": [
  {
   "cell_type": "markdown",
   "metadata": {},
   "source": [
    "# 損切オーダーテスト"
   ]
  },
  {
   "cell_type": "code",
   "execution_count": 9,
   "metadata": {},
   "outputs": [],
   "source": [
    "# ライブラリのインポート\n",
    "import pandas as pd\n",
    "import numpy as np\n",
    "import matplotlib.pyplot as plt\n",
    "import mpl_finance\n",
    "%matplotlib inline\n",
    "plt.rcParams['font.family'] = 'IPAPGothic'\n",
    "from oandapyV20 import API\n",
    "from oandapyV20.exceptions import V20Error\n",
    "import oandapyV20.endpoints.instruments as instruments\n",
    "import oandapyV20.endpoints.accounts as accounts\n",
    "import oandapyV20.endpoints.orders as orders\n",
    "import oandapyV20.endpoints.positions as positions\n",
    "import oandapyV20.endpoints.pricing as pricing\n",
    "from oandapyV20.endpoints.pricing import PricingInfo\n",
    "from oandapyV20.contrib.requests import (MarketOrderRequest, StopLossDetails)\n",
    "import datetime\n",
    "from statistics import mean\n",
    "from statistics import median\n",
    "import calendar\n",
    "import datetime\n",
    "from math import floor\n",
    "import schedule\n",
    "import time\n",
    "import threading\n",
    "import json"
   ]
  },
  {
   "cell_type": "code",
   "execution_count": 2,
   "metadata": {},
   "outputs": [],
   "source": [
    "# OANDA API v20の口座IDとAPIトークン(藤沼ver)\n",
    "accountID = \"101-009-12789646-001\"\n",
    "access_token = \"8c5facf670b1061d19fe2c9a0874663f-3fcf75eb5ab3078ad10a63015e2d22d7\"\n",
    "# OANDAのデモ口座へのAPI接続\n",
    "api = API(access_token=access_token, environment=\"practice\")"
   ]
  },
  {
   "cell_type": "code",
   "execution_count": 3,
   "metadata": {},
   "outputs": [],
   "source": [
    "# APIから取得したレートをPandasのDataFrameへ\n",
    "def to_dataframe(r):\n",
    "    data = []\n",
    "    for raw in r.response['candles']:\n",
    "        data.append([raw['time'], raw['volume'], raw['mid']['o'], raw['mid']['h'], raw['mid']['l'], raw['mid']['c']])\n",
    "\n",
    "    # リストからPandas DataFrameへ変換\n",
    "    df = pd.DataFrame(data)\n",
    "    df.columns = ['Time', 'Volume', 'Open', 'High', 'Low', 'Close']\n",
    "    df['Time'] = pd.to_datetime(df['Time'])\n",
    "    for col in ['Open', 'High', 'Low', 'Close']:\n",
    "        df[col] = df[col].apply(float)\n",
    "    return df"
   ]
  },
  {
   "cell_type": "code",
   "execution_count": 4,
   "metadata": {},
   "outputs": [],
   "source": [
    "def get_data(count, gran, year, month, day, hour, minute, second):\n",
    "    fmt = '%Y-%m-%dT%H:%M:00.000000Z'\n",
    "    _from = datetime.datetime(year=year, month=month, day=day,\n",
    "                              hour=hour, minute=minute, second=second).strftime(fmt)\n",
    "    params = {\n",
    "        \"count\": count,\n",
    "        \"granularity\": gran,\n",
    "        'from': _from,\n",
    "#         'dailyAlignment': 0\n",
    "    }\n",
    "    r = instruments.InstrumentsCandles(instrument=\"USD_JPY\", params=params)\n",
    "    api.request(r)\n",
    "    df = to_dataframe(r)\n",
    "    return df"
   ]
  },
  {
   "cell_type": "code",
   "execution_count": 5,
   "metadata": {},
   "outputs": [],
   "source": [
    "# 第何何曜日（第nX曜日）の日付を返す関数\n",
    "def get_day_of_nth_dow(year, month, nth, dow):\n",
    "    '''dow: Monday(0) - Sunday(6)'''\n",
    "    if nth < 1 or dow < 0 or dow > 6:\n",
    "        return None\n",
    "\n",
    "    first_dow, n = calendar.monthrange(year, month)\n",
    "    day = 7 * (nth - 1) + (dow - first_dow) % 7 + 1\n",
    "\n",
    "    return day if day <= n else None"
   ]
  },
  {
   "cell_type": "code",
   "execution_count": 6,
   "metadata": {},
   "outputs": [],
   "source": [
    "def get_data_super(start, end, gran):\n",
    "    try:\n",
    "        # OANDA API v20の口座IDとAPIトークン(藤沼ver)\n",
    "        accountID = \"101-009-12789646-001\"\n",
    "        access_token = \"8c5facf670b1061d19fe2c9a0874663f-3fcf75eb5ab3078ad10a63015e2d22d7\"\n",
    "        # OANDAのデモ口座へのAPI接続\n",
    "        api = API(access_token=access_token, environment=\"practice\")\n",
    "        # xxxx-xx-xx～xxxx-xx-xx の期間のデータを取得してデータフレームを返す\n",
    "        s_year, s_month, s_day, s_hour, s_minute, s_second = map(int, start.split('-'))\n",
    "        e_year, e_month, e_day, e_hour, e_minute, e_second = map(int, end.split('-'))\n",
    "        fmt = '%Y-%m-%dT%H:%M:00.000000Z'\n",
    "        from_ = datetime.datetime(year=s_year, month=s_month, day=s_day,\n",
    "                                  hour=s_hour, minute=s_minute, second=s_second).strftime(fmt)\n",
    "        to_ = datetime.datetime(year=e_year, month=e_month, day=e_day,\n",
    "                                hour=e_hour, minute=e_minute, second=e_second).strftime(fmt)\n",
    "        to_dt = '{}-{}-{} {}:{}:{}'.format(e_year, e_month, e_day, e_hour, e_minute, e_second)\n",
    "        to_unix = datetime.datetime.strptime(to_dt, '%Y-%m-%d %H:%M:%S').timestamp()\n",
    "        df = pd.DataFrame()\n",
    "        # 5000個制限に引っかからなければこっちの処理\n",
    "        try:\n",
    "            params = {\n",
    "                \"granularity\": gran,\n",
    "                'from': from_,\n",
    "                'to': to_\n",
    "            }\n",
    "            r = instruments.InstrumentsCandles(instrument=\"USD_JPY\", params=params)\n",
    "            api.request(r)\n",
    "            df = to_dataframe(r)\n",
    "        # 引っかかればこっちの処理\n",
    "        except:\n",
    "            i = True\n",
    "            while i:\n",
    "                df_tmp = get_data(count=5000, gran=gran, year=s_year, month=s_month, day=s_day,\n",
    "                                 hour=s_hour, minute=s_minute, second=s_second)\n",
    "                # ケツが同じなら止める (最新迄用)\n",
    "                if df.tail(1).reset_index(drop=True).equals(df_tmp.tail(1).reset_index(drop=True)):\n",
    "                    i = False\n",
    "                else:\n",
    "                    df = pd.concat([df, df_tmp[:-1]], ignore_index=True)\n",
    "                    index = df_tmp.tail(1).index[0]\n",
    "                    s_year = df_tmp.iat[index, 0].year\n",
    "                    s_month = df_tmp.iat[index, 0].month\n",
    "                    s_day = df_tmp.iat[index, 0].day\n",
    "                    s_hour = df_tmp.iat[index, 0].hour\n",
    "                    s_minute = df_tmp.iat[index, 0].minute\n",
    "                    s_second = df_tmp.iat[index, 0].second\n",
    "                    # 5000個ずつ取得してエンドの unix 超えたら止める\n",
    "                    if to_unix < df.iat[df.tail(1).index[0], 0].timestamp():\n",
    "                        # はみ出した分をここで切り落とす\n",
    "                        for i in range(len(df.index) - 5000, len(df.index)):\n",
    "                            if to_unix <= df.iat[i, 0].timestamp():\n",
    "                                df = df[:i]\n",
    "                                break\n",
    "                        i = False\n",
    "    except ConnectionError:\n",
    "        time.sleep(5)\n",
    "        get_data_super(start, end, gran)\n",
    "    return df"
   ]
  },
  {
   "cell_type": "markdown",
   "metadata": {},
   "source": [
    "## 口座情報の取得"
   ]
  },
  {
   "cell_type": "code",
   "execution_count": 7,
   "metadata": {
    "scrolled": true
   },
   "outputs": [
    {
     "data": {
      "text/plain": [
       "{'account': {'guaranteedStopLossOrderMode': 'DISABLED',\n",
       "  'hedgingEnabled': False,\n",
       "  'id': '101-009-12789646-001',\n",
       "  'createdTime': '2019-11-26T09:10:00.745193269Z',\n",
       "  'currency': 'JPY',\n",
       "  'createdByUserID': 12789646,\n",
       "  'alias': 'Primary',\n",
       "  'marginRate': '0.04',\n",
       "  'lastTransactionID': '31',\n",
       "  'balance': '2999994.1358',\n",
       "  'openTradeCount': 0,\n",
       "  'openPositionCount': 0,\n",
       "  'pendingOrderCount': 0,\n",
       "  'pl': '-5.8642',\n",
       "  'resettablePL': '-5.8642',\n",
       "  'resettablePLTime': '0',\n",
       "  'financing': '0.0000',\n",
       "  'commission': '0.0000',\n",
       "  'dividendAdjustment': '0',\n",
       "  'guaranteedExecutionFees': '0.0000',\n",
       "  'unrealizedPL': '0.0000',\n",
       "  'NAV': '2999994.1358',\n",
       "  'marginUsed': '0.0000',\n",
       "  'marginAvailable': '2999994.1358',\n",
       "  'positionValue': '0.0000',\n",
       "  'marginCloseoutUnrealizedPL': '0.0000',\n",
       "  'marginCloseoutNAV': '2999994.1358',\n",
       "  'marginCloseoutMarginUsed': '0.0000',\n",
       "  'marginCloseoutPositionValue': '0.0000',\n",
       "  'marginCloseoutPercent': '0.00000',\n",
       "  'withdrawalLimit': '2999994.1358'},\n",
       " 'lastTransactionID': '31'}"
      ]
     },
     "execution_count": 7,
     "metadata": {},
     "output_type": "execute_result"
    }
   ],
   "source": [
    "# OANDA API v20の口座IDとAPIトークン(藤沼ver)\n",
    "accountID = \"101-009-12789646-001\"\n",
    "access_token = \"8c5facf670b1061d19fe2c9a0874663f-3fcf75eb5ab3078ad10a63015e2d22d7\"\n",
    "# OANDAのデモ口座へのAPI接続\n",
    "api = API(access_token=access_token, environment=\"practice\")\n",
    "s = accounts.AccountSummary(accountID)\n",
    "api.request(s)"
   ]
  },
  {
   "cell_type": "markdown",
   "metadata": {},
   "source": [
    "## 決済"
   ]
  },
  {
   "cell_type": "code",
   "execution_count": 36,
   "metadata": {
    "scrolled": true
   },
   "outputs": [
    {
     "data": {
      "text/plain": [
       "{'longOrderCreateTransaction': {'type': 'MARKET_ORDER',\n",
       "  'instrument': 'USD_JPY',\n",
       "  'units': '-3',\n",
       "  'timeInForce': 'FOK',\n",
       "  'positionFill': 'REDUCE_ONLY',\n",
       "  'reason': 'POSITION_CLOSEOUT',\n",
       "  'longPositionCloseout': {'instrument': 'USD_JPY', 'units': 'ALL'},\n",
       "  'id': '49',\n",
       "  'accountID': '101-009-12609641-001',\n",
       "  'userID': 12609641,\n",
       "  'batchID': '49',\n",
       "  'requestID': '24617877358095536',\n",
       "  'time': '2019-11-22T03:07:24.252384609Z'},\n",
       " 'longOrderFillTransaction': {'type': 'ORDER_FILL',\n",
       "  'orderID': '49',\n",
       "  'instrument': 'USD_JPY',\n",
       "  'units': '-3',\n",
       "  'requestedUnits': '-3',\n",
       "  'price': '108.619',\n",
       "  'pl': '0.0020',\n",
       "  'financing': '0.0000',\n",
       "  'commission': '0.0000',\n",
       "  'accountBalance': '2998261.1548',\n",
       "  'gainQuoteHomeConversionFactor': '1',\n",
       "  'lossQuoteHomeConversionFactor': '1',\n",
       "  'guaranteedExecutionFee': '0.0000',\n",
       "  'halfSpreadCost': '0.0060',\n",
       "  'fullVWAP': '108.619',\n",
       "  'reason': 'MARKET_ORDER_POSITION_CLOSEOUT',\n",
       "  'tradesClosed': [{'tradeID': '44',\n",
       "    'units': '-1',\n",
       "    'realizedPL': '-0.0020',\n",
       "    'financing': '0.0000',\n",
       "    'price': '108.619',\n",
       "    'guaranteedExecutionFee': '0.0000',\n",
       "    'halfSpreadCost': '0.0020'},\n",
       "   {'tradeID': '46',\n",
       "    'units': '-1',\n",
       "    'realizedPL': '0.0030',\n",
       "    'financing': '0.0000',\n",
       "    'price': '108.619',\n",
       "    'guaranteedExecutionFee': '0.0000',\n",
       "    'halfSpreadCost': '0.0020'},\n",
       "   {'tradeID': '48',\n",
       "    'units': '-1',\n",
       "    'realizedPL': '0.0010',\n",
       "    'financing': '0.0000',\n",
       "    'price': '108.619',\n",
       "    'guaranteedExecutionFee': '0.0000',\n",
       "    'halfSpreadCost': '0.0020'}],\n",
       "  'fullPrice': {'closeoutBid': '108.599',\n",
       "   'closeoutAsk': '108.643',\n",
       "   'timestamp': '2019-11-22T03:07:23.129929276Z',\n",
       "   'bids': [{'price': '108.619', 'liquidity': '250000'}],\n",
       "   'asks': [{'price': '108.623', 'liquidity': '250000'}]},\n",
       "  'id': '50',\n",
       "  'accountID': '101-009-12609641-001',\n",
       "  'userID': 12609641,\n",
       "  'batchID': '49',\n",
       "  'requestID': '24617877358095536',\n",
       "  'time': '2019-11-22T03:07:24.252384609Z'},\n",
       " 'relatedTransactionIDs': ['49', '50'],\n",
       " 'lastTransactionID': '50'}"
      ]
     },
     "execution_count": 36,
     "metadata": {},
     "output_type": "execute_result"
    }
   ],
   "source": [
    "position_data = { \"longUnits\": \"ALL\" }\n",
    "p = positions.PositionClose( accountID=accountID, data=position_data, instrument=\"USD_JPY\" )\n",
    "api.request(p)\n",
    "p.response"
   ]
  },
  {
   "cell_type": "markdown",
   "metadata": {},
   "source": [
    "## 現在価格の取得"
   ]
  },
  {
   "cell_type": "code",
   "execution_count": 10,
   "metadata": {
    "scrolled": false
   },
   "outputs": [
    {
     "data": {
      "text/plain": [
       "{'time': '2020-01-12T12:50:52.533807970Z',\n",
       " 'prices': [{'type': 'PRICE',\n",
       "   'time': '2020-01-11T01:38:09.032101131Z',\n",
       "   'bids': [{'price': '109.453', 'liquidity': 250000}],\n",
       "   'asks': [{'price': '109.489', 'liquidity': 250000}],\n",
       "   'closeoutBid': '109.445',\n",
       "   'closeoutAsk': '109.497',\n",
       "   'status': 'non-tradeable',\n",
       "   'tradeable': False,\n",
       "   'unitsAvailable': {'default': {'long': '250000', 'short': '250000'},\n",
       "    'openOnly': {'long': '250000', 'short': '250000'},\n",
       "    'reduceFirst': {'long': '250000', 'short': '250000'},\n",
       "    'reduceOnly': {'long': '0', 'short': '0'}},\n",
       "   'quoteHomeConversionFactors': {'positiveUnits': '1.00000000',\n",
       "    'negativeUnits': '1.00000000'},\n",
       "   'instrument': 'USD_JPY'}]}"
      ]
     },
     "execution_count": 10,
     "metadata": {},
     "output_type": "execute_result"
    }
   ],
   "source": [
    "params = {\"instruments\": \"USD_JPY\"}\n",
    "pi = PricingInfo(accountID=accountID, params=params)\n",
    "api.request(pi)"
   ]
  },
  {
   "cell_type": "code",
   "execution_count": 14,
   "metadata": {
    "scrolled": false
   },
   "outputs": [
    {
     "data": {
      "text/plain": [
       "109.489"
      ]
     },
     "execution_count": 14,
     "metadata": {},
     "output_type": "execute_result"
    }
   ],
   "source": [
    "# ロング価格\n",
    "float(pi.response['prices'][0]['asks'][0]['price'])"
   ]
  },
  {
   "cell_type": "code",
   "execution_count": 15,
   "metadata": {},
   "outputs": [
    {
     "data": {
      "text/plain": [
       "109.453"
      ]
     },
     "execution_count": 15,
     "metadata": {},
     "output_type": "execute_result"
    }
   ],
   "source": [
    "# ショート価格\n",
    "float(pi.response['prices'][0]['bids'][0]['price'])"
   ]
  },
  {
   "cell_type": "markdown",
   "metadata": {},
   "source": [
    "## 現在のポジションを取得"
   ]
  },
  {
   "cell_type": "code",
   "execution_count": 43,
   "metadata": {
    "scrolled": true
   },
   "outputs": [
    {
     "data": {
      "text/plain": [
       "{'positions': [], 'lastTransactionID': '43'}"
      ]
     },
     "execution_count": 43,
     "metadata": {},
     "output_type": "execute_result"
    }
   ],
   "source": [
    "# OANDA API v20の口座IDとAPIトークン(藤沼ver)\n",
    "accountID = \"101-009-12789646-001\"\n",
    "access_token = \"8c5facf670b1061d19fe2c9a0874663f-3fcf75eb5ab3078ad10a63015e2d22d7\"\n",
    "# OANDAのデモ口座へのAPI接続\n",
    "api = API(access_token=access_token, environment=\"practice\")\n",
    "p = positions.OpenPositions(accountID=accountID)\n",
    "api.request(p)"
   ]
  },
  {
   "cell_type": "markdown",
   "metadata": {},
   "source": [
    "## オーダー"
   ]
  },
  {
   "cell_type": "markdown",
   "metadata": {},
   "source": [
    "### 成り行き"
   ]
  },
  {
   "cell_type": "code",
   "execution_count": 98,
   "metadata": {
    "scrolled": true
   },
   "outputs": [
    {
     "data": {
      "text/plain": [
       "{'orderCreateTransaction': {'type': 'MARKET_ORDER',\n",
       "  'instrument': 'USD_JPY',\n",
       "  'units': '1',\n",
       "  'timeInForce': 'FOK',\n",
       "  'positionFill': 'DEFAULT',\n",
       "  'reason': 'CLIENT_ORDER',\n",
       "  'id': '55',\n",
       "  'accountID': '101-009-12609641-001',\n",
       "  'userID': 12609641,\n",
       "  'batchID': '55',\n",
       "  'requestID': '24617943972983195',\n",
       "  'time': '2019-11-22T07:32:06.276523698Z'},\n",
       " 'orderFillTransaction': {'type': 'ORDER_FILL',\n",
       "  'orderID': '55',\n",
       "  'instrument': 'USD_JPY',\n",
       "  'units': '1',\n",
       "  'requestedUnits': '1',\n",
       "  'price': '108.578',\n",
       "  'pl': '0.0000',\n",
       "  'financing': '0.0000',\n",
       "  'commission': '0.0000',\n",
       "  'accountBalance': '2998261.1808',\n",
       "  'gainQuoteHomeConversionFactor': '1',\n",
       "  'lossQuoteHomeConversionFactor': '1',\n",
       "  'guaranteedExecutionFee': '0.0000',\n",
       "  'halfSpreadCost': '0.0020',\n",
       "  'fullVWAP': '108.578',\n",
       "  'reason': 'MARKET_ORDER',\n",
       "  'tradeOpened': {'price': '108.578',\n",
       "   'tradeID': '56',\n",
       "   'units': '1',\n",
       "   'guaranteedExecutionFee': '0.0000',\n",
       "   'halfSpreadCost': '0.0020',\n",
       "   'initialMarginRequired': '4.3430'},\n",
       "  'fullPrice': {'closeoutBid': '108.556',\n",
       "   'closeoutAsk': '108.597',\n",
       "   'timestamp': '2019-11-22T07:30:20.669544244Z',\n",
       "   'bids': [{'price': '108.574', 'liquidity': '250000'}],\n",
       "   'asks': [{'price': '108.578', 'liquidity': '250000'}]},\n",
       "  'id': '56',\n",
       "  'accountID': '101-009-12609641-001',\n",
       "  'userID': 12609641,\n",
       "  'batchID': '55',\n",
       "  'requestID': '24617943972983195',\n",
       "  'time': '2019-11-22T07:32:06.276523698Z'},\n",
       " 'relatedTransactionIDs': ['55', '56'],\n",
       " 'lastTransactionID': '56'}"
      ]
     },
     "execution_count": 98,
     "metadata": {},
     "output_type": "execute_result"
    }
   ],
   "source": [
    "data = {\n",
    "  \"order\": {\n",
    "    \"instrument\": \"USD_JPY\",\n",
    "    \"units\": \"+1\",\n",
    "    \"type\": \"MARKET\",\n",
    "    \"positionFill\": \"DEFAULT\"\n",
    "  }\n",
    "}\n",
    "o = orders.OrderCreate(accountID, data=data)\n",
    "api.request(o)\n",
    "o.response"
   ]
  },
  {
   "cell_type": "markdown",
   "metadata": {},
   "source": [
    "### 損切\n",
    "シグナル点灯 => 現在価格の取得 => 損切ラインの算出 => オーダー"
   ]
  },
  {
   "cell_type": "code",
   "execution_count": 39,
   "metadata": {},
   "outputs": [],
   "source": [
    "# 現在価格の取得\n",
    "accountID = \"101-009-12789646-001\"\n",
    "access_token = \"8c5facf670b1061d19fe2c9a0874663f-3fcf75eb5ab3078ad10a63015e2d22d7\"\n",
    "api = API(access_token=access_token, environment=\"practice\")\n",
    "\n",
    "params = {\"instruments\": \"USD_JPY\"}\n",
    "pi = PricingInfo(accountID=accountID, params=params)\n",
    "api.request(pi)\n",
    "# ロング価格\n",
    "long_p = float(pi.response['prices'][0]['asks'][0]['price'])\n",
    "# ショート価格\n",
    "short_p = float(pi.response['prices'][0]['bids'][0]['price'])"
   ]
  },
  {
   "cell_type": "code",
   "execution_count": 40,
   "metadata": {},
   "outputs": [
    {
     "data": {
      "text/plain": [
       "(109.522, 109.722)"
      ]
     },
     "execution_count": 40,
     "metadata": {},
     "output_type": "execute_result"
    }
   ],
   "source": [
    "# 損切ラインの算出(c pips)\n",
    "fee = 0.002\n",
    "c = 10\n",
    "long_c = round(long_p - fee - c/100, 3)\n",
    "short_c = round(short_p + fee + c/100, 3)\n",
    "long_c, short_c"
   ]
  },
  {
   "cell_type": "code",
   "execution_count": 41,
   "metadata": {
    "scrolled": true
   },
   "outputs": [
    {
     "data": {
      "text/plain": [
       "{'orderCreateTransaction': {'type': 'MARKET_ORDER',\n",
       "  'instrument': 'USD_JPY',\n",
       "  'units': '-10',\n",
       "  'timeInForce': 'FOK',\n",
       "  'positionFill': 'DEFAULT',\n",
       "  'stopLossOnFill': {'price': '109.722', 'timeInForce': 'GTC'},\n",
       "  'reason': 'CLIENT_ORDER',\n",
       "  'id': '38',\n",
       "  'accountID': '101-009-12789646-001',\n",
       "  'userID': 12789646,\n",
       "  'batchID': '38',\n",
       "  'requestID': '42651119405470821',\n",
       "  'time': '2020-01-13T03:04:53.472551547Z'},\n",
       " 'orderFillTransaction': {'type': 'ORDER_FILL',\n",
       "  'orderID': '38',\n",
       "  'instrument': 'USD_JPY',\n",
       "  'units': '-10',\n",
       "  'requestedUnits': '-10',\n",
       "  'price': '109.620',\n",
       "  'pl': '0.0000',\n",
       "  'financing': '0.0000',\n",
       "  'commission': '0.0000',\n",
       "  'accountBalance': '2999994.0458',\n",
       "  'gainQuoteHomeConversionFactor': '1',\n",
       "  'lossQuoteHomeConversionFactor': '1',\n",
       "  'guaranteedExecutionFee': '0.0000',\n",
       "  'halfSpreadCost': '0.0200',\n",
       "  'fullVWAP': '109.620',\n",
       "  'reason': 'MARKET_ORDER',\n",
       "  'tradeOpened': {'price': '109.620',\n",
       "   'tradeID': '39',\n",
       "   'units': '-10',\n",
       "   'guaranteedExecutionFee': '0.0000',\n",
       "   'halfSpreadCost': '0.0200',\n",
       "   'initialMarginRequired': '43.8488'},\n",
       "  'fullPrice': {'closeoutBid': '109.616',\n",
       "   'closeoutAsk': '109.628',\n",
       "   'timestamp': '2020-01-13T03:04:26.071261558Z',\n",
       "   'bids': [{'price': '109.620', 'liquidity': '250000'}],\n",
       "   'asks': [{'price': '109.624', 'liquidity': '250000'}]},\n",
       "  'id': '39',\n",
       "  'accountID': '101-009-12789646-001',\n",
       "  'userID': 12789646,\n",
       "  'batchID': '38',\n",
       "  'requestID': '42651119405470821',\n",
       "  'time': '2020-01-13T03:04:53.472551547Z'},\n",
       " 'relatedTransactionIDs': ['38', '39', '40'],\n",
       " 'lastTransactionID': '40'}"
      ]
     },
     "execution_count": 41,
     "metadata": {},
     "output_type": "execute_result"
    }
   ],
   "source": [
    "# オーダー\n",
    "stopLossOnFill = StopLossDetails(price=short_c)\n",
    "ordr = MarketOrderRequest(\n",
    "    instrument=\"USD_JPY\",\n",
    "    units=-10,\n",
    "    stopLossOnFill=stopLossOnFill.data\n",
    ")\n",
    "o = orders.OrderCreate(accountID, data=ordr.data)\n",
    "api.request(o)"
   ]
  },
  {
   "cell_type": "markdown",
   "metadata": {},
   "source": [
    "## 過去ポジションの取得"
   ]
  },
  {
   "cell_type": "code",
   "execution_count": 48,
   "metadata": {
    "scrolled": true
   },
   "outputs": [
    {
     "data": {
      "text/plain": [
       "{'trade': {'id': '39',\n",
       "  'instrument': 'USD_JPY',\n",
       "  'price': '109.620',\n",
       "  'openTime': '2020-01-13T03:04:53.472551547Z',\n",
       "  'initialUnits': '-10',\n",
       "  'initialMarginRequired': '43.8488',\n",
       "  'state': 'CLOSED',\n",
       "  'currentUnits': '0',\n",
       "  'realizedPL': '-0.0400',\n",
       "  'closingTransactionIDs': ['42'],\n",
       "  'financing': '0.0000',\n",
       "  'dividendAdjustment': '0.0000',\n",
       "  'closeTime': '2020-01-13T03:05:12.664421513Z',\n",
       "  'averageClosePrice': '109.624',\n",
       "  'stopLossOrder': {'id': '40',\n",
       "   'createTime': '2020-01-13T03:04:53.472551547Z',\n",
       "   'type': 'STOP_LOSS',\n",
       "   'tradeID': '39',\n",
       "   'price': '109.722',\n",
       "   'guaranteed': False,\n",
       "   'timeInForce': 'GTC',\n",
       "   'triggerCondition': 'DEFAULT',\n",
       "   'state': 'CANCELLED',\n",
       "   'cancellingTransactionID': '43',\n",
       "   'cancelledTime': '2020-01-13T03:05:12.664421513Z'}},\n",
       " 'lastTransactionID': '43'}"
      ]
     },
     "execution_count": 48,
     "metadata": {},
     "output_type": "execute_result"
    }
   ],
   "source": [
    "import oandapyV20.endpoints.trades as trades\n",
    "r = trades.TradeDetails(accountID, tradeID='39')\n",
    "api.request(r)\n",
    "r.response"
   ]
  },
  {
   "cell_type": "code",
   "execution_count": 51,
   "metadata": {},
   "outputs": [
    {
     "data": {
      "text/plain": [
       "'-0.0400'"
      ]
     },
     "execution_count": 51,
     "metadata": {},
     "output_type": "execute_result"
    }
   ],
   "source": [
    "r.response['trade']['realizedPL']"
   ]
  },
  {
   "cell_type": "code",
   "execution_count": null,
   "metadata": {},
   "outputs": [],
   "source": []
  }
 ],
 "metadata": {
  "kernelspec": {
   "display_name": "Python 3",
   "language": "python",
   "name": "python3"
  },
  "language_info": {
   "codemirror_mode": {
    "name": "ipython",
    "version": 3
   },
   "file_extension": ".py",
   "mimetype": "text/x-python",
   "name": "python",
   "nbconvert_exporter": "python",
   "pygments_lexer": "ipython3",
   "version": "3.7.3"
  },
  "toc": {
   "base_numbering": 1,
   "nav_menu": {},
   "number_sections": true,
   "sideBar": true,
   "skip_h1_title": false,
   "title_cell": "Table of Contents",
   "title_sidebar": "Contents",
   "toc_cell": false,
   "toc_position": {},
   "toc_section_display": true,
   "toc_window_display": true
  },
  "varInspector": {
   "cols": {
    "lenName": 16,
    "lenType": 16,
    "lenVar": 40
   },
   "kernels_config": {
    "python": {
     "delete_cmd_postfix": "",
     "delete_cmd_prefix": "del ",
     "library": "var_list.py",
     "varRefreshCmd": "print(var_dic_list())"
    },
    "r": {
     "delete_cmd_postfix": ") ",
     "delete_cmd_prefix": "rm(",
     "library": "var_list.r",
     "varRefreshCmd": "cat(var_dic_list()) "
    }
   },
   "types_to_exclude": [
    "module",
    "function",
    "builtin_function_or_method",
    "instance",
    "_Feature"
   ],
   "window_display": false
  }
 },
 "nbformat": 4,
 "nbformat_minor": 2
}
